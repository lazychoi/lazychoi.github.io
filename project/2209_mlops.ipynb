{
 "cells": [
  {
   "cell_type": "raw",
   "id": "3d6cb9ba",
   "metadata": {},
   "source": [
    "---\n",
    "title: \"구리 최종 프로젝트 - MLOps 시스템 구축\"\n",
    "date: 2022/09/29\n",
    "date-modified: last-modified\n",
    "---"
   ]
  },
  {
   "cell_type": "markdown",
   "id": "d5979ffa",
   "metadata": {},
   "source": [
    "[프로젝트 git repository](https://github.com/guri-tech/ML-Backend-Server)\n",
    "\n",
    "성실함에 있어서 둘째가라면 서러워할 만한 팀원들과 다소 불친절하지만 많은 걸 도와주려고 하는 멘토와 두 달 가량 몰두했던 최종 프로젝트다. 구글 클라우드 머신에 접속하는 시작부터 마추진 온갖 에러 메시지를 처리하는 게 일상이었던 날들이었다. PostgreSQL, FastAPI, mlfow, minio, Prefect, RedisAI, docker 등을 익히느라 하루하루가 모자랐다. 계획했던 쿠버네티스 구현은 성공하지 못해 깃허브가 develop 단계에서 멈춘 데 아쉬움이 남지만 자료수집을 제외한 머신러닝의 처음부터 마지막까지를 구축해보는 좋은 경험이었다."
   ]
  },
  {
   "cell_type": "markdown",
   "id": "929f18e2",
   "metadata": {},
   "source": [
    "![](images/guri_mlops01.png)\n",
    "![](images/guri_mlops02.png)\n",
    "![](images/guri_mlops03.png)\n",
    "![](images/guri_mlops04.png)\n",
    "![](images/guri_mlops05.png)\n",
    "![](images/guri_mlops06.png)\n",
    "![](images/guri_mlops07.png)\n",
    "![](images/guri_mlops08.png)\n",
    "![](images/guri_mlops09.png)\n",
    "![](images/guri_mlops10.png)\n",
    "![](images/guri_mlops11.png)\n",
    "![](images/guri_mlops12.png)\n",
    "![](images/guri_mlops13.png)\n",
    "![](images/guri_mlops14.png)\n",
    "![](images/guri_mlops15.png)\n",
    "![](images/guri_mlops16.png)\n",
    "![](images/guri_mlops17.png)\n",
    "![](images/guri_mlops18.png)\n",
    "![](images/guri_mlops19.png)\n",
    "![](images/guri_mlops20.png)\n",
    "![](images/guri_mlops21.png)\n",
    "![](images/guri_mlops22.png)\n",
    "![](images/guri_mlops23.png)\n",
    "![](images/guri_mlops24.png)\n",
    "![](images/guri_mlops25.png)\n",
    "![](images/guri_mlops26.png)\n",
    "![](images/guri_mlops27.png)\n",
    "![](images/guri_mlops28.png)"
   ]
  }
 ],
 "metadata": {
  "kernelspec": {
   "display_name": "Python 3 (ipykernel)",
   "language": "python",
   "name": "python3"
  },
  "language_info": {
   "codemirror_mode": {
    "name": "ipython",
    "version": 3
   },
   "file_extension": ".py",
   "mimetype": "text/x-python",
   "name": "python",
   "nbconvert_exporter": "python",
   "pygments_lexer": "ipython3",
   "version": "3.9.12"
  },
  "toc": {
   "base_numbering": 1,
   "nav_menu": {},
   "number_sections": true,
   "sideBar": true,
   "skip_h1_title": false,
   "title_cell": "Table of Contents",
   "title_sidebar": "Contents",
   "toc_cell": false,
   "toc_position": {},
   "toc_section_display": true,
   "toc_window_display": true
  },
  "varInspector": {
   "cols": {
    "lenName": 16,
    "lenType": 16,
    "lenVar": 40
   },
   "kernels_config": {
    "python": {
     "delete_cmd_postfix": "",
     "delete_cmd_prefix": "del ",
     "library": "var_list.py",
     "varRefreshCmd": "print(var_dic_list())"
    },
    "r": {
     "delete_cmd_postfix": ") ",
     "delete_cmd_prefix": "rm(",
     "library": "var_list.r",
     "varRefreshCmd": "cat(var_dic_list()) "
    }
   },
   "types_to_exclude": [
    "module",
    "function",
    "builtin_function_or_method",
    "instance",
    "_Feature"
   ],
   "window_display": false
  }
 },
 "nbformat": 4,
 "nbformat_minor": 5
}
