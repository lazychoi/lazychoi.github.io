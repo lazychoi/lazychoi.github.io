{
 "cells": [
  {
   "cell_type": "markdown",
   "metadata": {},
   "source": [
    "---\n",
    "title: 10장 실전 문제 p298\n",
    "date: 2022/11/01\n",
    "updated: last-modified\n",
    "format:\n",
    "    html:\n",
    "        code-fold: true\n",
    "        code-tools: true\n",
    "        \n",
    "---"
   ]
  },
  {
   "cell_type": "markdown",
   "metadata": {},
   "source": [
    "## 팀 결성 p298\n",
    "\n",
    "서로소 집합 알고리즘 문제\n",
    "\n",
    "1. n은 최대 노드 개수. parent 변수 크기를 정할 때 사용\n",
    "2. m은 입력 받을 연산의 개수이다.\n",
    "3. 입력값 중 첫 번째 숫자가 0이면 합치기 연산 수행 -> union_parent() 함수 실행\n",
    "4. 입력값 중 첫 번째 숫자가 1이면 같은 팀 여부 확인. a, b가 같은 팀이면 YES, 다른 팀이면 NO 반환 -> find_parent()를 각각 실행해서 반환값이 같으면 YES, 다르면 NO 출력\n"
   ]
  },
  {
   "cell_type": "code",
   "execution_count": 2,
   "metadata": {
    "scrolled": true
   },
   "outputs": [
    {
     "name": "stdout",
     "output_type": "stream",
     "text": [
      "7 8\n",
      "0 1 3\n",
      "1 1 7\n",
      "NO\n",
      "0 7 6\n",
      "1 7 1\n",
      "NO\n",
      "0 3 7\n",
      "0 4 2\n",
      "0 1 1\n",
      "1 1 1\n",
      "YES\n"
     ]
    }
   ],
   "source": [
    "def find_parent(parent, x):\n",
    "    if parent[x] != x:\n",
    "        return find_parent(parent, parent[x])\n",
    "    return parent[x]\n",
    "\n",
    "def union_parent(parent, a, b):\n",
    "    a = find_parent(parent, a)\n",
    "    b = find_parent(parent, b)\n",
    "    if a < b:\n",
    "        parent[b] = a\n",
    "    else:\n",
    "        parent[a] = b\n",
    "\n",
    "n, m = map(int, input().split()) \n",
    "parent = [0] * (n + 1)\n",
    "for i in range(1, n + 1):\n",
    "    parent[i] = i\n",
    "\n",
    "result = ''\n",
    "for _ in range(m):\n",
    "    k, a, b = map(int, input().split())\n",
    "    if k == 0:\n",
    "        union_parent(parent, a, b)\n",
    "    elif k == 1:\n",
    "        if find_parent(parent, a) == find_parent(parent, b):\n",
    "            print('YES')\n",
    "        else:\n",
    "            print('NO')\n"
   ]
  },
  {
   "cell_type": "markdown",
   "metadata": {},
   "source": [
    "## 도시 분할 계획 p300\n",
    "\n"
   ]
  },
  {
   "cell_type": "code",
   "execution_count": null,
   "metadata": {},
   "outputs": [],
   "source": []
  }
 ],
 "metadata": {
  "kernelspec": {
   "display_name": "Python 3 (ipykernel)",
   "language": "python",
   "name": "python3"
  },
  "language_info": {
   "codemirror_mode": {
    "name": "ipython",
    "version": 3
   },
   "file_extension": ".py",
   "mimetype": "text/x-python",
   "name": "python",
   "nbconvert_exporter": "python",
   "pygments_lexer": "ipython3",
   "version": "3.9.12"
  },
  "vscode": {
   "interpreter": {
    "hash": "ad2bdc8ecc057115af97d19610ffacc2b4e99fae6737bb82f5d7fb13d2f2c186"
   }
  }
 },
 "nbformat": 4,
 "nbformat_minor": 2
}
