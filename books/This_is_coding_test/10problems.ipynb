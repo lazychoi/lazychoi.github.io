{
 "cells": [
  {
   "cell_type": "markdown",
   "metadata": {},
   "source": [
    "---\n",
    "title: 10장 실전 문제 p298\n",
    "date: 2022/11/01\n",
    "updated: last-modified\n",
    "format:\n",
    "    html:\n",
    "        code-fold: true\n",
    "        code-tools: true\n",
    "        \n",
    "---"
   ]
  },
  {
   "cell_type": "markdown",
   "metadata": {},
   "source": [
    "## 팀 결성 p298\n",
    "\n",
    "서로소 집합 알고리즘 문제\n",
    "\n",
    "1. n은 최대 노드 개수. parent 변수 크기를 정할 때 사용\n",
    "2. m은 입력 받을 연산의 개수이다.\n",
    "3. 입력값 중 첫 번째 숫자가 0이면 합치기 연산 수행 -> union_parent() 함수 실행\n",
    "4. 입력값 중 첫 번째 숫자가 1이면 같은 팀 여부 확인. a, b가 같은 팀이면 YES, 다른 팀이면 NO 반환 -> find_parent()를 각각 실행해서 반환값이 같으면 YES, 다르면 NO 출력\n"
   ]
  },
  {
   "cell_type": "code",
   "execution_count": 1,
   "metadata": {
    "scrolled": true
   },
   "outputs": [
    {
     "name": "stdout",
     "output_type": "stream",
     "text": [
      "NO\n",
      "NO\n",
      "YES\n"
     ]
    }
   ],
   "source": [
    "def find_parent(parent, x):\n",
    "    if parent[x] != x:\n",
    "        return find_parent(parent, parent[x])\n",
    "    return parent[x]\n",
    "\n",
    "def union_parent(parent, a, b):\n",
    "    a = find_parent(parent, a)\n",
    "    b = find_parent(parent, b)\n",
    "    if a < b:\n",
    "        parent[b] = a\n",
    "    else:\n",
    "        parent[a] = b\n",
    "\n",
    "n, m = map(int, input().split()) \n",
    "parent = [0] * (n + 1)\n",
    "for i in range(1, n + 1):\n",
    "    parent[i] = i\n",
    "\n",
    "result = ''\n",
    "for _ in range(m):\n",
    "    k, a, b = map(int, input().split())\n",
    "    if k == 0:\n",
    "        union_parent(parent, a, b)\n",
    "    elif k == 1:\n",
    "        if find_parent(parent, a) == find_parent(parent, b):\n",
    "            print('YES')\n",
    "        else:\n",
    "            print('NO')\n"
   ]
  },
  {
   "cell_type": "markdown",
   "metadata": {},
   "source": [
    "## 도시 분할 계획 p300\n",
    "\n",
    "### 문제 입출력\n",
    "\n",
    "- 입력: 집(노드) n, 길(간선) m\n",
    "- 입력: [[노드, 노드, 비용], ... ]\n",
    "- 출력: 비용의 최솟값 출력\n",
    "\n",
    "### 접근 과정\n",
    "\n",
    "1. 변수 선언\n",
    "    1. n, m <- 노드, 간선 개수\n",
    "    1. graph <- 간선 개수만큼 for문을 돌려 연결된 노드와 비용을 입력받는다. 최소비용 순으로 정렬하기 위해 비용을 맨 앞으로 저장\n",
    "    1. graph 정렬\n",
    "    1. parent <- 부모가 누구인지를 담는 테이블 생성하고 자기 자신으로 초기화\n",
    "    1. min_cost <- 출력할 비용 변수\n",
    "1. 큐가 빌 때까지 while문 돌리며      <- 위상정렬과 혼동\n",
    "1. 비용이 최소인 노드를 큐에 넣는다.  <- 위상정렬과 혼동\n",
    "1. 큐 가장 앞의 노드를 꺼내 for문을 돌리며 연결된 노드의 부모를 찾는다. <- 위상정렬과 혼동\n",
    "1. 사이클이 생기지 않으면 두 노드에 union 연산을 하고 비용을 min_cost 변수에 입력한다.\n",
    "\n",
    "### 틀린 점\n",
    "\n",
    "- 2개의 최소 신장 트리를 만들어야 하는 점을 생각하지 못함\n",
    "- 어제 공부한 크루스칼 알고리즘을 이해하고 있지 못하다는 점을 알았다. 교재 p280부터 차근차근 다시 읽었다. \n",
    "- 최소 비용의 간선부터 그래프 집합 내에 포함시키니 자연스레 최소 비용 그래프가 만들어진다. 사이클이 발생하면 신장 트리가 아닌 게 되고 더 비용이 큰 간선이 이어지기 때문에 최소 비용 조건을 만족하지 못하게 되는 것 같다."
   ]
  },
  {
   "cell_type": "code",
   "execution_count": 32,
   "metadata": {},
   "outputs": [
    {
     "name": "stdout",
     "output_type": "stream",
     "text": [
      "7 12\n",
      "1 2 3\n",
      "1 3 2\n",
      "3 2 1\n",
      "2 5 2\n",
      "3 4 4\n",
      "7 3 6\n",
      "5 1 5\n",
      "1 6 2\n",
      "6 4 1\n",
      "6 5 3\n",
      "4 5 3\n",
      "6 7 4\n",
      "min_cost =  12\n"
     ]
    }
   ],
   "source": [
    "from collections import deque\n",
    "\n",
    "def find_parent(parent, x):\n",
    "    if parent[x] != x:\n",
    "        parent[x] = find_parent(parent, parent[x])\n",
    "    return parent[x]\n",
    "\n",
    "def union_parent(parent, a, b):\n",
    "    a = find_parent(parent, a)\n",
    "    b = find_parent(parent, b)\n",
    "    if a < b:\n",
    "        parent[b] = a\n",
    "    else:\n",
    "        parent[a] = b\n",
    "\n",
    "n, m = map(int, input().split())\n",
    "print(n, m)\n",
    "parent = [0] * (n + 1)\n",
    "for i in range(1, n + 1):\n",
    "    parent[i] = i\n",
    "graph = [[] for _ in range(m)]\n",
    "for i in range(m):\n",
    "    a, b, cost = map(int, input().split())\n",
    "    print(a, b, cost)\n",
    "    graph[i] = [cost, a, b]\n",
    "\n",
    "graph.sort()\n",
    "\n",
    "min_cost = 0\n",
    "\n",
    "for item in graph:\n",
    "    cost, a, b = item\n",
    "    if find_parent(parent, a) != find_parent(parent, b):\n",
    "        union_parent(parent, a, b)\n",
    "        min_cost += cost\n",
    "print('min_cost = ', min_cost)"
   ]
  },
  {
   "cell_type": "markdown",
   "metadata": {},
   "source": [
    "교재 힌트를 보고 최소 신장 트리를 2개의 최소 신장 트리로 분리하는 코드 구현해 보자\n",
    "\n",
    "1. 최소 신장 그래프 정보를 담을 변수를 만들어야 함 -> [비용, 노드, 노드]\n",
    "1. 비용이 가장 큰 노드 제거 max()로 인덱스를 구하고 del 인덱스\n",
    "1. 출력할 최소비용은 어떻게 계산??"
   ]
  },
  {
   "cell_type": "markdown",
   "metadata": {},
   "source": [
    "union 연산 결과로 만들어진 그래프를 변수에 담으려면..."
   ]
  },
  {
   "cell_type": "code",
   "execution_count": 39,
   "metadata": {},
   "outputs": [
    {
     "data": {
      "text/plain": [
       "[]"
      ]
     },
     "execution_count": 39,
     "metadata": {},
     "output_type": "execute_result"
    }
   ],
   "source": [
    "def new_union_parent(parent, a, b):\n",
    "    a = find_parent(parent, a)\n",
    "    b = find_parent(parent, b)\n",
    "    if a < b:\n",
    "        parent[b] = a\n",
    "    else:\n",
    "        parent[a] = b\n",
    "    return a, b   # 부모, 자신\n",
    "\n",
    "new_graph = []\n",
    "\n",
    "for item in graph:\n",
    "    cost, a, b = item\n",
    "    if find_parent(parent, a) != find_parent(parent, b):\n",
    "        print('1')\n",
    "        p, c = new_union_parent(parent, a, b)\n",
    "        print(p, c)\n",
    "        new_graph.append([cost, p, c])\n",
    "        min_cost += cost\n",
    "\n",
    "new_graph"
   ]
  },
  {
   "cell_type": "markdown",
   "metadata": {},
   "source": [
    "### 교재 풀이\n",
    "\n",
    "2개의 최소 신장 트리를 만드는 방법은 최소 신장 트리를 찾은 뒤에 가장 비용이 큰 간선을 제거한다.\n",
    "\n",
    "비용이 오름차순으로 정렬되어 있기 때문에 최소 비용 누적값에서 마지막 비용을 뺀다."
   ]
  },
  {
   "cell_type": "code",
   "execution_count": 45,
   "metadata": {},
   "outputs": [
    {
     "name": "stdout",
     "output_type": "stream",
     "text": [
      "13\n"
     ]
    }
   ],
   "source": [
    "v, e = 7, 12\n",
    "edges = [\n",
    "        (1, 2, 3),\n",
    "        (1, 3, 2),\n",
    "        (3, 2, 1),\n",
    "        (2, 5, 2),\n",
    "        (3, 4, 4),\n",
    "        (7, 3, 6),\n",
    "        (5, 1, 5),\n",
    "        (1, 6, 2),\n",
    "        (6, 4, 1),\n",
    "        (6, 5, 3),\n",
    "        (4, 5, 3),\n",
    "        (6, 7, 4)]\n",
    "\n",
    "edges.sort()\n",
    "\n",
    "def find_parent(parent, x):\n",
    "    if parent[x] != x:\n",
    "        parent[x] = find_parent(parent, parent[x])\n",
    "    return parent[x]\n",
    "\n",
    "def union_parent(parent, a, b):\n",
    "    a = find_parent(parent, a)\n",
    "    b = find_parent(parent, b)\n",
    "    if a < b:\n",
    "        parent[b] = a\n",
    "    else:\n",
    "        parent[a] = b\n",
    "\n",
    "parent = [0] * (v + 1)\n",
    "for i in range(1, v + 1):\n",
    "    parent[i] = i\n",
    "\n",
    "result = 0\n",
    "last = 0\n",
    "\n",
    "for edge in edges:\n",
    "    cost, a, b = edge\n",
    "    if find_parent(parent, a) != find_parent(parent, b):\n",
    "        union_parent(parent, a, b)\n",
    "        result += cost\n",
    "        last = cost\n",
    "\n",
    "print(result - last)    "
   ]
  },
  {
   "cell_type": "markdown",
   "metadata": {},
   "source": [
    ":::{.callout-warning}\n",
    "교재랑 코드가 같은 것 같은데 결과가 다르다. 어디를 놓치고 있을까? 일단 넘어가자.\n",
    ":::"
   ]
  },
  {
   "cell_type": "markdown",
   "metadata": {},
   "source": [
    "## 커리큘럼 p303\n",
    "\n",
    "위상 정렬 문제다. 큐를 이용해 푼다.\n",
    "\n",
    "- 출력: n개의 강의에 대해 수강하기까지 걸리는 각각의 최소시간을 한 줄에 하나씩 출력\n",
    "- 입력: 강의 수 n(강의번호는 1부터 n까지), n개의 줄에 (강의시간 선수강의번호 -1)\n",
    "\n",
    "### 접근 과정\n",
    "\n",
    "1. deque 라이브러리 임포트\n",
    "1. 변수 - 강의수 n (수치형)\n",
    "1. 변수 - (강의시간, 선수강의번호, -1) 담을 (리스트)\n",
    "1. 변수 - 진입차수 (리스트) 인덱스=강의번호, 값=진입차수\n",
    "1. 변수 - 강의순서와 시간을 담을 리스트\n",
    "1. 변수 - 큐 객체 \n",
    "1. 진입차수가 0인 강의를 큐에 append\n",
    "1. while 큐가 빌 때까지 \n",
    "1. 큐의 첫 번째 원소를 꺼내어 now에 저장\n",
    "1. for문으로 now와 연결된 강의 돌며\n",
    "1. 연결된 노드의 진입차수 - 1\n",
    "1. 진입차수가 0이면 큐에 추가"
   ]
  },
  {
   "cell_type": "code",
   "execution_count": 47,
   "metadata": {},
   "outputs": [
    {
     "data": {
      "text/plain": [
       "[[], [], [], [], [], []]"
      ]
     },
     "execution_count": 47,
     "metadata": {},
     "output_type": "execute_result"
    }
   ],
   "source": [
    "from collections import deque\n",
    "\n",
    "n = int(input())\n",
    "lectures = [[] for _ in range(n+1)]\n"
   ]
  },
  {
   "cell_type": "code",
   "execution_count": 48,
   "metadata": {},
   "outputs": [
    {
     "data": {
      "text/plain": [
       "[[], [10, -1], [10, 1, -1], [4, 1, -1], [4, 3, 1, -1], [3, 3, -1]]"
      ]
     },
     "execution_count": 48,
     "metadata": {},
     "output_type": "execute_result"
    }
   ],
   "source": [
    "for i in range(1, n + 1):\n",
    "    lectures[i] = list(map(int, input().split()))\n",
    "lectures"
   ]
  },
  {
   "cell_type": "markdown",
   "metadata": {},
   "source": [
    ":::{.callout-warning}\n",
    "지금 실력으론 풀 수 없는 문제다. 입력 데이터의 형태가 유동적이어서 어떻게 처리해야 할지 모르겠다. 그리고 모든 강의에 대해 강의순서를 도출해야 하는 것도 ....\n",
    ":::"
   ]
  },
  {
   "cell_type": "markdown",
   "metadata": {},
   "source": [
    "### 교재 풀이"
   ]
  },
  {
   "cell_type": "code",
   "execution_count": 59,
   "metadata": {},
   "outputs": [
    {
     "name": "stdout",
     "output_type": "stream",
     "text": [
      "1 번 강의 수강시간 = 10\n",
      "2 번 강의 수강시간 = 20\n",
      "3 번 강의 수강시간 = 14\n",
      "4 번 강의 수강시간 = 18\n",
      "5 번 강의 수강시간 = 17\n"
     ]
    }
   ],
   "source": [
    "from collections import deque\n",
    "import copy\n",
    "\n",
    "v = int(input())  # 강의 개수\n",
    "indegree = [0] * (v + 1)   # 모든 강의의 진입차수 0으로 초기화 = 선수강의 없음\n",
    "graph = [[] for i in range(v + 1)] # 연결된 강의 정보를 담기위한 리스트\n",
    "time = [0] * (v + 1)  # 각 강의의 강의 시간 0으로 초기화\n",
    "\n",
    "# 방향 그래프의 모든 간선 정보 입력\n",
    "for i in range(1, v + 1):\n",
    "    data = list(map(int, input().split()))\n",
    "    time[i] = data[0]  # 입력값의 첫 번째가 강의시간\n",
    "    for x in data[1:-1]:  # 맨 뒤는 -1이니 두 번째부터 뒤에서 두 번째까지 슬라이싱\n",
    "        indegree[i] += 1  # 진입차수 리스트의 각 강의(인덱스)의 값에 +1. for문을 돌며 선수강의 개수만큼 더하게 됨\n",
    "        graph[x].append(i) # 선수 강의(x)에 각 강의(i) 연결\n",
    "\n",
    "# 위상 정렬\n",
    "\n",
    "result = copy.deepcopy(time) # 수강 시간 출력 리스트 변수. result가 변화할 때 time이 변하지 않게 하기 위해\n",
    "q = deque()\n",
    "\n",
    "# 진입차수 0인 강의부터 시작\n",
    "for i in range(1, v + 1):\n",
    "    if indegree[i] == 0:\n",
    "        q.append(i)\n",
    "\n",
    "while q:\n",
    "    now = q.popleft()\n",
    "    for i in graph[now]:\n",
    "        # 연결 강의 수강시간 <- max( 기존 연결 강의 수강시간, 현재 강의 기존시간 + 연결 강의 수강시간) \n",
    "        result[i] = max(result[i], result[now] + time[i]) \n",
    "        indegree[i] -= 1\n",
    "\n",
    "        if indegree[i] == 0:\n",
    "            q.append(i)\n",
    "\n",
    "# 결과 출력\n",
    "for i in range(1, v + 1):\n",
    "    print(i, '번 강의 수강시간 =', result[i])"
   ]
  },
  {
   "cell_type": "markdown",
   "metadata": {},
   "source": [
    ":::{.callout-important}\n",
    "copy.deepcopy()를 사용하면 리스트 안의 리스트도 모두 깊은복사가 된다.\n",
    "\n",
    ":::"
   ]
  },
  {
   "cell_type": "code",
   "execution_count": 57,
   "metadata": {},
   "outputs": [
    {
     "name": "stdout",
     "output_type": "stream",
     "text": [
      "=== 일반 깊은 복사(2차원에서 안 됨)===\n",
      "[[100, 2], [3, 4]] [[100, 2], [3, 4]]\n",
      "=== copy.deepcopy(2차원에서도 됨)===\n",
      "[[1, 2], [3, 4]] [[100, 2], [3, 4]]\n",
      "=== copy.deepcopy(3차원에서도 됨)===\n",
      "[[[1, 2]], [[3, 4]]] [[[100, 2]], [[3, 4]]]\n"
     ]
    }
   ],
   "source": [
    "import copy\n",
    "print('=== 일반 깊은 복사(2차원에서 안 됨)===')\n",
    "a = [[1, 2], [3, 4]]\n",
    "b = a.copy()\n",
    "b[0][0] = 100\n",
    "print(a, b)\n",
    "\n",
    "print('=== copy.deepcopy(2차원에서도 됨)===')\n",
    "a = [[1, 2], [3, 4]]\n",
    "c = copy.deepcopy(a)\n",
    "c[0][0] = 100\n",
    "print(a, c)\n",
    "\n",
    "print('=== copy.deepcopy(3차원에서도 됨)===')\n",
    "d = [[[1, 2]], [[3, 4]]]\n",
    "e = copy.deepcopy(d)\n",
    "e[0][0][0] = 100\n",
    "print(d, e)"
   ]
  },
  {
   "cell_type": "code",
   "execution_count": null,
   "metadata": {},
   "outputs": [],
   "source": []
  }
 ],
 "metadata": {
  "kernelspec": {
   "display_name": "Python 3 (ipykernel)",
   "language": "python",
   "name": "python3"
  },
  "language_info": {
   "codemirror_mode": {
    "name": "ipython",
    "version": 3
   },
   "file_extension": ".py",
   "mimetype": "text/x-python",
   "name": "python",
   "nbconvert_exporter": "python",
   "pygments_lexer": "ipython3",
   "version": "3.9.12"
  },
  "vscode": {
   "interpreter": {
    "hash": "ad2bdc8ecc057115af97d19610ffacc2b4e99fae6737bb82f5d7fb13d2f2c186"
   }
  }
 },
 "nbformat": 4,
 "nbformat_minor": 2
}
