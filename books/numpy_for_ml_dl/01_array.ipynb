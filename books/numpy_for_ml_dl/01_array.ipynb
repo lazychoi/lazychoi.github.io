{
 "cells": [
  {
   "cell_type": "raw",
   "metadata": {},
   "source": [
    "---\n",
    "title: 01장 파이썬과 넘파이 모듈 차이점 p9\n",
    "date: 2022-11-01\n",
    "updated: last-modified\n",
    "---"
   ]
  },
  {
   "cell_type": "markdown",
   "metadata": {},
   "source": [
    "## ndarray vs. list 차이\n",
    "\n",
    "파이썬 리스트는 실제 원소의 객체를 저장하는 것이 아니라 객체의 레퍼런스를 저장한다. **넘파이 모듈의 기본 배열은 다원 배열인 ndarray 클래스의 객체다.**  이 배열은 하나의 자료형으로 만들어진 원소들을 보관하는 컨테이너이다.\n",
    "\n",
    "![ndarray vs python list](images/ndarray_list.jpg)\n",
    "\n",
    "![ndarray_data_structure](images/ndarray_data_structure.jpg)\n",
    "\n",
    ":::{.callout-warning}\n",
    "넘파이는 위 그림처럼 일렬로 원소를 관리한다. 구체적인 설명이 없어 이해가 안 된다.\n",
    ":::\n",
    "\n",
    "버전 확인: `__version__`"
   ]
  },
  {
   "cell_type": "code",
   "execution_count": 1,
   "metadata": {},
   "outputs": [
    {
     "data": {
      "text/plain": [
       "'1.21.5'"
      ]
     },
     "execution_count": 1,
     "metadata": {},
     "output_type": "execute_result"
    }
   ],
   "source": [
    "import numpy as np\n",
    "np.__version__"
   ]
  },
  {
   "cell_type": "markdown",
   "metadata": {},
   "source": [
    "클래스 이름 조회: `__name__`"
   ]
  },
  {
   "cell_type": "code",
   "execution_count": 2,
   "metadata": {},
   "outputs": [
    {
     "data": {
      "text/plain": [
       "'ndarray'"
      ]
     },
     "execution_count": 2,
     "metadata": {},
     "output_type": "execute_result"
    }
   ],
   "source": [
    "np.ndarray.__name__"
   ]
  },
  {
   "cell_type": "markdown",
   "metadata": {},
   "source": [
    "클래스 속성과 메서드를 관리하는 이름공간(namespace) 출력 -> var에 저장됨"
   ]
  },
  {
   "cell_type": "code",
   "execution_count": 3,
   "metadata": {},
   "outputs": [
    {
     "data": {
      "text/plain": [
       "method_descriptor"
      ]
     },
     "execution_count": 3,
     "metadata": {},
     "output_type": "execute_result"
    }
   ],
   "source": [
    "type(np.ndarray.var)"
   ]
  },
  {
   "cell_type": "markdown",
   "metadata": {},
   "source": [
    ":::{.callout-warning}\n",
    "ndarray 클래스에 정의된 속성과 메서드 확인. np.ndarray.__dict__와 np.ndarray.var의 차이를 잘 모르겠다.\n",
    ":::\n",
    "\n",
    "## ndarray의 자료 구조"
   ]
  },
  {
   "cell_type": "code",
   "execution_count": 27,
   "metadata": {},
   "outputs": [
    {
     "name": "stdout",
     "output_type": "stream",
     "text": [
      "T base ctypes data dtype flags flat imag itemsize nbytes ndim real shape size strides "
     ]
    }
   ],
   "source": [
    "for i in dir(np.ndarray):   # dir -> 이름공간 내의 속성과 메소드 이름을 리스트로 반환\n",
    "    if not i.startswith(\"_\"):  # 파이썬 스페셜 속성과 메서드는 밑줄로 시작하니 이를 제외\n",
    "        if type(np.ndarray.__dict__[i]) != type(np.ndarray.var): \n",
    "            print(i, end=' ')"
   ]
  },
  {
   "cell_type": "markdown",
   "metadata": {},
   "source": [
    "다차원 배열은 실제 데이터를 관리하는 속성과 이 데이터의 정보를 관리하는 메타 속성을 구분해서 관리한다.\n",
    "\n",
    "- 데이터를 관리하는 속성: ndarray.data -> 주소값 반환\n",
    "- 저장된 값 출력: ndarray.data.object"
   ]
  },
  {
   "cell_type": "code",
   "execution_count": 5,
   "metadata": {},
   "outputs": [
    {
     "name": "stdout",
     "output_type": "stream",
     "text": [
      "type(arr):  <class 'numpy.ndarray'>\n",
      "arr.data:  <memory at 0x11002c7c0>\n",
      "arr.data.obj:  [1 2 3 4]\n",
      "type(arr.data.obj):  <class 'numpy.ndarray'>\n"
     ]
    }
   ],
   "source": [
    "i = [1, 2, 3, 4]\n",
    "arr = np.array(i)\n",
    "print('type(arr): ', type(arr))\n",
    "\n",
    "print('arr.data: ', arr.data)\n",
    "print('arr.data.obj: ', arr.data.obj)\n",
    "print('type(arr.data.obj): ', type(arr.data.obj))"
   ]
  },
  {
   "cell_type": "markdown",
   "metadata": {},
   "source": [
    ":::{.callout-warning}\n",
    "base는 다차원배열의 메모리를 공유할 때 원본 레퍼런스 저장. 동일한 배열을 공유하는 구조라서 base에는 아무 것도 없다는 말이 잘 이해되지 않는다.\n",
    ":::"
   ]
  },
  {
   "cell_type": "code",
   "execution_count": 6,
   "metadata": {},
   "outputs": [
    {
     "name": "stdout",
     "output_type": "stream",
     "text": [
      "b.base is arr.base ->  True\n",
      "None None\n"
     ]
    }
   ],
   "source": [
    "b = arr\n",
    "print('b.base is arr.base -> ', b.base is arr.base)\n",
    "print(arr.base, b.base)"
   ]
  },
  {
   "cell_type": "markdown",
   "metadata": {},
   "source": [
    "ndarry를 만들 때 자료형 지정"
   ]
  },
  {
   "cell_type": "code",
   "execution_count": 7,
   "metadata": {},
   "outputs": [
    {
     "data": {
      "text/plain": [
       "array([1., 2., 3., 4.])"
      ]
     },
     "execution_count": 7,
     "metadata": {},
     "output_type": "execute_result"
    }
   ],
   "source": [
    "c = np.array(i, dtype=float)\n",
    "c"
   ]
  },
  {
   "cell_type": "markdown",
   "metadata": {},
   "source": [
    "차원별 원소 개수, 차원 개수, 타입, 원소의 길이(byte), 원소의 총개수, strides 조회. \n",
    "\n",
    "**itemsize**란 원소의 저장 공간 크기를 말하고 바이트 단위이다. 여기는 4byte이고 32 비트이다. \n",
    "\n",
    "**strides**는 차원 별 크기를 반환한다. 2차원 배열에서 1차원은 한 행에 속하는 원소의 개수 * 4바이트. 2차원은 1개 원소의 바이트 크기다. 예를 들어 (2, 4) 배열에서 한 행에 속하는 원소의 개수는 4이므로 한 행의 크기는 4 * 4 = 16, 2차원에 속하는 원소의 크기는 4바이트이다. 요약하면 반환값은 (16, 4). 3차원 배열인 (2, 2, 2)의 strides는 (4 * 4, 2 * 4, 4). 요령은 바깥부터 시작해서 대괄호를 벗긴 원소의 개수 * 4바이트, 그 다음 대괄호 안의 개수 * 4바이트 식으로 계산하는 것이다."
   ]
  },
  {
   "cell_type": "code",
   "execution_count": 8,
   "metadata": {},
   "outputs": [
    {
     "name": "stdout",
     "output_type": "stream",
     "text": [
      "==== 2차원 ======\n",
      "shape = (2, 4)\n",
      "ndim = 2\n",
      "dtype = int64\n",
      "itemsize = 8\n",
      "size = 8\n",
      "strides = (32, 8)\n",
      "==== 3차원 ======\n",
      "shape = (2, 2, 2)\n",
      "ndim = 3\n",
      "dtype = int64\n",
      "itemsize = 8\n",
      "size = 8\n",
      "strides = (32, 16, 8)\n"
     ]
    }
   ],
   "source": [
    "print('==== 2차원 ======')\n",
    "a = np.array([[1, 2, 3, 4], [5, 6, 7, 8]])\n",
    "print('shape =', a.shape)\n",
    "print('ndim =', a.ndim)\n",
    "print('dtype =', a.dtype)\n",
    "print('itemsize =', a.itemsize)\n",
    "print('size =', a.size)\n",
    "print('strides =', a.strides)\n",
    "\n",
    "print('==== 3차원 ======')\n",
    "a = np.array([[[1, 2], [3, 4]], [[5, 6], [7, 8]]])\n",
    "print('shape =', a.shape)\n",
    "print('ndim =', a.ndim)\n",
    "print('dtype =', a.dtype)\n",
    "print('itemsize =', a.itemsize)\n",
    "print('size =', a.size)\n",
    "print('strides =', a.strides)"
   ]
  },
  {
   "cell_type": "markdown",
   "metadata": {},
   "source": [
    "## flatten, ravel(), reshape(-1)\n",
    "\n",
    "다차원 배열은 데이터를 저장할 때 내부에서는 1차원으로 구성해서 관리한다. flatten(), ravel() 메소드로 조회한다.\n",
    "\n",
    "flatten(), ravel(), reshape(-1) 모두 1차원 배열을 반환하지만, flatten은 깊은 복사, 나머지는 얕은 복사다. "
   ]
  },
  {
   "cell_type": "code",
   "execution_count": 9,
   "metadata": {},
   "outputs": [
    {
     "name": "stdout",
     "output_type": "stream",
     "text": [
      "a.flatten() -> b = [1 2 3 4 5 6]\n",
      "[100   2   3   4   5   6]\n",
      "[[1 2 3]\n",
      " [4 5 6]]\n",
      "flatten()은 원본이 바뀌지 않음\n",
      "a.ravel() -> b=  [1 2 3 4 5 6]\n",
      "[100   2   3   4   5   6]\n",
      "[[100   2   3]\n",
      " [  4   5   6]]\n",
      "ravel()은 원본이 바뀜\n"
     ]
    }
   ],
   "source": [
    "a = np.array([[1,2,3], [4,5,6]])\n",
    "b = a.flatten()\n",
    "print('a.flatten() -> b =', b)\n",
    "b[0] = 100\n",
    "print(b)\n",
    "print(a)\n",
    "print('flatten()은 원본이 바뀌지 않음')\n",
    "\n",
    "a = np.array([[1,2,3], [4,5,6]])\n",
    "b = a.ravel()\n",
    "print('a.ravel() -> b= ', b)\n",
    "b[0] = 100\n",
    "print(b)\n",
    "print(a)\n",
    "print('ravel()은 원본이 바뀜')"
   ]
  },
  {
   "cell_type": "markdown",
   "metadata": {},
   "source": [
    "ndarray 메타 정보 출력은 `__array_interface__`"
   ]
  },
  {
   "cell_type": "code",
   "execution_count": 10,
   "metadata": {},
   "outputs": [
    {
     "data": {
      "text/plain": [
       "{'data': (4906593488, False),\n",
       " 'strides': None,\n",
       " 'descr': [('', '<i8')],\n",
       " 'typestr': '<i8',\n",
       " 'shape': (2, 2, 3),\n",
       " 'version': 3}"
      ]
     },
     "execution_count": 10,
     "metadata": {},
     "output_type": "execute_result"
    }
   ],
   "source": [
    "ndarr = np.array([[[1,2,3], [4,5,6]], [[7,8,9], [10,11,12]]])\n",
    "ndarr.__array_interface__"
   ]
  },
  {
   "cell_type": "markdown",
   "metadata": {},
   "source": [
    "몫과 나머지를 구하는 함수"
   ]
  },
  {
   "cell_type": "code",
   "execution_count": 11,
   "metadata": {},
   "outputs": [
    {
     "name": "stdout",
     "output_type": "stream",
     "text": [
      "999 / 16 -> 목과 나머지 튜플로 반환 divmod() -> (62, 7)\n"
     ]
    }
   ],
   "source": [
    "print('999 / 16 -> 목과 나머지 튜플로 반환 divmod() ->', divmod(999, 16))"
   ]
  },
  {
   "cell_type": "markdown",
   "metadata": {},
   "source": [
    "ndarray의 모든 원소를 for로 돌릴 때 사용: 다중 for문 사용할 필요 없음 ndarray.flat"
   ]
  },
  {
   "cell_type": "code",
   "execution_count": 26,
   "metadata": {},
   "outputs": [
    {
     "name": "stdout",
     "output_type": "stream",
     "text": [
      "1 2 3 4 5 6 7 8 9 10 11 12 "
     ]
    }
   ],
   "source": [
    "for i in ndarr.flat:\n",
    "    print(i, end = ' ')"
   ]
  },
  {
   "cell_type": "markdown",
   "metadata": {},
   "source": [
    "matrix 클래스는 ndarray 클래스를 상속해서 구현한다. matrix는 2차원 배열만을 가리킨다."
   ]
  },
  {
   "cell_type": "code",
   "execution_count": 13,
   "metadata": {},
   "outputs": [
    {
     "name": "stdout",
     "output_type": "stream",
     "text": [
      "ndarray의 부모 = (<class 'object'>,)\n",
      "matrix의 부모 = (<class 'numpy.ndarray'>,)\n"
     ]
    }
   ],
   "source": [
    "print('ndarray의 부모 =', np.ndarray.__bases__)\n",
    "print('matrix의 부모 =', np.matrix.__bases__)"
   ]
  },
  {
   "cell_type": "markdown",
   "metadata": {},
   "source": [
    "matrix 고유의 속성과 메서드만 출력"
   ]
  },
  {
   "cell_type": "code",
   "execution_count": 28,
   "metadata": {},
   "outputs": [
    {
     "name": "stdout",
     "output_type": "stream",
     "text": [
      "{'_align', 'getA', 'A', 'getI', 'A1', 'getT', '__dict__', 'I', 'getA1', '__module__', 'getH', '_collapse', 'H'} "
     ]
    }
   ],
   "source": [
    "nd_ = set(dir(np.ndarray))\n",
    "md_ = set(dir(np.matrix))\n",
    "print(md_ - nd_, end=' ')"
   ]
  },
  {
   "cell_type": "markdown",
   "metadata": {},
   "source": [
    "숫자 문자열을 받아 matrix로 만드는 함수"
   ]
  },
  {
   "cell_type": "code",
   "execution_count": 15,
   "metadata": {},
   "outputs": [
    {
     "name": "stdout",
     "output_type": "stream",
     "text": [
      "[[1 2]\n",
      " [3 4]]\n",
      "[[1 2]\n",
      " [3 4]]\n",
      "[[1 2]\n",
      " [3 4]]\n",
      "[[1 3]\n",
      " [2 4]]\n",
      "[[1 3]\n",
      " [2 4]]\n",
      "[[-2.   1. ]\n",
      " [ 1.5 -0.5]]\n"
     ]
    }
   ],
   "source": [
    "m4 = np.mat('1 2; 3 4')\n",
    "print(m4)\n",
    "print(m4.A)\n",
    "print(m4.getA())\n",
    "print(m4.H) # 전치행렬\n",
    "print(m4.T) # 전치행렬\n",
    "print(m4.I) # 역행렬"
   ]
  },
  {
   "cell_type": "markdown",
   "metadata": {},
   "source": [
    "## any(), all()\n",
    "\n",
    "any() 함수는 여러 개의 불리언 값 중 하나라도 True가 있으면 True 반환"
   ]
  },
  {
   "cell_type": "code",
   "execution_count": 16,
   "metadata": {},
   "outputs": [
    {
     "data": {
      "text/plain": [
       "True"
      ]
     },
     "execution_count": 16,
     "metadata": {},
     "output_type": "execute_result"
    }
   ],
   "source": [
    "a = np.array([1, 0, 1])\n",
    "(a != 0).any()"
   ]
  },
  {
   "cell_type": "code",
   "execution_count": 17,
   "metadata": {},
   "outputs": [
    {
     "data": {
      "text/plain": [
       "(True, False, True, False)"
      ]
     },
     "execution_count": 17,
     "metadata": {},
     "output_type": "execute_result"
    }
   ],
   "source": [
    "a = [1, 0, 1, 1]\n",
    "b = [0, 0, 0, 0]\n",
    "np.any(a), np.any(b), any(a), any(b)"
   ]
  },
  {
   "cell_type": "markdown",
   "metadata": {},
   "source": [
    "## 유니버셜 함수\n",
    "\n",
    "- 순환문을 사용하지 않고 원소끼리 계산할 수 있는 연산 -> **벡터화 연산**\n",
    "- 벡터화 연산을 지원하는 함수 -> **유니버셜 함수** -> ufunc 클래스"
   ]
  },
  {
   "cell_type": "code",
   "execution_count": 19,
   "metadata": {},
   "outputs": [
    {
     "data": {
      "text/plain": [
       "(numpy.ufunc, function)"
      ]
     },
     "execution_count": 19,
     "metadata": {},
     "output_type": "execute_result"
    }
   ],
   "source": [
    "# 일반 함수와 유니버셜 함수의 차이\n",
    "type(np.add), type(np.sort)"
   ]
  },
  {
   "cell_type": "code",
   "execution_count": 29,
   "metadata": {},
   "outputs": [
    {
     "name": "stdout",
     "output_type": "stream",
     "text": [
      "{'nout', 'signature', 'reduceat', 'types', 'ntypes', 'accumulate', 'outer', 'nargs', 'at', 'identity', 'reduce', 'nin'} "
     ]
    }
   ],
   "source": [
    "# 유니버셜 함수에만 있는 속성과 메소드\n",
    "print( set(dir(np.add)) - set(dir(np.sort)), end=' ')"
   ]
  },
  {
   "cell_type": "code",
   "execution_count": 22,
   "metadata": {},
   "outputs": [
    {
     "name": "stdout",
     "output_type": "stream",
     "text": [
      "[1 2 3 4] -> [ 1  3  6 10]\n"
     ]
    }
   ],
   "source": [
    "# 배열 안의 요소의 누적값 계산\n",
    "a = np.array([1, 2, 3, 4])\n",
    "print(a, '->', np.add.accumulate(a))"
   ]
  },
  {
   "cell_type": "markdown",
   "metadata": {},
   "source": [
    "## 차원에 따른 합계\n",
    "\n",
    "![3차원 배열](images/3dim.jpeg)\n",
    "\n",
    "- 3차원에서 첫 번째 축은 깊이\n",
    "- 두 번째 축은 행\n",
    "- 세 번째 축은 열"
   ]
  },
  {
   "cell_type": "code",
   "execution_count": 25,
   "metadata": {},
   "outputs": [
    {
     "name": "stdout",
     "output_type": "stream",
     "text": [
      "[[[ 0  1]\n",
      "  [ 2  3]\n",
      "  [ 4  5]]\n",
      "\n",
      " [[ 6  7]\n",
      "  [ 8  9]\n",
      "  [10 11]]\n",
      "\n",
      " [[12 13]\n",
      "  [14 15]\n",
      "  [16 17]]\n",
      "\n",
      " [[18 19]\n",
      "  [20 21]\n",
      "  [22 23]]]\n",
      "sum, axis=0 [[36 40]\n",
      " [44 48]\n",
      " [52 56]]\n",
      "sum, axis=1 [[ 6  9]\n",
      " [24 27]\n",
      " [42 45]\n",
      " [60 63]]\n",
      "sum, axis=2 [[ 1  5  9]\n",
      " [13 17 21]\n",
      " [25 29 33]\n",
      " [37 41 45]]\n"
     ]
    }
   ],
   "source": [
    "a = np.array(range(24)).reshape(4, 3, 2)\n",
    "print(a)\n",
    "print('sum, axis=0', np.sum(a, axis=0))\n",
    "print('sum, axis=1', np.sum(a, axis=1))\n",
    "print('sum, axis=2', np.sum(a, axis=2))"
   ]
  },
  {
   "cell_type": "markdown",
   "metadata": {},
   "source": [
    "## 더 읽어볼 만한 글\n",
    "\n",
    "[파이썬 리스트 구조 Python list implementation](http://www.laurentluce.com/posts/python-list-implementation/){target=_blank}\n"
   ]
  }
 ],
 "metadata": {
  "kernelspec": {
   "display_name": "Python 3.9.12 ('base')",
   "language": "python",
   "name": "python3"
  },
  "language_info": {
   "codemirror_mode": {
    "name": "ipython",
    "version": 3
   },
   "file_extension": ".py",
   "mimetype": "text/x-python",
   "name": "python",
   "nbconvert_exporter": "python",
   "pygments_lexer": "ipython3",
   "version": "3.9.12"
  },
  "toc": {
   "base_numbering": 1,
   "nav_menu": {},
   "number_sections": true,
   "sideBar": true,
   "skip_h1_title": false,
   "title_cell": "Table of Contents",
   "title_sidebar": "Contents",
   "toc_cell": false,
   "toc_position": {},
   "toc_section_display": true,
   "toc_window_display": true
  },
  "varInspector": {
   "cols": {
    "lenName": 16,
    "lenType": 16,
    "lenVar": 40
   },
   "kernels_config": {
    "python": {
     "delete_cmd_postfix": "",
     "delete_cmd_prefix": "del ",
     "library": "var_list.py",
     "varRefreshCmd": "print(var_dic_list())"
    },
    "r": {
     "delete_cmd_postfix": ") ",
     "delete_cmd_prefix": "rm(",
     "library": "var_list.r",
     "varRefreshCmd": "cat(var_dic_list()) "
    }
   },
   "types_to_exclude": [
    "module",
    "function",
    "builtin_function_or_method",
    "instance",
    "_Feature"
   ],
   "window_display": false
  },
  "vscode": {
   "interpreter": {
    "hash": "ad2bdc8ecc057115af97d19610ffacc2b4e99fae6737bb82f5d7fb13d2f2c186"
   }
  }
 },
 "nbformat": 4,
 "nbformat_minor": 4
}
