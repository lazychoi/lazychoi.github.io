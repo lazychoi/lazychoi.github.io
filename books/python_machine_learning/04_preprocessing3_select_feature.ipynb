{
 "cells": [
  {
   "cell_type": "raw",
   "metadata": {},
   "source": [
    "---\n",
    "title: \"04장 유용한 특성 선택\"\n",
    "date: 2022/11/10\n",
    "updated: last-modified\n",
    "draft: True\n",
    "---"
   ]
  },
  {
   "cell_type": "markdown",
   "metadata": {},
   "source": [
    "## 과대 적합 = 분산이 크다\n",
    "\n",
    "일반화 오차 감소 방법\n",
    "\n",
    "- 더 많은 훈련 데이터를 모은다\n",
    "- 규제를 통해 복잡도를 제한한다\n",
    "- 파라미터 개수가 적은 간단한 모델 선택\n",
    "- 데이터 차원을 줄인다\n",
    "\n",
    "### L2 규제\n",
    "\n",
    "- $L2: ||\\mathbf{w}||_2^2 = \\sum\\limits_{j=1}^mw^2_j$\n",
    "- 개별 가중치 값을 제한하여 모델 복잡도를 줄이는 방법\n",
    "- 비용 함수에 페널티 항 추가\n",
    "- 가중치 값을 아주 작게 만드는 효과"
   ]
  },
  {
   "cell_type": "code",
   "execution_count": null,
   "metadata": {},
   "outputs": [],
   "source": []
  },
  {
   "cell_type": "markdown",
   "metadata": {},
   "source": [
    "### L1 규제\n",
    "\n",
    "- $L1: ||\\mathbf{w}||_1 = \\sum\\limits_{j=1}^m|w_j|$\n",
    "- 보통 희소한 특성 벡터를 만들어 대부분의 특성 가중치가 0이 됨\n",
    "- 관련 없는 특성이 많은 고차원 데이터셋일 경우 이런 희소성이 도움이 됨\n",
    "- 특성 선택의 기법으로 사용될 수 있음"
   ]
  },
  {
   "cell_type": "markdown",
   "metadata": {},
   "source": []
  }
 ],
 "metadata": {
  "kernelspec": {
   "display_name": "Python 3.9.12 ('base')",
   "language": "python",
   "name": "python3"
  },
  "language_info": {
   "name": "python",
   "version": "3.9.12"
  },
  "orig_nbformat": 4,
  "vscode": {
   "interpreter": {
    "hash": "38cca0c38332a56087b24af0bc80247f4fced29cb4f7f437d91dc159adec9c4e"
   }
  }
 },
 "nbformat": 4,
 "nbformat_minor": 2
}
