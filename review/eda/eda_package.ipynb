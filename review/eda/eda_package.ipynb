{
 "cells": [
  {
   "cell_type": "raw",
   "id": "66e75b27",
   "metadata": {},
   "source": [
    "---\n",
    "title: 파이썬 EDA 패키지\n",
    "date: 2022/11/05\n",
    "updated: last-modified\n",
    "draft: true\n",
    "---"
   ]
  },
  {
   "cell_type": "markdown",
   "id": "f13e4a21",
   "metadata": {},
   "source": [
    "파이썬 EDA 패키지인 [pandas-profiling](https://github.com/ydataai/pandas-profiling), [dataprep](https://github.com/sfu-db/dataprep), [sweetviz](https://github.com/fbdesignpro/sweetviz), [QuickDA](https://github.com/sid-the-coder/QuickDA)를 차례로 알아보자"
   ]
  },
  {
   "cell_type": "code",
   "execution_count": null,
   "id": "931e5e22",
   "metadata": {},
   "outputs": [],
   "source": []
  }
 ],
 "metadata": {
  "kernelspec": {
   "display_name": "Python 3 (ipykernel)",
   "language": "python",
   "name": "python3"
  },
  "language_info": {
   "codemirror_mode": {
    "name": "ipython",
    "version": 3
   },
   "file_extension": ".py",
   "mimetype": "text/x-python",
   "name": "python",
   "nbconvert_exporter": "python",
   "pygments_lexer": "ipython3",
   "version": "3.9.12"
  },
  "toc": {
   "base_numbering": 1,
   "nav_menu": {},
   "number_sections": true,
   "sideBar": true,
   "skip_h1_title": false,
   "title_cell": "Table of Contents",
   "title_sidebar": "Contents",
   "toc_cell": false,
   "toc_position": {},
   "toc_section_display": true,
   "toc_window_display": true
  },
  "varInspector": {
   "cols": {
    "lenName": 16,
    "lenType": 16,
    "lenVar": 40
   },
   "kernels_config": {
    "python": {
     "delete_cmd_postfix": "",
     "delete_cmd_prefix": "del ",
     "library": "var_list.py",
     "varRefreshCmd": "print(var_dic_list())"
    },
    "r": {
     "delete_cmd_postfix": ") ",
     "delete_cmd_prefix": "rm(",
     "library": "var_list.r",
     "varRefreshCmd": "cat(var_dic_list()) "
    }
   },
   "types_to_exclude": [
    "module",
    "function",
    "builtin_function_or_method",
    "instance",
    "_Feature"
   ],
   "window_display": false
  }
 },
 "nbformat": 4,
 "nbformat_minor": 5
}
