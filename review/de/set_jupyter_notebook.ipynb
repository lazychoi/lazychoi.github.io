{
 "cells": [
  {
   "cell_type": "raw",
   "id": "267a05b4",
   "metadata": {},
   "source": [
    "---\n",
    "title: 주피터 노트북 설정\n",
    "date: 2022/11/05\n",
    "updated: last-modified\n",
    "---"
   ]
  },
  {
   "cell_type": "markdown",
   "id": "45811533",
   "metadata": {},
   "source": [
    "## 순서\n",
    "\n",
    "1. 설정 파일 경로 찾기\n",
    "1. 설정 파일 경로 안에 custom 폴더 만들고 그 안에 custom.js 파일 만들기\n",
    "1. custom.js 파일에 자바스크립트 코드 붙여넣기\n",
    "1. 주피터 노트북 재실행\n",
    "\n",
    "## 설정 파일 경로 찾기"
   ]
  },
  {
   "cell_type": "code",
   "execution_count": 1,
   "id": "df23408c",
   "metadata": {},
   "outputs": [
    {
     "data": {
      "text/plain": [
       "'/Users/jun/.jupyter'"
      ]
     },
     "execution_count": 1,
     "metadata": {},
     "output_type": "execute_result"
    }
   ],
   "source": [
    "from jupyter_core.paths import jupyter_config_dir\n",
    "      \n",
    "jupyter_config_dir()"
   ]
  },
  {
   "cell_type": "markdown",
   "id": "1f711668",
   "metadata": {},
   "source": [
    "## custom/custom.js 파일 만들기\n",
    "\n",
    "Jupyter 설정 폴더로 이동하여, custom 디렉토리에 custom.js 파일 생성 (폴더 및 파일 생성 -> 있는 경우 파일 오픈)"
   ]
  },
  {
   "cell_type": "code",
   "execution_count": 5,
   "id": "bb837fe8",
   "metadata": {},
   "outputs": [
    {
     "name": "stdout",
     "output_type": "stream",
     "text": [
      "/Users/jun/.jupyter\n",
      "total 8\r\n",
      "drwxr-xr-x   5 jun  staff   160 Oct 31 03:43 \u001b[1m\u001b[36m.\u001b[m\u001b[m/\r\n",
      "drwxr-xr-x+ 69 jun  staff  2208 Nov  5 10:12 \u001b[1m\u001b[36m..\u001b[m\u001b[m/\r\n",
      "drwxr-xr-x   4 jun  staff   128 Oct 31 16:36 \u001b[1m\u001b[36mlab\u001b[m\u001b[m/\r\n",
      "-rw-r--r--   1 jun  staff    26 Oct 16 10:30 migrated\r\n",
      "drwxr-xr-x   4 jun  staff   128 Oct 16 10:36 \u001b[1m\u001b[36mnbconfig\u001b[m\u001b[m/\r\n"
     ]
    }
   ],
   "source": [
    "%cd ~/.jupyter\n",
    "%ls -al"
   ]
  },
  {
   "cell_type": "code",
   "execution_count": 6,
   "id": "48748a2d",
   "metadata": {},
   "outputs": [
    {
     "name": "stdout",
     "output_type": "stream",
     "text": [
      "/Users/jun/.jupyter/custom\n"
     ]
    }
   ],
   "source": [
    "%mkdir custom\n",
    "%cd custom"
   ]
  },
  {
   "cell_type": "markdown",
   "id": "be3445eb",
   "metadata": {},
   "source": [
    "## 자바스크립트 코드 붙여넣기\n",
    "\n",
    "custom 폴더 안에 custom.js 파일을 만들어 아래 코드 입력\n",
    "\n",
    "```javascript\n",
    "require([\"codemirror/keymap/sublime\", \"notebook/js/cell\", \"base/js/namespace\"],\n",
    "     function(sublime_keymap, cell, IPython) {\n",
    "         cell.Cell.options_default.cm_config.keyMap = 'sublime';\n",
    "         var cells = IPython.notebook.get_cells();\n",
    "         for(var c=0; c < cells.length ; c++){\n",
    "             cells[c].code_mirror.setOption('keyMap', 'sublime');\n",
    "         }\n",
    "     } \n",
    ");\n",
    "```\n",
    "\n",
    "## 출처\n",
    "\n",
    "[출처 가기](https://sungalex.github.io/python/dev/2020/06/21/Multi-cursor_and_selection.html){target=_blank}"
   ]
  },
  {
   "cell_type": "code",
   "execution_count": null,
   "id": "1d4b7eca",
   "metadata": {},
   "outputs": [],
   "source": []
  }
 ],
 "metadata": {
  "kernelspec": {
   "display_name": "Python 3 (ipykernel)",
   "language": "python",
   "name": "python3"
  },
  "language_info": {
   "codemirror_mode": {
    "name": "ipython",
    "version": 3
   },
   "file_extension": ".py",
   "mimetype": "text/x-python",
   "name": "python",
   "nbconvert_exporter": "python",
   "pygments_lexer": "ipython3",
   "version": "3.9.12"
  },
  "toc": {
   "base_numbering": 1,
   "nav_menu": {},
   "number_sections": true,
   "sideBar": true,
   "skip_h1_title": false,
   "title_cell": "Table of Contents",
   "title_sidebar": "Contents",
   "toc_cell": false,
   "toc_position": {},
   "toc_section_display": true,
   "toc_window_display": true
  },
  "varInspector": {
   "cols": {
    "lenName": 16,
    "lenType": 16,
    "lenVar": 40
   },
   "kernels_config": {
    "python": {
     "delete_cmd_postfix": "",
     "delete_cmd_prefix": "del ",
     "library": "var_list.py",
     "varRefreshCmd": "print(var_dic_list())"
    },
    "r": {
     "delete_cmd_postfix": ") ",
     "delete_cmd_prefix": "rm(",
     "library": "var_list.r",
     "varRefreshCmd": "cat(var_dic_list()) "
    }
   },
   "types_to_exclude": [
    "module",
    "function",
    "builtin_function_or_method",
    "instance",
    "_Feature"
   ],
   "window_display": false
  }
 },
 "nbformat": 4,
 "nbformat_minor": 5
}
