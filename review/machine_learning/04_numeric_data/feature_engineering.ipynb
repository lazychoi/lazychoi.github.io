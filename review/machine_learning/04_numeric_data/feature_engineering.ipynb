{
 "cells": [
  {
   "cell_type": "raw",
   "id": "3990207d-9b54-4449-8afa-2d89b433e697",
   "metadata": {},
   "source": [
    "---\n",
    "title: \"특성 생성 변환\"\n",
    "date: 2022/11/17\n",
    "updated: last-modified\n",
    "format: \n",
    "  html:\n",
    "    code-fold: false\n",
    "---"
   ]
  },
  {
   "cell_type": "code",
   "execution_count": 1,
   "id": "b8d490d4-27d5-4b0e-96c3-17a338631cfa",
   "metadata": {},
   "outputs": [],
   "source": [
    "import numpy as np"
   ]
  },
  {
   "cell_type": "markdown",
   "id": "5ae6350b-41ad-4231-9106-d6600956b05f",
   "metadata": {},
   "source": [
    "## 다항(polynomial) 특성과 교차항(interaction) 특성 생성\n",
    "\n",
    "### 다항 특성 추가 이유\n",
    "\n",
    "- 특성과 타깃 사이에 비선형 관계가 있다는 가정을 추가할 때. eg. 주요 질병에 걸릴 확률에 나이가 미치는 영향은 일정한 상숫값이 아니고 나이가 증가함에 따라 같이 증가한다고 가정할 수 있다. 이 효과를 주입하기 위해 고차항 특성을 만든다. x^2, x^3 등\n",
    "\n",
    "### 교차항 특성 추가 이유\n",
    "\n",
    "- 한 특성 효과가 다른 특성에 의존하는 경우. eg. 커피가 달달한지 예측할 때 1)설탕을 넣고 2)커피를 젓는 두 가지 특성이 모두 작용해야 커피가 달달하다. 타깃(달달함)에 대한 각 특성의 영향은 서로에게 종속적이다. 따라서 개별 특성을 곱한 교차항을 특성에 추가한다.\n",
    "\n",
    "### PolynomialFeatures(degree=n, interaction_only=False, include_bias=True)\n",
    "\n",
    "- degree : 다항식의 최대 차수. eg. degree=2 -> $x_1, x_2, x_1^2, x_2^2$\n",
    "- 기본적으로 교차항 포함 $x_1x_2$\n",
    "- interaction_only=True : 교차항만 포함\n",
    "- include_bias=True : 상수항 1 추가\n",
    "- 변환 후 get_feature_names_out 메서드는 특성 변환 수식 반환"
   ]
  },
  {
   "cell_type": "code",
   "execution_count": 16,
   "id": "5e0630d7-18b1-43ad-8a2a-32d901ba8002",
   "metadata": {},
   "outputs": [
    {
     "name": "stdout",
     "output_type": "stream",
     "text": [
      "features:\n",
      " [[2 3]\n",
      " [2 3]\n",
      " [2 3]]\n",
      "new features:\n",
      " [[2. 3. 4. 6. 9.]\n",
      " [2. 3. 4. 6. 9.]\n",
      " [2. 3. 4. 6. 9.]]\n",
      "특성 변환 수식: ['x0' 'x1' 'x0^2' 'x0 x1' 'x1^2']\n"
     ]
    }
   ],
   "source": [
    "from sklearn.preprocessing import PolynomialFeatures\n",
    "\n",
    "features = np.array([[2, 3],\n",
    "                     [2, 3],\n",
    "                     [2, 3]])\n",
    "print('features:\\n', features)\n",
    "polynomial_features = PolynomialFeatures(degree=2, interaction_only=False, include_bias=False)\n",
    "print('new features:\\n', polynomial_features.fit_transform(features))\n",
    "\n",
    "print('특성 변환 수식:', polynomial_features.get_feature_names_out())"
   ]
  },
  {
   "cell_type": "markdown",
   "id": "c941cd85-6bf1-4795-bac3-926984641a4f",
   "metadata": {},
   "source": [
    "## 특성에 함수 적용하여 변환\n",
    "\n",
    "- 판다스의 apply 메서드 사용\n",
    "- 사이킷런의 FunctionTransformer, ColumnTransformer 사용\n",
    "\n",
    "### FunctionTransformer(validate=False)\n",
    "\n",
    "- validate=True : 입력값이 2차원 배열인지 확인\n",
    "\n",
    "### ColumnTransformer([(이름, 변환기, 열 리스트), (이름, 변환기, 열 리스트), ...])\n",
    "\n",
    "- 튜플로 이루어진 리스트를 입력으로 받는다\n",
    "- ColumnTransformer에 데이터프레임이 아니라 넘파이 배열을 직접 넣을 때 열 리스트를 지정하는 방법은 열 위치를 숫자로 넣으면 된다. eg. 첫 번째 열 -> [0], 두세 번째 열 -> [1, 2]\n",
    "- 넘파이 배열의 변수명은 fit_transform에서 지정한다. fit_transform(변수명)"
   ]
  },
  {
   "cell_type": "code",
   "execution_count": 18,
   "id": "0b08345c-6717-4636-8764-809e617b8fd3",
   "metadata": {},
   "outputs": [
    {
     "name": "stdout",
     "output_type": "stream",
     "text": [
      "함수 적용한 특성:\n",
      " [[12 13]\n",
      " [12 13]\n",
      " [12 13]]\n"
     ]
    }
   ],
   "source": [
    "from sklearn.preprocessing import FunctionTransformer\n",
    "\n",
    "features = np.array([[2, 3],\n",
    "                     [2, 3],\n",
    "                     [2, 3]])\n",
    "\n",
    "def add_ten(x):\n",
    "    return x + 10\n",
    "\n",
    "ten_transformer = FunctionTransformer(add_ten)\n",
    "features_ten = ten_transformer.transform(features)\n",
    "print('함수 적용한 특성:\\n', features_ten)"
   ]
  },
  {
   "cell_type": "code",
   "execution_count": null,
   "id": "8356cd5a-8671-41dd-9af5-c7fae172a484",
   "metadata": {},
   "outputs": [],
   "source": [
    "# validate=True 설정 후 1차원 배열을 넣으면 에러 발생\n",
    "err_transform = FunctionTransformer(add_ten, validate=True).transform(np.array([1,2,3,4]))"
   ]
  },
  {
   "cell_type": "code",
   "execution_count": 53,
   "id": "f4f128bf-4ee7-4ae9-adf5-446b14640204",
   "metadata": {},
   "outputs": [
    {
     "data": {
      "text/plain": [
       "array([[12, 30],\n",
       "       [12, 30],\n",
       "       [12, 30]])"
      ]
     },
     "execution_count": 53,
     "metadata": {},
     "output_type": "execute_result"
    }
   ],
   "source": [
    "from sklearn.compose import ColumnTransformer\n",
    "\n",
    "def mul_ten(x):\n",
    "    return x * 10\n",
    "\n",
    "ct = ColumnTransformer(\n",
    "        [('add_ten', FunctionTransformer(add_ten), [0]),\n",
    "         ('mul_ten', FunctionTransformer(mul_ten), [1])])\n",
    "ct.fit_transform(features)"
   ]
  },
  {
   "cell_type": "code",
   "execution_count": null,
   "id": "6c30bc3d-93d3-4eaf-aaad-be9134ae2e21",
   "metadata": {},
   "outputs": [],
   "source": []
  }
 ],
 "metadata": {
  "kernelspec": {
   "display_name": "Python 3 (ipykernel)",
   "language": "python",
   "name": "python3"
  },
  "language_info": {
   "codemirror_mode": {
    "name": "ipython",
    "version": 3
   },
   "file_extension": ".py",
   "mimetype": "text/x-python",
   "name": "python",
   "nbconvert_exporter": "python",
   "pygments_lexer": "ipython3",
   "version": "3.9.12"
  }
 },
 "nbformat": 4,
 "nbformat_minor": 5
}
