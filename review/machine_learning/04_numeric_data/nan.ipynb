{
 "cells": [
  {
   "cell_type": "raw",
   "id": "8471c9db-d163-4f9f-9f9d-8be5cb31fdd1",
   "metadata": {},
   "source": [
    "---\n",
    "title: \"수치형 특성 결측치 다루기\"\n",
    "date: 2022/11/17\n",
    "updated: last-modified\n",
    "format: \n",
    "  html:\n",
    "    code-fold: false\n",
    "---"
   ]
  },
  {
   "cell_type": "code",
   "execution_count": 2,
   "id": "dbabb98e-4ca5-4a0e-a929-cacfd6af25ad",
   "metadata": {},
   "outputs": [],
   "source": [
    "import numpy as np"
   ]
  },
  {
   "cell_type": "markdown",
   "id": "4e8eb85d-53b4-4b56-848d-a8a5be93c465",
   "metadata": {
    "tags": []
   },
   "source": [
    "## 결측치 종류\n",
    "\n",
    "- MCAR(Missing Completely at Random): 완전 랜덤하게 누락\n",
    "- MAR(Missing at Random): 랜덤하게 누락. 값이 누락될 확률이 다른 특성에서 얻은 정보에 의존함. eg. 결혼 여부와 자녀 유무에 관한 설문에서, 미혼자는 자녀 유무 항목을 건너뛸 가능성이 높다. 이때 자녀 유무 항목의 응답 여부는 결혼 여부 특성에 의존한다.\n",
    "- MNAR(Not Missing at Random): 값이 누락될 확률이 특성에서 잡지 못한 정보에 의존. eg. 고소득자는 수입에 관한 설문항목에 응답하지 않을 가능성이 높다.\n",
    "\n",
    "=> MCAR이나 MAR은 이따금 결측치가 있는 샘플을 삭제해도 괜찮다. **MNAR은 값이 누란된 사실 자체가 정보다.** MNAR인 샘플을 삭제하면 데이터에 편향을 추가하게 된다."
   ]
  },
  {
   "cell_type": "markdown",
   "id": "15d3c765-8f76-4435-bd8c-2379f84038ab",
   "metadata": {},
   "source": [
    "## 결측치 없는 샘플만 반환\n",
    "\n",
    "- 넘파이: ~ 연산자와 np.isnan(ndarray) 사용\n",
    "- 판다스: df.dropna()"
   ]
  },
  {
   "cell_type": "code",
   "execution_count": 3,
   "id": "75933014-e5a0-4183-ab3b-54c30b738f0c",
   "metadata": {},
   "outputs": [
    {
     "data": {
      "text/plain": [
       "array([[ 1.1, 11.1],\n",
       "       [ 2.2, 22.2],\n",
       "       [ 3.3, 33.3],\n",
       "       [ 4.4, 44.4]])"
      ]
     },
     "execution_count": 3,
     "metadata": {},
     "output_type": "execute_result"
    }
   ],
   "source": [
    "features = np.array([[1.1, 11.1],\n",
    "                     [2.2, 22.2],\n",
    "                     [3.3, 33.3],\n",
    "                     [4.4, 44.4],\n",
    "                     [np.nan, 55]])\n",
    "\n",
    "features[~np.isnan(features).any(axis=1)]"
   ]
  },
  {
   "cell_type": "markdown",
   "id": "422f8d97-9cd2-4770-ae34-d6bcadab2d73",
   "metadata": {},
   "source": [
    "## 결측치 채우기\n",
    "\n",
    "데이터 양이 작으면 KNN 알고리즘을 사용해 누락된 값을 예측한다.(fancyimpute 모듈) <br>\n",
    "-> fancyimpute 설치 에러. 아마도 \n",
    "\n",
    "sklearn.preprocessing.SimpleImputer 사용\n"
   ]
  },
  {
   "cell_type": "code",
   "execution_count": null,
   "id": "60d11063-b217-4c95-9533-6e65e796a8d9",
   "metadata": {},
   "outputs": [],
   "source": [
    "from sklearn.preprocessing import StandardScaler\n",
    "from fancyimpute import KNN\n",
    "from sklearn.datasets import make_blobs\n",
    "\n",
    "features, _ = make_blobs(n_samples=1000,\n",
    "                         n_features=2,\n",
    "                         random_state=1)\n",
    "\n",
    "scaler = StandardScaler()\n",
    "standardized_features = scaler.fit_transform(features)\n",
    "\n",
    "# 첫 번째 샘플의 첫 번째 특성 삭제\n",
    "true_value = standardized_features[0,0]\n",
    "standardized_features[0,0] = np.nan\n",
    "\n",
    "# 특성 행렬에 있는 누락된 값 예측\n",
    "features_knn_imputed = KNN(k=5, verbose=0).fit_transform(standardized_features)\n",
    "\n",
    "# 실제 값과 대체된 값 비교\n",
    "print('실제 값:', true_value)\n",
    "print('대체된 값:', features_knn_imputed[0,0])"
   ]
  },
  {
   "cell_type": "code",
   "execution_count": 19,
   "id": "48a07522-f1a9-4ff8-9a3e-e1f2f0e53fc9",
   "metadata": {},
   "outputs": [
    {
     "name": "stdout",
     "output_type": "stream",
     "text": [
      "실제 값: 0.8730186113995938\n",
      "대체된 값: -0.000873892503901796\n"
     ]
    }
   ],
   "source": [
    "from sklearn.impute import SimpleImputer\n",
    "from sklearn.preprocessing import StandardScaler\n",
    "from sklearn.datasets import make_blobs\n",
    "\n",
    "features, _ = make_blobs(n_samples=1000,\n",
    "                         n_features=2,\n",
    "                         random_state=1)\n",
    "\n",
    "scaler = StandardScaler()\n",
    "standardized_features = scaler.fit_transform(features)\n",
    "\n",
    "# 첫 번째 샘플의 첫 번째 특성 삭제\n",
    "true_value = standardized_features[0,0]\n",
    "standardized_features[0,0] = np.nan\n",
    "\n",
    "si = SimpleImputer() # 기본값은 mean\n",
    "feature_simpleImputed = si.fit_transform(standardized_features)\n",
    "\n",
    "# 실제 값과 대체된 값 비교\n",
    "print('실제 값:', true_value)\n",
    "print('대체된 값:', feature_simpleImputed[0,0])"
   ]
  }
 ],
 "metadata": {
  "kernelspec": {
   "display_name": "Python 3 (ipykernel)",
   "language": "python",
   "name": "python3"
  },
  "language_info": {
   "codemirror_mode": {
    "name": "ipython",
    "version": 3
   },
   "file_extension": ".py",
   "mimetype": "text/x-python",
   "name": "python",
   "nbconvert_exporter": "python",
   "pygments_lexer": "ipython3",
   "version": "3.9.12"
  }
 },
 "nbformat": 4,
 "nbformat_minor": 5
}
