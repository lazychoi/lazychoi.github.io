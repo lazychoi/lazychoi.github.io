{
 "cells": [
  {
   "cell_type": "raw",
   "metadata": {},
   "source": [
    "---\n",
    "title: \"특성 스케일 바꾸기\"\n",
    "date: 2022/11/15\n",
    "updated: last-modified\n",
    "format: \n",
    "  html:\n",
    "    code-fold: false\n",
    "---"
   ]
  },
  {
   "cell_type": "code",
   "execution_count": 1,
   "metadata": {},
   "outputs": [],
   "source": [
    "import numpy as np"
   ]
  },
  {
   "cell_type": "markdown",
   "metadata": {},
   "source": [
    "## 특성 스케일 바꾸기\n",
    "\n",
    "스케일링은 기본적으로 **StandardScaler**를 사용한다. 그러나 알고리즘에 따라 권장하는 스케일링 방식이 있는 경우가 있다. 신경망은 **MinMaxScaler**를 종종 권장한다. 데이터에 이상치가 많다면 중간값과 사분위범위를 사용하는 **RobustScaler**를 사용한다. **QuantileTransformer**는 훈련 데이터를 1000개의 분위로 나누어 0~1 상이에 고르게 분포시킴으로써 이상치의 영향을 줄인다."
   ]
  },
  {
   "cell_type": "markdown",
   "metadata": {},
   "source": [
    "## **샘플**의 특성값을 전체 길이가 1인 단위 노름으로 변환\n",
    "\n",
    "- Normalizer(norm=\"l1/l2/max\")\n",
    "- 단위 노름이 되도록 개별 샘플 값을 변환\n",
    "- 텍스트 분류와 같이 유사한 특성이 많을 때 종종 사용\n",
    "- 행 단위 변환이므로 fit 메서드는 아무런 작업을 하지 않으니 transform 메서드만 사용\n",
    "- l2 : 유클리드 노름 : features / np.sqrt(np.sum(np.square(features), axis=1, keepdims=True))\n",
    "- l1 : 맨해튼 노름 : features / np.sum(np.abs(features)), axis=1, keepdims=True\n",
    "- l1 norm은 샘플 특성값의 합 = 1"
   ]
  },
  {
   "cell_type": "code",
   "execution_count": 5,
   "metadata": {},
   "outputs": [
    {
     "name": "stdout",
     "output_type": "stream",
     "text": [
      "l2 norm:\n",
      " [[0.70710678 0.70710678]\n",
      " [0.30782029 0.95144452]\n",
      " [0.07405353 0.99725427]\n",
      " [0.04733062 0.99887928]\n",
      " [0.95709822 0.28976368]]\n",
      "l1 norm:\n",
      " [[0.5        0.5       ]\n",
      " [0.24444444 0.75555556]\n",
      " [0.06912442 0.93087558]\n",
      " [0.04524008 0.95475992]\n",
      " [0.76760563 0.23239437]]\n"
     ]
    }
   ],
   "source": [
    "from sklearn.preprocessing import Normalizer\n",
    "\n",
    "features = np.array([[0.5,0.5],\n",
    "                     [1.1,3.4],\n",
    "                     [1.5,20.2],\n",
    "                     [1.63,34.4],\n",
    "                     [10.9,3.3]])\n",
    "\n",
    "features_l2_norm = Normalizer(norm='l2').transform(features)\n",
    "print('l2 norm:\\n', features_l2_norm)\n",
    "features_l1_norm = Normalizer(norm='l1').transform(features)\n",
    "print('l1 norm:\\n', features_l1_norm)"
   ]
  },
  {
   "cell_type": "code",
   "execution_count": null,
   "metadata": {},
   "outputs": [],
   "source": []
  }
 ],
 "metadata": {
  "kernelspec": {
   "display_name": "Python 3 (ipykernel)",
   "language": "python",
   "name": "python3"
  },
  "language_info": {
   "codemirror_mode": {
    "name": "ipython",
    "version": 3
   },
   "file_extension": ".py",
   "mimetype": "text/x-python",
   "name": "python",
   "nbconvert_exporter": "python",
   "pygments_lexer": "ipython3",
   "version": "3.9.12"
  },
  "vscode": {
   "interpreter": {
    "hash": "38cca0c38332a56087b24af0bc80247f4fced29cb4f7f437d91dc159adec9c4e"
   }
  }
 },
 "nbformat": 4,
 "nbformat_minor": 4
}
