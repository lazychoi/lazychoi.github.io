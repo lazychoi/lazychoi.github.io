{
 "cells": [
  {
   "cell_type": "raw",
   "id": "bbc934ea-c107-4a98-adde-885e85ce6c78",
   "metadata": {},
   "source": [
    "---\n",
    "title: \"특성을 구간으로 나누기\"\n",
    "date: 2022/11/17\n",
    "updated: last-modified\n",
    "format: \n",
    "  html:\n",
    "    code-fold: false\n",
    "---"
   ]
  },
  {
   "cell_type": "code",
   "execution_count": 3,
   "id": "5e97cfa4-5022-493c-a3a2-7c94f1080350",
   "metadata": {},
   "outputs": [],
   "source": [
    "import numpy as np"
   ]
  },
  {
   "cell_type": "markdown",
   "id": "00c3da76-784a-4799-9373-ef03c4e25945",
   "metadata": {},
   "source": [
    "## 이산화 사용 이유\n",
    "\n",
    "수치 특성을 범주형처럼 다룰 때 유용한 전략이다. 예를 들어 18세와 19세의 소비 습관은 차이가 매우 작지만 19세와 20세 사이는 차이가 클 수 있다. 20세부터는 성년이어서 술을 살 수 있기 때문이다.\n",
    "\n",
    "## 특성을 둘로 나누기\n",
    "\n",
    "- sklearn.preprocessing.Binarizer\n",
    "- numpy.digitize(x, bins=[])"
   ]
  },
  {
   "cell_type": "code",
   "execution_count": 16,
   "id": "35c30917-4cf0-49b1-8f9d-58bac810fe99",
   "metadata": {},
   "outputs": [
    {
     "name": "stdout",
     "output_type": "stream",
     "text": [
      "[[0]\n",
      " [0]\n",
      " [1]\n",
      " [1]\n",
      " [1]]\n",
      "\n",
      " [[0]\n",
      " [0]\n",
      " [1]\n",
      " [1]\n",
      " [1]]\n"
     ]
    }
   ],
   "source": [
    "from sklearn.preprocessing import Binarizer\n",
    "\n",
    "age = np.array([[6],\n",
    "                [12],\n",
    "                [20],\n",
    "                [36],\n",
    "                [65]])\n",
    "\n",
    "bi = Binarizer(threshold=18)\n",
    "print(bi.fit_transform(age))\n",
    "bi2 = np.digitize(age, bins=[20])\n",
    "print('\\n', bi2)"
   ]
  },
  {
   "cell_type": "markdown",
   "id": "e6e86378-c3c5-40c4-ad9a-c7797eece168",
   "metadata": {},
   "source": [
    "## 특성을 여러 임곗값에 따라 나누기\n",
    "\n",
    "- [numpy.digitize](https://numpy.org/doc/stable/reference/generated/numpy.digitize.html){target=_blank}\n",
    "- numpy.digitize(x, bins, right=False)\n",
    "- bins = 리스트. 요소는 구분 기준으로 사용되는 경곗값(경곗값은 포함하지 않음) \n",
    "- eg. [20, 30, 64] -> [ , 20), [20, 30), [30, 64), [64, ) '['는 포함 '('는 포함하지 않음\n",
    "- right=True : 경곗값을 포함"
   ]
  },
  {
   "cell_type": "code",
   "execution_count": 13,
   "id": "00740d67-5921-40a5-ba26-8c81ab61fdb7",
   "metadata": {},
   "outputs": [
    {
     "name": "stdout",
     "output_type": "stream",
     "text": [
      "[ 6 12 20 36 65]\n"
     ]
    },
    {
     "data": {
      "text/plain": [
       "array([0, 0, 1, 2, 3])"
      ]
     },
     "execution_count": 13,
     "metadata": {},
     "output_type": "execute_result"
    }
   ],
   "source": [
    "print(age.flatten())\n",
    "np.digitize(age, bins=[20, 36, 64]).flatten()"
   ]
  },
  {
   "cell_type": "code",
   "execution_count": 14,
   "id": "77ed08ef-1f8a-4641-a2f8-24feb4c3d1eb",
   "metadata": {},
   "outputs": [
    {
     "data": {
      "text/plain": [
       "array([0, 0, 0, 1, 3])"
      ]
     },
     "execution_count": 14,
     "metadata": {},
     "output_type": "execute_result"
    }
   ],
   "source": [
    "np.digitize(age, bins=[20, 36, 64], right=True).flatten()"
   ]
  },
  {
   "cell_type": "markdown",
   "id": "25b76048-ce27-43ca-adc8-fb22920dd66c",
   "metadata": {},
   "source": [
    "## KBinsDiscretizer\n",
    "\n",
    "- sklearn.preprocessing.KBinsDiscretizer(n_bins=5, encode='onehot', strategy='quantile')\n",
    "- encode='ordinal/onehot/onehot-dense' : 원핫 인코딩된 희소 행렬 반환. 'onehot-dense'는 원핫 인코딩된 밀집행렬 반환.\n",
    "- strategy='quantile/uniform/kmeans' : quantile-각 구간의 샘플 개수 비슷, uniform-구간 폭 동일\n",
    "- 구간 경계값은 bin_edges_ 속성"
   ]
  },
  {
   "cell_type": "code",
   "execution_count": 18,
   "id": "6e8eedf0-6b15-4078-8deb-d194f460a32f",
   "metadata": {},
   "outputs": [
    {
     "name": "stdout",
     "output_type": "stream",
     "text": [
      "[[0.]\n",
      " [0.]\n",
      " [0.]\n",
      " [2.]\n",
      " [3.]]\n",
      "[array([ 6.  , 20.75, 35.5 , 50.25, 65.  ])]\n"
     ]
    }
   ],
   "source": [
    "from sklearn.preprocessing import KBinsDiscretizer\n",
    "\n",
    "kb = KBinsDiscretizer(4, encode='ordinal', strategy='uniform')\n",
    "print(kb.fit_transform(age))\n",
    "print(kb.bin_edges_)"
   ]
  },
  {
   "cell_type": "code",
   "execution_count": null,
   "id": "23963747-662c-495a-9c2a-c63ff9d22395",
   "metadata": {},
   "outputs": [],
   "source": []
  }
 ],
 "metadata": {
  "kernelspec": {
   "display_name": "Python 3 (ipykernel)",
   "language": "python",
   "name": "python3"
  },
  "language_info": {
   "codemirror_mode": {
    "name": "ipython",
    "version": 3
   },
   "file_extension": ".py",
   "mimetype": "text/x-python",
   "name": "python",
   "nbconvert_exporter": "python",
   "pygments_lexer": "ipython3",
   "version": "3.9.12"
  }
 },
 "nbformat": 4,
 "nbformat_minor": 5
}
