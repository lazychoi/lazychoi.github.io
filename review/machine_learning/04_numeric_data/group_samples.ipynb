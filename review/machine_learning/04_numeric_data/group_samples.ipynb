{
 "cells": [
  {
   "cell_type": "raw",
   "id": "8c3a465f-d052-4a6d-9ada-583d258c7850",
   "metadata": {},
   "source": [
    "---\n",
    "title: \"샘플을 군집으로 묶기\"\n",
    "date: 2022/11/17\n",
    "updated: last-modified\n",
    "format: \n",
    "  html:\n",
    "    code-fold: false\n",
    "---"
   ]
  },
  {
   "cell_type": "code",
   "execution_count": 5,
   "id": "64f658c0-fb35-434a-a934-0b6413edc452",
   "metadata": {},
   "outputs": [],
   "source": [
    "import numpy as np\n",
    "import pandas as pd"
   ]
  },
  {
   "cell_type": "markdown",
   "id": "9493d00b-51f2-41e2-9b53-24c458bf4acd",
   "metadata": {},
   "source": [
    "## K-means clustering 이용하여 샘플 범주화\n",
    "\n",
    "샘플을 그룹으로 묶는다. 각 그룹은 새로운 특성이 된다."
   ]
  },
  {
   "cell_type": "code",
   "execution_count": 8,
   "id": "1093b770-ddb0-4f81-9816-a51cc66dc5b6",
   "metadata": {},
   "outputs": [
    {
     "data": {
      "text/html": [
       "<div>\n",
       "<style scoped>\n",
       "    .dataframe tbody tr th:only-of-type {\n",
       "        vertical-align: middle;\n",
       "    }\n",
       "\n",
       "    .dataframe tbody tr th {\n",
       "        vertical-align: top;\n",
       "    }\n",
       "\n",
       "    .dataframe thead th {\n",
       "        text-align: right;\n",
       "    }\n",
       "</style>\n",
       "<table border=\"1\" class=\"dataframe\">\n",
       "  <thead>\n",
       "    <tr style=\"text-align: right;\">\n",
       "      <th></th>\n",
       "      <th>col1</th>\n",
       "      <th>col2</th>\n",
       "      <th>group</th>\n",
       "    </tr>\n",
       "  </thead>\n",
       "  <tbody>\n",
       "    <tr>\n",
       "      <th>45</th>\n",
       "      <td>-9.509194</td>\n",
       "      <td>-4.028920</td>\n",
       "      <td>0</td>\n",
       "    </tr>\n",
       "    <tr>\n",
       "      <th>4</th>\n",
       "      <td>-6.641388</td>\n",
       "      <td>-8.075888</td>\n",
       "      <td>2</td>\n",
       "    </tr>\n",
       "    <tr>\n",
       "      <th>33</th>\n",
       "      <td>-10.189548</td>\n",
       "      <td>-4.840978</td>\n",
       "      <td>0</td>\n",
       "    </tr>\n",
       "    <tr>\n",
       "      <th>36</th>\n",
       "      <td>-1.927448</td>\n",
       "      <td>4.936845</td>\n",
       "      <td>1</td>\n",
       "    </tr>\n",
       "    <tr>\n",
       "      <th>6</th>\n",
       "      <td>-2.760179</td>\n",
       "      <td>5.551214</td>\n",
       "      <td>1</td>\n",
       "    </tr>\n",
       "  </tbody>\n",
       "</table>\n",
       "</div>"
      ],
      "text/plain": [
       "         col1      col2  group\n",
       "45  -9.509194 -4.028920      0\n",
       "4   -6.641388 -8.075888      2\n",
       "33 -10.189548 -4.840978      0\n",
       "36  -1.927448  4.936845      1\n",
       "6   -2.760179  5.551214      1"
      ]
     },
     "execution_count": 8,
     "metadata": {},
     "output_type": "execute_result"
    }
   ],
   "source": [
    "from sklearn.datasets import make_blobs\n",
    "from sklearn.cluster import KMeans\n",
    "\n",
    "# 데이터 만들기\n",
    "features, _ = make_blobs(n_samples=50,\n",
    "                         n_features=2,\n",
    "                         centers=3,\n",
    "                         random_state=1)\n",
    "\n",
    "# 데이터프레임 만들기\n",
    "df = pd.DataFrame(features, columns=['col1', 'col2'])\n",
    "\n",
    "cluster = KMeans(3, random_state=0)\n",
    "cluster.fit(features)\n",
    "\n",
    "df['group'] = cluster.predict(features)\n",
    "df.sample(5)"
   ]
  },
  {
   "cell_type": "code",
   "execution_count": null,
   "id": "57a69f98-cf91-4298-86a7-a0116efb56ed",
   "metadata": {},
   "outputs": [],
   "source": []
  },
  {
   "cell_type": "code",
   "execution_count": null,
   "id": "8f1ca5b3-9ce4-4f8e-9804-8dbc533924b3",
   "metadata": {},
   "outputs": [],
   "source": []
  }
 ],
 "metadata": {
  "kernelspec": {
   "display_name": "Python 3 (ipykernel)",
   "language": "python",
   "name": "python3"
  },
  "language_info": {
   "codemirror_mode": {
    "name": "ipython",
    "version": 3
   },
   "file_extension": ".py",
   "mimetype": "text/x-python",
   "name": "python",
   "nbconvert_exporter": "python",
   "pygments_lexer": "ipython3",
   "version": "3.9.12"
  }
 },
 "nbformat": 4,
 "nbformat_minor": 5
}
