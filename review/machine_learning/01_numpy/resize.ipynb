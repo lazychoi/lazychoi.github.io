{
 "cells": [
  {
   "cell_type": "code",
   "execution_count": null,
   "metadata": {},
   "outputs": [],
   "source": [
    "---\n",
    "title: \"배열 크기 바꾸기\"\n",
    "date: 2022/11/15\n",
    "updated: last-modified\n",
    "format: \n",
    "  html:\n",
    "    code-fold: false\n",
    "---"
   ]
  },
  {
   "cell_type": "markdown",
   "metadata": {},
   "source": [
    "## reshape와 flatten 차이\n",
    "\n",
    "- reshape : 얕은 복사\n",
    "- flatten : 깊은 복사"
   ]
  },
  {
   "cell_type": "code",
   "execution_count": null,
   "metadata": {},
   "outputs": [
    {
     "name": "stdout",
     "output_type": "stream",
     "text": [
      "reshape:\n",
      " [[500  12  13  14  15  16  17  18  19]]\n",
      "원본 변경 사항이 반영됨:\n",
      " [[100  12  13  14  15  16  17  18  19]]\n",
      "flattened [100  12  13  14  15  16  17  18  19]\n",
      "원본 변경 사항이 반영되지 않음:\n",
      " [100  12  13  14  15  16  17  18  19]\n"
     ]
    }
   ],
   "source": [
    "vetor_reshaped = matrix.reshape(1, -1)\n",
    "print('reshape:\\n', vetor_reshaped)\n",
    "matrix[0][0] = 100\n",
    "print('원본 변경 사항이 반영됨:\\n', vetor_reshaped)\n",
    "\n",
    "vetor_flattened = matrix.flatten()\n",
    "print('flattened', vetor_flattened)\n",
    "matrix[0][0] = 500\n",
    "print('원본 변경 사항이 반영되지 않음:\\n', vetor_flattened)"
   ]
  }
 ],
 "metadata": {
  "kernelspec": {
   "display_name": "Python 3.9.12 ('base')",
   "language": "python",
   "name": "python3"
  },
  "language_info": {
   "name": "python",
   "version": "3.9.12"
  },
  "orig_nbformat": 4,
  "vscode": {
   "interpreter": {
    "hash": "38cca0c38332a56087b24af0bc80247f4fced29cb4f7f437d91dc159adec9c4e"
   }
  }
 },
 "nbformat": 4,
 "nbformat_minor": 2
}
