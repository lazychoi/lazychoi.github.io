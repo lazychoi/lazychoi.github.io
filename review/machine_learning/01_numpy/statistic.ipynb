{
 "cells": [
  {
   "cell_type": "raw",
   "metadata": {},
   "source": [
    "---\n",
    "title: \"통계치 - 최대, 최소, 평균 등\"\n",
    "date: 2022/11/15\n",
    "date-modified: last-modified\n",
    "format: \n",
    "  html:\n",
    "    code-fold: false\n",
    "---"
   ]
  },
  {
   "cell_type": "code",
   "execution_count": 1,
   "metadata": {},
   "outputs": [],
   "source": [
    "import numpy as np"
   ]
  },
  {
   "cell_type": "markdown",
   "metadata": {},
   "source": [
    "#### 넘파이 배열의 각 원소에서 행의 평균을 빼기\n",
    "\n",
    "keepdims=True -> 원본 배열의 차원과 동일한 결과를 만듦"
   ]
  },
  {
   "cell_type": "code",
   "execution_count": null,
   "metadata": {},
   "outputs": [
    {
     "name": "stdout",
     "output_type": "stream",
     "text": [
      "배열:\n",
      " [[11 12 13]\n",
      " [14 15 16]\n",
      " [17 18 19]]\n",
      "행별 평균:\n",
      " [[12.]\n",
      " [15.]\n",
      " [18.]]\n",
      "배열의 각 원소에서 행별 평균 빼기:\n",
      " [[-1.  0.  1.]\n",
      " [-1.  0.  1.]\n",
      " [-1.  0.  1.]]\n"
     ]
    }
   ],
   "source": [
    "matrix = np.arange(11, 20).reshape(3,3)\n",
    "print('배열:\\n', matrix)\n",
    "print('행별 평균:\\n', np.mean(matrix, axis=1, keepdims=True))\n",
    "print('배열의 각 원소에서 행별 평균 빼기:\\n', matrix - np.mean(matrix, axis=1, keepdims=True))\n"
   ]
  },
  {
   "cell_type": "markdown",
   "metadata": {},
   "source": [
    "#### 분산과 표준편차에 자유도 고려하기\n",
    "\n",
    "ddof=n"
   ]
  },
  {
   "cell_type": "code",
   "execution_count": null,
   "metadata": {},
   "outputs": [
    {
     "name": "stdout",
     "output_type": "stream",
     "text": [
      "자유도를 지정하지 않은 분산(기본값 ddof=0):  6.666666666666667\n",
      "자유도 1을 지정한 분산:  7.5\n"
     ]
    }
   ],
   "source": [
    "print('자유도를 지정하지 않은 분산(기본값 ddof=0): ', np.var(matrix))\n",
    "print('자유도 1을 지정한 분산: ', np.var(matrix, ddof=1))"
   ]
  },
  {
   "cell_type": "markdown",
   "metadata": {},
   "source": [
    "## 참고\n",
    "\n",
    "- 파이썬을 활용한 머신러닝 쿡북(크리스 알본 저, 박해선 역)"
   ]
  }
 ],
 "metadata": {
  "kernelspec": {
   "display_name": "Python 3.9.12 ('base')",
   "language": "python",
   "name": "python3"
  },
  "language_info": {
   "codemirror_mode": {
    "name": "ipython",
    "version": 3
   },
   "file_extension": ".py",
   "mimetype": "text/x-python",
   "name": "python",
   "nbconvert_exporter": "python",
   "pygments_lexer": "ipython3",
   "version": "3.9.12"
  },
  "orig_nbformat": 4,
  "vscode": {
   "interpreter": {
    "hash": "38cca0c38332a56087b24af0bc80247f4fced29cb4f7f437d91dc159adec9c4e"
   }
  }
 },
 "nbformat": 4,
 "nbformat_minor": 2
}
