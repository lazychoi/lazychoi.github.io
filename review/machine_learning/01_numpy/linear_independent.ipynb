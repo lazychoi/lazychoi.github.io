{
 "cells": [
  {
   "cell_type": "raw",
   "metadata": {},
   "source": [
    "---\n",
    "title: \"선형 독립, 선형 종속, 행렬 계수\"\n",
    "date: 2022/11/15\n",
    "date-modified: last-modified\n",
    "format: \n",
    "  html:\n",
    "    code-fold: false\n",
    "---"
   ]
  },
  {
   "cell_type": "markdown",
   "metadata": {},
   "source": [
    "#### 선형 독립 의미\n",
    "\n",
    "[출처: 선형 독립, 선형 종속의 의미](https://rfriend.tistory.com/163){target=_blank}\n",
    "\n",
    "<image src=\"https://img1.daumcdn.net/thumb/R1280x0/?scode=mtistory2&fname=https%3A%2F%2Ft1.daumcdn.net%2Fcfile%2Ftistory%2F2545C24E569D04232C\" width=\"48%\">\n",
    "<image src=\"https://img1.daumcdn.net/thumb/R1280x0/?scode=mtistory2&fname=https%3A%2F%2Ft1.daumcdn.net%2Fcfile%2Ftistory%2F26325F4C569D04BB39\" width=\"48%\"><br>\n",
    "\n",
    "|선형 독립|선형 종속|\n",
    "|:-:|:-:|\n",
    "|<image src=\"https://img1.daumcdn.net/thumb/R1280x0/?scode=mtistory2&fname=https%3A%2F%2Ft1.daumcdn.net%2Fcfile%2Ftistory%2F27151247569F92291E\" width=\"480px\">|<image src=\"https://img1.daumcdn.net/thumb/R1280x0/?scode=mtistory2&fname=https%3A%2F%2Ft1.daumcdn.net%2Fcfile%2Ftistory%2F210C6A4F569F9BC205\" width=\"480px\">|"
   ]
  },
  {
   "cell_type": "code",
   "execution_count": null,
   "metadata": {},
   "outputs": [
    {
     "name": "stdout",
     "output_type": "stream",
     "text": [
      "행렬의 랭크(계수):  3\n"
     ]
    }
   ],
   "source": [
    "matrix.reshape(3, 3) # 매트릭스를 원래의 2차원으로 되돌림\n",
    "print('행렬의 랭크(계수): ', np.linalg.matrix_rank(matrix))"
   ]
  },
  {
   "cell_type": "markdown",
   "metadata": {},
   "source": [
    "#### 행렬의 계수(랭크) 의미\n",
    "\n",
    "선형대수에서 어떤 행렬 A의 열계수(列階數, column rank)는 선형독립인 열 벡터의 최대 개수입니다. 마찬가지로 행계수(行階數, row rank)는 선형독립인 행 벡터의 최대 개수입니다. 행렬에서 열계수와 행계수는 항상 같으며, 이를 계수 정리(rank theorem)라고 합니다. 이에 따라 일반적으로 이 둘을 구분없이 A의 계수(階數, rank)라고 부릅니다. 행렬 A의 계수는 rk(A), 혹은 rank A로 표기합니다. [출처](https://rfriend.tistory.com/176){target=_blank}\n",
    "\n",
    "<image src=\"https://img1.daumcdn.net/thumb/R1280x0/?scode=mtistory2&fname=https%3A%2F%2Ft1.daumcdn.net%2Fcfile%2Ftistory%2F990406405B73F4171B\">"
   ]
  }
 ],
 "metadata": {
  "kernelspec": {
   "display_name": "Python 3.9.12 ('base')",
   "language": "python",
   "name": "python3"
  },
  "language_info": {
   "name": "python",
   "version": "3.9.12"
  },
  "orig_nbformat": 4,
  "vscode": {
   "interpreter": {
    "hash": "38cca0c38332a56087b24af0bc80247f4fced29cb4f7f437d91dc159adec9c4e"
   }
  }
 },
 "nbformat": 4,
 "nbformat_minor": 2
}
