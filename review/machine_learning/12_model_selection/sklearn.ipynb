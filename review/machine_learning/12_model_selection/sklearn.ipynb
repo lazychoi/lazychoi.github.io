{
 "cells": [
  {
   "cell_type": "raw",
   "id": "6a9241de-318c-45e9-a043-9e7a68f2d973",
   "metadata": {},
   "source": [
    "---\n",
    "title: \"sklearn 모델 및 클래스 목록 나열하기\"\n",
    "date: 2022/11/16\n",
    "date-modified: last-modified\n",
    "format: \n",
    "  html:\n",
    "    code-fold: true\n",
    "---"
   ]
  },
  {
   "cell_type": "code",
   "execution_count": 7,
   "id": "7a3f8161-2815-4c81-aa03-4705d3010775",
   "metadata": {},
   "outputs": [
    {
     "name": "stdout",
     "output_type": "stream",
     "text": [
      "['calibration', 'clone', 'cluster', 'compose', 'config_context', 'covariance', 'cross_decomposition', 'datasets', 'decomposition', 'discriminant_analysis', 'dummy', 'ensemble', 'exceptions', 'experimental', 'externals', 'feature_extraction', 'feature_selection', 'gaussian_process', 'get_config', 'impute', 'inspection', 'isotonic', 'kernel_approximation', 'kernel_ridge', 'linear_model', 'manifold', 'metrics', 'mixture', 'model_selection', 'multiclass', 'multioutput', 'naive_bayes', 'neighbors', 'neural_network', 'pipeline', 'preprocessing', 'random_projection', 'semi_supervised', 'set_config', 'show_versions', 'svm', 'tree']"
     ]
    }
   ],
   "source": [
    "import sklearn\n",
    "print(sorted(sklearn.__all__), end='')"
   ]
  },
  {
   "cell_type": "code",
   "execution_count": 4,
   "id": "6c4ad564-9bd6-4368-a36a-67b3f40adcd1",
   "metadata": {},
   "outputs": [
    {
     "data": {
      "text/plain": [
       "['BaseDecisionTree',\n",
       " 'DecisionTreeClassifier',\n",
       " 'DecisionTreeRegressor',\n",
       " 'ExtraTreeClassifier',\n",
       " 'ExtraTreeRegressor',\n",
       " 'export_graphviz',\n",
       " 'plot_tree',\n",
       " 'export_text']"
      ]
     },
     "execution_count": 4,
     "metadata": {},
     "output_type": "execute_result"
    }
   ],
   "source": [
    "import sklearn.tree \n",
    "sklearn.tree.__all__"
   ]
  },
  {
   "cell_type": "code",
   "execution_count": 29,
   "id": "470d888d-b0b5-492f-9877-aefb010428f7",
   "metadata": {},
   "outputs": [
    {
     "data": {
      "text/plain": [
       "['ConfusionMatrixDisplay',\n",
       " 'DetCurveDisplay',\n",
       " 'DistanceMetric',\n",
       " 'PrecisionRecallDisplay',\n",
       " 'RocCurveDisplay',\n",
       " 'SCORERS',\n",
       " 'accuracy_score',\n",
       " 'adjusted_mutual_info_score',\n",
       " 'adjusted_rand_score',\n",
       " 'auc',\n",
       " 'average_precision_score',\n",
       " 'balanced_accuracy_score',\n",
       " 'brier_score_loss',\n",
       " 'calinski_harabasz_score',\n",
       " 'check_scoring',\n",
       " 'classification_report',\n",
       " 'cluster',\n",
       " 'cohen_kappa_score',\n",
       " 'completeness_score',\n",
       " 'confusion_matrix',\n",
       " 'consensus_score',\n",
       " 'coverage_error',\n",
       " 'd2_tweedie_score',\n",
       " 'davies_bouldin_score',\n",
       " 'dcg_score',\n",
       " 'det_curve',\n",
       " 'euclidean_distances',\n",
       " 'explained_variance_score',\n",
       " 'f1_score',\n",
       " 'fbeta_score',\n",
       " 'fowlkes_mallows_score',\n",
       " 'get_scorer',\n",
       " 'hamming_loss',\n",
       " 'hinge_loss',\n",
       " 'homogeneity_completeness_v_measure',\n",
       " 'homogeneity_score',\n",
       " 'jaccard_score',\n",
       " 'label_ranking_average_precision_score',\n",
       " 'label_ranking_loss',\n",
       " 'log_loss',\n",
       " 'make_scorer',\n",
       " 'matthews_corrcoef',\n",
       " 'max_error',\n",
       " 'mean_absolute_error',\n",
       " 'mean_absolute_percentage_error',\n",
       " 'mean_gamma_deviance',\n",
       " 'mean_pinball_loss',\n",
       " 'mean_poisson_deviance',\n",
       " 'mean_squared_error',\n",
       " 'mean_squared_log_error',\n",
       " 'mean_tweedie_deviance',\n",
       " 'median_absolute_error',\n",
       " 'multilabel_confusion_matrix',\n",
       " 'mutual_info_score',\n",
       " 'nan_euclidean_distances',\n",
       " 'ndcg_score',\n",
       " 'normalized_mutual_info_score',\n",
       " 'pair_confusion_matrix',\n",
       " 'pairwise_distances',\n",
       " 'pairwise_distances_argmin',\n",
       " 'pairwise_distances_argmin_min',\n",
       " 'pairwise_distances_chunked',\n",
       " 'pairwise_kernels',\n",
       " 'plot_confusion_matrix',\n",
       " 'plot_det_curve',\n",
       " 'plot_precision_recall_curve',\n",
       " 'plot_roc_curve',\n",
       " 'precision_recall_curve',\n",
       " 'precision_recall_fscore_support',\n",
       " 'precision_score',\n",
       " 'r2_score',\n",
       " 'rand_score',\n",
       " 'recall_score',\n",
       " 'roc_auc_score',\n",
       " 'roc_curve',\n",
       " 'silhouette_samples',\n",
       " 'silhouette_score',\n",
       " 'top_k_accuracy_score',\n",
       " 'v_measure_score',\n",
       " 'zero_one_loss']"
      ]
     },
     "execution_count": 29,
     "metadata": {},
     "output_type": "execute_result"
    }
   ],
   "source": [
    "import sklearn.metrics\n",
    "sorted(sklearn.metrics.__all__)"
   ]
  },
  {
   "cell_type": "code",
   "execution_count": 15,
   "id": "c3dafb68-2f23-4608-881b-f0aae98a180e",
   "metadata": {},
   "outputs": [
    {
     "ename": "NameError",
     "evalue": "name 'class_list' is not defined",
     "output_type": "error",
     "traceback": [
      "\u001b[0;31m---------------------------------------------------------------------------\u001b[0m",
      "\u001b[0;31mNameError\u001b[0m                                 Traceback (most recent call last)",
      "Input \u001b[0;32mIn [15]\u001b[0m, in \u001b[0;36m<cell line: 1>\u001b[0;34m()\u001b[0m\n\u001b[0;32m----> 1\u001b[0m \u001b[38;5;28mlen\u001b[39m(\u001b[43mclass_list\u001b[49m)\n",
      "\u001b[0;31mNameError\u001b[0m: name 'class_list' is not defined"
     ]
    }
   ],
   "source": [
    "len(class_list)"
   ]
  },
  {
   "cell_type": "markdown",
   "id": "7fe9eaf0-85b6-43fb-aad8-044f67e05cfc",
   "metadata": {},
   "source": [
    "```\n",
    "sklearn\n",
    "│\n",
    "├── 01 preprocessing (전처리)\n",
    "│   │\n",
    "│   ├── 스케일러\n",
    "│   │   ├── MinMaxScaler\n",
    "│   │   ├── RobustScaler\n",
    "│   │   └── StandardScaler\n",
    "│   │\n",
    "│   └── 인코더\n",
    "│       ├── LabelEncoder\n",
    "│       └── OneHotEncoder\n",
    "│  \n",
    "├── 02 model_selection (모델링 전처리)\n",
    "│   │\n",
    "│   ├── 데이터셋 분리\n",
    "│   │   ├── KFold\n",
    "│   │   ├── StratifiedKFold\n",
    "│   │   └── train_test_split\n",
    "│   │\n",
    "│   └── 하이퍼파라미터 튜닝\n",
    "│       └── GridSearchCV\n",
    "│\n",
    "├── 03 모델학습\n",
    "│   │\n",
    "│   ├── ensemble\n",
    "│   │   ├── AdaBoostClassifier\n",
    "│   │   ├── GradientBoostingClassifier\n",
    "│   │   ├── RandomForestClassifier\n",
    "│   │   └── RandomForestRegressor\n",
    "│   │\n",
    "│   ├── linear_model\n",
    "│   │   ├── LogisticRegression\n",
    "│   │   └── RidgeClassifier\n",
    "│   │\n",
    "│   ├── neighbors\n",
    "│   │   └── KNeighborsClassifier\n",
    "│   │\n",
    "│   ├── svm\n",
    "│   │   ├── SVC\n",
    "│   │   └── SVR\n",
    "│   │\n",
    "│   └── tree\n",
    "│       ├── DecisionTreeClassifier\n",
    "│       ├── DecisionTreeRegressor\n",
    "│       ├── ExtraTreeClassifier\n",
    "│       └── ExtraTreeRegressor\n",
    "│\n",
    "├── 04 모델평가\n",
    "│   │\n",
    "│   ├── metrics\n",
    "│   │   ├── accuracy_score\n",
    "│   │   ├── classification_report\n",
    "│   │   ├── confusion_matrix\n",
    "│   │   ├── f1_score\n",
    "│   │   ├── log_loss\n",
    "│   │   ├── mean_absolute_error\n",
    "│   │   ├── mean_squared_error\n",
    "│   │   └── roc_auc_score\n",
    "│   │\n",
    "│   └── model (정의된 모델에서 추출)\n",
    "│       ├── predict\n",
    "│       └── predict_proba\n",
    "│\n",
    "└── 05 최종앙상블\n",
    "    │\n",
    "    └── ensemble\n",
    "        ├── StackingClassifier\n",
    "        ├── StackingRegressor\n",
    "        ├── VotingClassifier\n",
    "        └── VotingRegressor\n",
    "```"
   ]
  },
  {
   "cell_type": "code",
   "execution_count": null,
   "id": "93713051-77bd-4916-be6c-186e3363e89e",
   "metadata": {},
   "outputs": [],
   "source": []
  }
 ],
 "metadata": {
  "kernelspec": {
   "display_name": "Python 3 (ipykernel)",
   "language": "python",
   "name": "python3"
  },
  "language_info": {
   "codemirror_mode": {
    "name": "ipython",
    "version": 3
   },
   "file_extension": ".py",
   "mimetype": "text/x-python",
   "name": "python",
   "nbconvert_exporter": "python",
   "pygments_lexer": "ipython3",
   "version": "3.9.12"
  }
 },
 "nbformat": 4,
 "nbformat_minor": 5
}
