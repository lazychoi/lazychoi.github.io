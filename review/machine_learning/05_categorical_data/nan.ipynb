{
 "cells": [
  {
   "cell_type": "raw",
   "id": "74c8a991-90ff-4e15-a307-9120d18cd3cb",
   "metadata": {},
   "source": [
    "---\n",
    "title: \"범주형 특성 결측치 대체\"\n",
    "date: 2022/11/17\n",
    "updated: last-modified\n",
    "format: \n",
    "  html:\n",
    "    code-fold: false\n",
    "---"
   ]
  },
  {
   "cell_type": "markdown",
   "id": "5ad60f1c-ac22-48a8-a8a6-da6d286aeaa9",
   "metadata": {},
   "source": [
    "## 머신러닝 알고리즘 이용하여 결측치 대체(KNeighborsClassifier)"
   ]
  },
  {
   "cell_type": "code",
   "execution_count": 6,
   "id": "f522b89f-5fa3-4735-9ecf-6809cddb07c9",
   "metadata": {},
   "outputs": [
    {
     "data": {
      "text/plain": [
       "array([[ 0.  ,  0.87,  1.31],\n",
       "       [ 1.  , -0.67, -0.22],\n",
       "       [ 0.  ,  2.1 ,  1.45],\n",
       "       [ 1.  ,  1.18,  1.33],\n",
       "       [ 0.  ,  1.22,  1.27],\n",
       "       [ 1.  , -0.21, -1.19]])"
      ]
     },
     "execution_count": 6,
     "metadata": {},
     "output_type": "execute_result"
    }
   ],
   "source": [
    "import numpy as np\n",
    "import pandas as pd\n",
    "from sklearn.neighbors import KNeighborsClassifier\n",
    "\n",
    "# 범주형 특성 행렬 만들기\n",
    "X = np.array([[0, 2.10, 1.45],\n",
    "              [1, 1.18, 1.33],\n",
    "              [0, 1.22, 1.27],\n",
    "              [1, -0.21, -1.19]])\n",
    "\n",
    "# 결측치 포함한 특성 행렬 만들기. 0번째 열에 결측치 추가\n",
    "X_with_nan = np.array([[np.nan, 0.87, 1.31],\n",
    "                       [np.nan, -0.67, -0.22]])\n",
    "\n",
    "clf = KNeighborsClassifier(3, weights='distance')\n",
    "trained_model = clf.fit(X[:, 1:], X[:, 0]) # 범주형 특성을 타겟으로 설정\n",
    "\n",
    "# 결측치 클래스 예측\n",
    "imputed_values = trained_model.predict(X_with_nan[:, 1:]) # array([0., 1.])\n",
    "\n",
    "# 결측치 포함한 원본 행렬 중 결측치 제외한 열과 예측된 클래스를 합침\n",
    "X_with_imputed = np.hstack((imputed_values.reshape(-1, 1), X_with_nan[:, 1:]))\n",
    "\n",
    "# 두 특성 행렬 연결(세로)\n",
    "np.vstack((X_with_imputed, X))"
   ]
  },
  {
   "cell_type": "markdown",
   "id": "a4d3116a-b766-4c32-9821-d3ebef3b051f",
   "metadata": {},
   "source": [
    "## 특성의 최빈값으로 대체하기"
   ]
  },
  {
   "cell_type": "code",
   "execution_count": 13,
   "id": "4b26a151-7f0d-4ede-b95c-d74695eb6fa6",
   "metadata": {},
   "outputs": [
    {
     "data": {
      "text/plain": [
       "array([[ 0.  ,  0.87,  1.31],\n",
       "       [ 0.  , -0.67, -0.22],\n",
       "       [ 0.  ,  2.1 ,  1.45],\n",
       "       [ 1.  ,  1.18,  1.33],\n",
       "       [ 0.  ,  1.22,  1.27],\n",
       "       [ 1.  , -0.21, -1.19]])"
      ]
     },
     "execution_count": 13,
     "metadata": {},
     "output_type": "execute_result"
    }
   ],
   "source": [
    "from sklearn.impute import SimpleImputer\n",
    "\n",
    "X_complete = np.vstack((X_with_nan, X))\n",
    "\n",
    "imputer = SimpleImputer(strategy='most_frequent')\n",
    "imputer.fit_transform(X_complete)"
   ]
  }
 ],
 "metadata": {
  "kernelspec": {
   "display_name": "Python 3 (ipykernel)",
   "language": "python",
   "name": "python3"
  },
  "language_info": {
   "codemirror_mode": {
    "name": "ipython",
    "version": 3
   },
   "file_extension": ".py",
   "mimetype": "text/x-python",
   "name": "python",
   "nbconvert_exporter": "python",
   "pygments_lexer": "ipython3",
   "version": "3.9.12"
  }
 },
 "nbformat": 4,
 "nbformat_minor": 5
}
