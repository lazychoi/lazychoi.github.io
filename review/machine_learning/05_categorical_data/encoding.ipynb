{
 "cells": [
  {
   "cell_type": "raw",
   "id": "de4909fd-bbf0-411e-a44b-51088c18bb9c",
   "metadata": {},
   "source": [
    "---\n",
    "title: \"범주형 특성 인코딩\"\n",
    "date: 2022/11/17\n",
    "date-modified: last-modified\n",
    "format: \n",
    "  html:\n",
    "    code-fold: false\n",
    "---"
   ]
  },
  {
   "cell_type": "markdown",
   "id": "f1e2fa25-5106-4019-b81f-ee42955edb76",
   "metadata": {},
   "source": [
    "## 순서가 없는 범주형 특성 인코딩\n",
    "\n",
    "- from sklearn.preprocessing import LabelBinarizer, MultiLabelBinarizer, OneHotEncoder\n",
    "- pandas.get_dummies()\n",
    "- 원-핫 인코딩 후에는 선형 의존성을 피하기 위해 원-핫 인코딩된 특성 중 하나를 삭제하는 것이 좋음"
   ]
  },
  {
   "cell_type": "code",
   "execution_count": 8,
   "id": "b6ddf75f-f3e2-4d8a-9af9-b6168d82f9f9",
   "metadata": {},
   "outputs": [],
   "source": [
    "import numpy as np\n",
    "import pandas as pd\n",
    "from sklearn.preprocessing import LabelBinarizer, MultiLabelBinarizer, OneHotEncoder\n",
    "\n",
    "features = np.array([['Seoul'],\n",
    "                     ['Busan'],\n",
    "                     ['Incheon'],\n",
    "                     ['Seoul'],\n",
    "                     ['Seoul']])"
   ]
  },
  {
   "cell_type": "markdown",
   "id": "66d7cf2e-80db-4a94-9a5a-31e292027e6a",
   "metadata": {},
   "source": [
    "### LabelBinarizer"
   ]
  },
  {
   "cell_type": "code",
   "execution_count": 13,
   "id": "02739276-b5cb-40b4-b1d2-59646588d48c",
   "metadata": {},
   "outputs": [
    {
     "data": {
      "text/plain": [
       "array([[0, 0, 1],\n",
       "       [1, 0, 0],\n",
       "       [0, 1, 0],\n",
       "       [0, 0, 1],\n",
       "       [0, 0, 1]])"
      ]
     },
     "execution_count": 13,
     "metadata": {},
     "output_type": "execute_result"
    }
   ],
   "source": [
    "one_hot_la = LabelBinarizer()\n",
    "features_la = one_hot_la.fit_transform(features)\n",
    "features_la"
   ]
  },
  {
   "cell_type": "code",
   "execution_count": 11,
   "id": "db492f5c-d400-4d78-af0a-fd787a2229f0",
   "metadata": {},
   "outputs": [
    {
     "data": {
      "text/plain": [
       "array(['Busan', 'Incheon', 'Seoul'], dtype='<U7')"
      ]
     },
     "execution_count": 11,
     "metadata": {},
     "output_type": "execute_result"
    }
   ],
   "source": [
    "# 클래스 확인\n",
    "one_hot_la.classes_"
   ]
  },
  {
   "cell_type": "code",
   "execution_count": 14,
   "id": "8da64896-8fec-465c-9999-a2983e8c53e4",
   "metadata": {},
   "outputs": [
    {
     "data": {
      "text/plain": [
       "array(['Seoul', 'Busan', 'Incheon', 'Seoul', 'Seoul'], dtype='<U7')"
      ]
     },
     "execution_count": 14,
     "metadata": {},
     "output_type": "execute_result"
    }
   ],
   "source": [
    "# 인코딩 되돌리기\n",
    "one_hot_la.inverse_transform(features_la)"
   ]
  },
  {
   "cell_type": "markdown",
   "id": "07cc008b-2488-4728-884c-b208241e347b",
   "metadata": {},
   "source": [
    "### MultiLabelBinarizer"
   ]
  },
  {
   "cell_type": "code",
   "execution_count": 17,
   "id": "7c8c79ac-3822-40d0-a54b-7e418745e5ea",
   "metadata": {},
   "outputs": [],
   "source": [
    "features = np.array([('Seoul', 'Incheon'),\n",
    "                     ('Busan', 'Daejun'),\n",
    "                     ('Incheon', 'Sejong'),\n",
    "                     ('Seoul', 'Busan'),\n",
    "                     ('Seoul', 'Daejun')])"
   ]
  },
  {
   "cell_type": "code",
   "execution_count": 18,
   "id": "74c104ca-9d89-4e94-8923-e1588bbe31f8",
   "metadata": {},
   "outputs": [
    {
     "data": {
      "text/plain": [
       "array([[0, 0, 1, 0, 1],\n",
       "       [1, 1, 0, 0, 0],\n",
       "       [0, 0, 1, 1, 0],\n",
       "       [1, 0, 0, 0, 1],\n",
       "       [0, 1, 0, 0, 1]])"
      ]
     },
     "execution_count": 18,
     "metadata": {},
     "output_type": "execute_result"
    }
   ],
   "source": [
    "one_hot_mul = MultiLabelBinarizer()\n",
    "features_mul = one_hot_mul.fit_transform(features)\n",
    "features_mul"
   ]
  },
  {
   "cell_type": "code",
   "execution_count": 19,
   "id": "851b52fd-6903-49e7-bcce-06aa6b2dac3f",
   "metadata": {},
   "outputs": [
    {
     "data": {
      "text/plain": [
       "array(['Busan', 'Daejun', 'Incheon', 'Sejong', 'Seoul'], dtype=object)"
      ]
     },
     "execution_count": 19,
     "metadata": {},
     "output_type": "execute_result"
    }
   ],
   "source": [
    "one_hot_mul.classes_"
   ]
  },
  {
   "cell_type": "markdown",
   "id": "f7efe8c0-71ff-464a-adf7-b429ab48a752",
   "metadata": {},
   "source": [
    "### OneHotEncoder\n"
   ]
  },
  {
   "cell_type": "code",
   "execution_count": 23,
   "id": "18cfd8f9-c0b7-441e-8b30-f560d4bfdfb2",
   "metadata": {},
   "outputs": [
    {
     "data": {
      "text/plain": [
       "array([[0., 0., 1., 0., 0., 1., 0.],\n",
       "       [1., 0., 0., 0., 1., 0., 0.],\n",
       "       [0., 1., 0., 0., 0., 0., 1.],\n",
       "       [0., 0., 1., 1., 0., 0., 0.],\n",
       "       [0., 0., 1., 0., 1., 0., 0.]])"
      ]
     },
     "execution_count": 23,
     "metadata": {},
     "output_type": "execute_result"
    }
   ],
   "source": [
    "oh = OneHotEncoder(sparse=False)\n",
    "features_oh = oh.fit_transform(features)\n",
    "features_oh"
   ]
  },
  {
   "cell_type": "code",
   "execution_count": 24,
   "id": "fc068f5e-d2ab-48a0-9d61-bdc8b701bcd8",
   "metadata": {},
   "outputs": [
    {
     "data": {
      "text/plain": [
       "[array(['Busan', 'Incheon', 'Seoul'], dtype='<U7'),\n",
       " array(['Busan', 'Daejun', 'Incheon', 'Sejong'], dtype='<U7')]"
      ]
     },
     "execution_count": 24,
     "metadata": {},
     "output_type": "execute_result"
    }
   ],
   "source": [
    "oh.categories_"
   ]
  },
  {
   "cell_type": "markdown",
   "id": "87d21fb2-5ea7-4b39-b270-a3068743a3b3",
   "metadata": {},
   "source": [
    "## 순서가 있는 범주형 특성 인코딩\n",
    "\n",
    "- 가장 자주 사용하는 방법은 클래스 레이블 문자열을 정수로 매핑하는 딕셔너리를 만들고 이를 필요한 특성에 적용하는 것\n",
    "- 클래스 간 간격에 주의"
   ]
  },
  {
   "cell_type": "code",
   "execution_count": 26,
   "id": "515309b7-a9dd-4de5-ac37-d4b7ff319104",
   "metadata": {},
   "outputs": [
    {
     "data": {
      "text/plain": [
       "0    1\n",
       "1    1\n",
       "2    2\n",
       "3    2\n",
       "4    3\n",
       "Name: Score, dtype: int64"
      ]
     },
     "execution_count": 26,
     "metadata": {},
     "output_type": "execute_result"
    }
   ],
   "source": [
    "df = pd.DataFrame({'Score':['Low', 'Low', 'Medium', 'Medium', 'High']})\n",
    "\n",
    "scale_mapper = {'Low':1,\n",
    "                'Medium':2,\n",
    "                'High':3}\n",
    "\n",
    "df['Score'].replace(scale_mapper)"
   ]
  },
  {
   "cell_type": "markdown",
   "id": "1e2d4c63-8015-48ca-abb9-b8fa817ccff9",
   "metadata": {},
   "source": [
    "## 딕셔너리를 행렬로 변환\n",
    "\n"
   ]
  },
  {
   "cell_type": "code",
   "execution_count": 28,
   "id": "6e9a5187-7eaa-4cbc-bbb9-b435a4da79fd",
   "metadata": {},
   "outputs": [
    {
     "data": {
      "text/plain": [
       "array([[4., 2., 0.],\n",
       "       [3., 4., 0.],\n",
       "       [0., 1., 2.],\n",
       "       [0., 2., 2.]])"
      ]
     },
     "execution_count": 28,
     "metadata": {},
     "output_type": "execute_result"
    }
   ],
   "source": [
    "from sklearn.feature_extraction import DictVectorizer\n",
    "\n",
    "data_dict = [{'Red':2, 'Blue':4},\n",
    "             {'Red':4, 'Blue':3},\n",
    "             {'Red':1, 'Yellow':2},\n",
    "             {'Red':2, 'Yellow':2}]\n",
    "\n",
    "dv = DictVectorizer(sparse=False)\n",
    "dv.fit_transform(data_dict)"
   ]
  },
  {
   "cell_type": "code",
   "execution_count": 29,
   "id": "456ad1e2-a5ae-43b9-9f6e-7fe82d38d52e",
   "metadata": {},
   "outputs": [
    {
     "data": {
      "text/plain": [
       "array(['Blue', 'Red', 'Yellow'], dtype=object)"
      ]
     },
     "execution_count": 29,
     "metadata": {},
     "output_type": "execute_result"
    }
   ],
   "source": [
    "dv.get_feature_names_out()"
   ]
  },
  {
   "cell_type": "code",
   "execution_count": null,
   "id": "e5347d87-5d77-4cb4-b9ed-bd288f9feaba",
   "metadata": {},
   "outputs": [],
   "source": []
  }
 ],
 "metadata": {
  "kernelspec": {
   "display_name": "Python 3 (ipykernel)",
   "language": "python",
   "name": "python3"
  },
  "language_info": {
   "codemirror_mode": {
    "name": "ipython",
    "version": 3
   },
   "file_extension": ".py",
   "mimetype": "text/x-python",
   "name": "python",
   "nbconvert_exporter": "python",
   "pygments_lexer": "ipython3",
   "version": "3.9.12"
  }
 },
 "nbformat": 4,
 "nbformat_minor": 5
}
