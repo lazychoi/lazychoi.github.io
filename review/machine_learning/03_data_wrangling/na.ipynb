{
 "cells": [
  {
   "cell_type": "raw",
   "metadata": {},
   "source": [
    "---\n",
    "title: \"결측치 처리\"\n",
    "date: 2022/11/20\n",
    "date-modified: last-modified\n",
    "format: \n",
    "  html:\n",
    "    code-fold: true\n",
    "---"
   ]
  },
  {
   "cell_type": "code",
   "execution_count": 41,
   "metadata": {},
   "outputs": [
    {
     "name": "stdout",
     "output_type": "stream",
     "text": [
      "      id  gender age  hypertension  heart_disease ever_married work_type  \\\n",
      "0   1192  Female  31             0              0           No  Govt_job   \n",
      "1     77  Female  13             0              0           No  children   \n",
      "2  59200    Male  18             0              0           No   Private   \n",
      "3  24905  Female  65             0              0          Yes   Private   \n",
      "4  24257    Male   4             0              0           No  children   \n",
      "\n",
      "  Residence_type  avg_glucose_level   bmi   smoking_status  stroke  \n",
      "0          Rural              70.66  27.2     never smoked       0  \n",
      "1          Rural              85.81  18.6          Unknown       0  \n",
      "2          Urban              60.56  33.0     never smoked       0  \n",
      "3          Urban             205.77  46.0  formerly smoked       1  \n",
      "4          Rural              90.42  16.2          Unknown       0  \n"
     ]
    }
   ],
   "source": [
    "import pandas as pd\n",
    "import numpy as np\n",
    "\n",
    "df = pd.read_csv('https://raw.githubusercontent.com/Datamanim/datarepo/main/stroke_/train.csv')\n",
    "print(df.head(5))"
   ]
  },
  {
   "cell_type": "markdown",
   "metadata": {},
   "source": [
    ":::{.callout-important}\n",
    "bmi컬럼의 각 결측치들을 직전의 행의 bmi값으로 채웠을 경우 bmi 컬럼의 평균을 소숫점 이하 3자리 까지 구하여라([출처](https://cafe.naver.com/yjbooks/63744?boardType=L))\n",
    ":::"
   ]
  },
  {
   "cell_type": "code",
   "execution_count": 42,
   "metadata": {},
   "outputs": [
    {
     "name": "stdout",
     "output_type": "stream",
     "text": [
      "29.188\n"
     ]
    }
   ],
   "source": [
    "print('{:.3f}'.format(df['bmi'].fillna(method='ffill').mean()))"
   ]
  },
  {
   "cell_type": "markdown",
   "metadata": {},
   "source": [
    ":::{.callout-important}\n",
    "bim컬럼의 각 결측치를 결측치를 가진 환자 나이대(10단위)의 평균 bmi 값으로 대체한 후 데체된 bmi 컬럼의 평균을 소숫점 이하 3자리까지 구하여라([출처](https://cafe.naver.com/yjbooks/63744?boardType=L))\n",
    ":::\n",
    "\n",
    "1. 나이를 구간으로 분류하기 -> `np.digitize(변수, bins=[경계점])` eg. df['age_category'] = np.digitize(df['age'], bins=[10, 20, 30, 40, 50, 60, 70, 80])\n",
    "1. 구간으로 groupby 하여 평균을 구한 후 딕셔너리형으로 만들기 -> age_bmi = {i:v for i, v in enumerate(df.groupby('age_category').mean()['bmi'])}\n",
    "1. bmi 컬럼 결측치 슬라이싱 후 'age_category' 열만 뽑은 후 map으로 나이대별 평균값 뽑기 -> df.loc[df['bmi'].isna(), 'age_category'].map(age_bmi)\n",
    "1. 나이대별 평균값을 bmi 결측치에 대입 -> df.loc[df['bmi'].isna(), 'bmi'] = df.loc[df['bmi'].isna(), 'age_category'].map(age_bmi)"
   ]
  },
  {
   "cell_type": "code",
   "execution_count": 66,
   "metadata": {},
   "outputs": [
    {
     "data": {
      "text/plain": [
       "array(['31', '13', '18', '65', '4', '28', '64', '62', '26', '63', '50',\n",
       "       '77', '1', '52', '24', '48', '45', '74', '3', '17', '54', '55',\n",
       "       '67', '35', '38', '81', '34', '44', '79', '56', '70', '30', '39',\n",
       "       '29', '80', '59', '51', '19', '43', '71', '0', '23', '53', '78',\n",
       "       '66', '60', '76', '22', '6', '47', '2', '46', '11', '33', '37',\n",
       "       '49', '61', '75', '40', '8', '57', '12', '21', '41', '58', '27',\n",
       "       '20', '68', '42', '5', '69', '9', '36', '25', '82', '73', '32',\n",
       "       '7', '16', '14', '72', '15', '10', '*82'], dtype=object)"
      ]
     },
     "execution_count": 66,
     "metadata": {},
     "output_type": "execute_result"
    }
   ],
   "source": [
    "df = pd.read_csv('https://raw.githubusercontent.com/Datamanim/datarepo/main/stroke_/train.csv')\n",
    "\n",
    "# age 특성에 특수 문자 포함된 값이 있어 수치형으로 변환이 안 됨\n",
    "df['age'].unique()"
   ]
  },
  {
   "cell_type": "code",
   "execution_count": 67,
   "metadata": {},
   "outputs": [
    {
     "data": {
      "text/plain": [
       "array([31, 13, 18, 65,  4, 28, 64, 62, 26, 63, 50, 77,  1, 52, 24, 48, 45,\n",
       "       74,  3, 17, 54, 55, 67, 35, 38, 81, 34, 44, 79, 56, 70, 30, 39, 29,\n",
       "       80, 59, 51, 19, 43, 71,  0, 23, 53, 78, 66, 60, 76, 22,  6, 47,  2,\n",
       "       46, 11, 33, 37, 49, 61, 75, 40,  8, 57, 12, 21, 41, 58, 27, 20, 68,\n",
       "       42,  5, 69,  9, 36, 25, 82, 73, 32,  7, 16, 14, 72, 15, 10])"
      ]
     },
     "execution_count": 67,
     "metadata": {},
     "output_type": "execute_result"
    }
   ],
   "source": [
    "# 특수문자 제거하고 수치형으로 변환\n",
    "df['age'] = df['age'].replace('*82', '82')\n",
    "df['age'] = df['age'].astype('int')\n",
    "df['age'].unique()"
   ]
  },
  {
   "cell_type": "code",
   "execution_count": 68,
   "metadata": {},
   "outputs": [
    {
     "data": {
      "text/html": [
       "<div>\n",
       "<style scoped>\n",
       "    .dataframe tbody tr th:only-of-type {\n",
       "        vertical-align: middle;\n",
       "    }\n",
       "\n",
       "    .dataframe tbody tr th {\n",
       "        vertical-align: top;\n",
       "    }\n",
       "\n",
       "    .dataframe thead th {\n",
       "        text-align: right;\n",
       "    }\n",
       "</style>\n",
       "<table border=\"1\" class=\"dataframe\">\n",
       "  <thead>\n",
       "    <tr style=\"text-align: right;\">\n",
       "      <th></th>\n",
       "      <th>age</th>\n",
       "      <th>bmi</th>\n",
       "    </tr>\n",
       "  </thead>\n",
       "  <tbody>\n",
       "    <tr>\n",
       "      <th>count</th>\n",
       "      <td>1137.000000</td>\n",
       "      <td>1085.000000</td>\n",
       "    </tr>\n",
       "    <tr>\n",
       "      <th>mean</th>\n",
       "      <td>45.189094</td>\n",
       "      <td>29.198065</td>\n",
       "    </tr>\n",
       "    <tr>\n",
       "      <th>std</th>\n",
       "      <td>23.070207</td>\n",
       "      <td>7.669615</td>\n",
       "    </tr>\n",
       "    <tr>\n",
       "      <th>min</th>\n",
       "      <td>0.000000</td>\n",
       "      <td>11.300000</td>\n",
       "    </tr>\n",
       "    <tr>\n",
       "      <th>25%</th>\n",
       "      <td>28.000000</td>\n",
       "      <td>24.100000</td>\n",
       "    </tr>\n",
       "    <tr>\n",
       "      <th>50%</th>\n",
       "      <td>48.000000</td>\n",
       "      <td>28.500000</td>\n",
       "    </tr>\n",
       "    <tr>\n",
       "      <th>75%</th>\n",
       "      <td>63.000000</td>\n",
       "      <td>33.200000</td>\n",
       "    </tr>\n",
       "    <tr>\n",
       "      <th>max</th>\n",
       "      <td>82.000000</td>\n",
       "      <td>64.400000</td>\n",
       "    </tr>\n",
       "  </tbody>\n",
       "</table>\n",
       "</div>"
      ],
      "text/plain": [
       "               age          bmi\n",
       "count  1137.000000  1085.000000\n",
       "mean     45.189094    29.198065\n",
       "std      23.070207     7.669615\n",
       "min       0.000000    11.300000\n",
       "25%      28.000000    24.100000\n",
       "50%      48.000000    28.500000\n",
       "75%      63.000000    33.200000\n",
       "max      82.000000    64.400000"
      ]
     },
     "execution_count": 68,
     "metadata": {},
     "output_type": "execute_result"
    }
   ],
   "source": [
    "# 최대 최솟값 확인\n",
    "df[['age','bmi']].describe()"
   ]
  },
  {
   "cell_type": "code",
   "execution_count": 69,
   "metadata": {},
   "outputs": [
    {
     "data": {
      "text/html": [
       "<div>\n",
       "<style scoped>\n",
       "    .dataframe tbody tr th:only-of-type {\n",
       "        vertical-align: middle;\n",
       "    }\n",
       "\n",
       "    .dataframe tbody tr th {\n",
       "        vertical-align: top;\n",
       "    }\n",
       "\n",
       "    .dataframe thead th {\n",
       "        text-align: right;\n",
       "    }\n",
       "</style>\n",
       "<table border=\"1\" class=\"dataframe\">\n",
       "  <thead>\n",
       "    <tr style=\"text-align: right;\">\n",
       "      <th></th>\n",
       "      <th>id</th>\n",
       "      <th>gender</th>\n",
       "      <th>age</th>\n",
       "      <th>hypertension</th>\n",
       "      <th>heart_disease</th>\n",
       "      <th>ever_married</th>\n",
       "      <th>work_type</th>\n",
       "      <th>Residence_type</th>\n",
       "      <th>avg_glucose_level</th>\n",
       "      <th>bmi</th>\n",
       "      <th>smoking_status</th>\n",
       "      <th>stroke</th>\n",
       "      <th>age_category</th>\n",
       "    </tr>\n",
       "  </thead>\n",
       "  <tbody>\n",
       "    <tr>\n",
       "      <th>0</th>\n",
       "      <td>1192</td>\n",
       "      <td>Female</td>\n",
       "      <td>31</td>\n",
       "      <td>0</td>\n",
       "      <td>0</td>\n",
       "      <td>No</td>\n",
       "      <td>Govt_job</td>\n",
       "      <td>Rural</td>\n",
       "      <td>70.66</td>\n",
       "      <td>27.2</td>\n",
       "      <td>never smoked</td>\n",
       "      <td>0</td>\n",
       "      <td>3</td>\n",
       "    </tr>\n",
       "    <tr>\n",
       "      <th>1</th>\n",
       "      <td>77</td>\n",
       "      <td>Female</td>\n",
       "      <td>13</td>\n",
       "      <td>0</td>\n",
       "      <td>0</td>\n",
       "      <td>No</td>\n",
       "      <td>children</td>\n",
       "      <td>Rural</td>\n",
       "      <td>85.81</td>\n",
       "      <td>18.6</td>\n",
       "      <td>Unknown</td>\n",
       "      <td>0</td>\n",
       "      <td>1</td>\n",
       "    </tr>\n",
       "    <tr>\n",
       "      <th>2</th>\n",
       "      <td>59200</td>\n",
       "      <td>Male</td>\n",
       "      <td>18</td>\n",
       "      <td>0</td>\n",
       "      <td>0</td>\n",
       "      <td>No</td>\n",
       "      <td>Private</td>\n",
       "      <td>Urban</td>\n",
       "      <td>60.56</td>\n",
       "      <td>33.0</td>\n",
       "      <td>never smoked</td>\n",
       "      <td>0</td>\n",
       "      <td>1</td>\n",
       "    </tr>\n",
       "    <tr>\n",
       "      <th>3</th>\n",
       "      <td>24905</td>\n",
       "      <td>Female</td>\n",
       "      <td>65</td>\n",
       "      <td>0</td>\n",
       "      <td>0</td>\n",
       "      <td>Yes</td>\n",
       "      <td>Private</td>\n",
       "      <td>Urban</td>\n",
       "      <td>205.77</td>\n",
       "      <td>46.0</td>\n",
       "      <td>formerly smoked</td>\n",
       "      <td>1</td>\n",
       "      <td>6</td>\n",
       "    </tr>\n",
       "    <tr>\n",
       "      <th>4</th>\n",
       "      <td>24257</td>\n",
       "      <td>Male</td>\n",
       "      <td>4</td>\n",
       "      <td>0</td>\n",
       "      <td>0</td>\n",
       "      <td>No</td>\n",
       "      <td>children</td>\n",
       "      <td>Rural</td>\n",
       "      <td>90.42</td>\n",
       "      <td>16.2</td>\n",
       "      <td>Unknown</td>\n",
       "      <td>0</td>\n",
       "      <td>0</td>\n",
       "    </tr>\n",
       "  </tbody>\n",
       "</table>\n",
       "</div>"
      ],
      "text/plain": [
       "      id  gender  age  hypertension  heart_disease ever_married work_type  \\\n",
       "0   1192  Female   31             0              0           No  Govt_job   \n",
       "1     77  Female   13             0              0           No  children   \n",
       "2  59200    Male   18             0              0           No   Private   \n",
       "3  24905  Female   65             0              0          Yes   Private   \n",
       "4  24257    Male    4             0              0           No  children   \n",
       "\n",
       "  Residence_type  avg_glucose_level   bmi   smoking_status  stroke  \\\n",
       "0          Rural              70.66  27.2     never smoked       0   \n",
       "1          Rural              85.81  18.6          Unknown       0   \n",
       "2          Urban              60.56  33.0     never smoked       0   \n",
       "3          Urban             205.77  46.0  formerly smoked       1   \n",
       "4          Rural              90.42  16.2          Unknown       0   \n",
       "\n",
       "   age_category  \n",
       "0             3  \n",
       "1             1  \n",
       "2             1  \n",
       "3             6  \n",
       "4             0  "
      ]
     },
     "execution_count": 69,
     "metadata": {},
     "output_type": "execute_result"
    }
   ],
   "source": [
    "# 나이를 10단위로 구분하기\n",
    "df['age_category'] = np.digitize(df['age'], bins=[10, 20, 30, 40, 50, 60, 70, 80])\n",
    "df.head()"
   ]
  },
  {
   "cell_type": "code",
   "execution_count": 70,
   "metadata": {},
   "outputs": [
    {
     "data": {
      "text/plain": [
       "{0: 18.96078431372549,\n",
       " 1: 24.477227722772277,\n",
       " 2: 28.052747252747256,\n",
       " 3: 31.751111111111108,\n",
       " 4: 31.427096774193547,\n",
       " 5: 31.894086021505377,\n",
       " 6: 31.615873015873014,\n",
       " 7: 30.44772727272727,\n",
       " 8: 28.566666666666666}"
      ]
     },
     "execution_count": 70,
     "metadata": {},
     "output_type": "execute_result"
    }
   ],
   "source": [
    "# 나이대별 bmi 평균 -> 딕셔너리로\n",
    "age_bmi = { i:v for i, v in enumerate(df.groupby('age_category').mean()['bmi'])}\n",
    "age_bmi"
   ]
  },
  {
   "cell_type": "code",
   "execution_count": 72,
   "metadata": {},
   "outputs": [
    {
     "data": {
      "text/plain": [
       "0"
      ]
     },
     "execution_count": 72,
     "metadata": {},
     "output_type": "execute_result"
    }
   ],
   "source": [
    "# bmi 결측치를 나이대별 bmi 평균으로 채우기\n",
    "df.loc[df['bmi'].isna(), 'bmi'] = df.loc[df['bmi'].isna(), 'age_category'].map(age_bmi)\n",
    "df['bmi'].isna().sum()"
   ]
  },
  {
   "cell_type": "code",
   "execution_count": 73,
   "metadata": {},
   "outputs": [
    {
     "name": "stdout",
     "output_type": "stream",
     "text": [
      "29.263\n"
     ]
    }
   ],
   "source": [
    "print('{:.3f}'.format(df['bmi'].mean()))"
   ]
  }
 ],
 "metadata": {
  "kernelspec": {
   "display_name": "Python 3.9.12 ('base')",
   "language": "python",
   "name": "python3"
  },
  "language_info": {
   "codemirror_mode": {
    "name": "ipython",
    "version": 3
   },
   "file_extension": ".py",
   "mimetype": "text/x-python",
   "name": "python",
   "nbconvert_exporter": "python",
   "pygments_lexer": "ipython3",
   "version": "3.9.12"
  },
  "orig_nbformat": 4,
  "vscode": {
   "interpreter": {
    "hash": "38cca0c38332a56087b24af0bc80247f4fced29cb4f7f437d91dc159adec9c4e"
   }
  }
 },
 "nbformat": 4,
 "nbformat_minor": 2
}
