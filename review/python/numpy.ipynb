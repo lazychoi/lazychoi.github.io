{
 "cells": [
  {
   "cell_type": "raw",
   "metadata": {},
   "source": [
    "---\n",
    "title: 넘파이(Numpy)\n",
    "date: 2022/11/13\n",
    "updated: last-modified\n",
    "format: \n",
    "  html:\n",
    "    code-fold: false\n",
    "---"
   ]
  },
  {
   "cell_type": "markdown",
   "metadata": {},
   "source": [
    "## random\n",
    "\n",
    "[np.random.shuffle(x)](https://numpy.org/doc/stable/reference/random/generated/numpy.random.shuffle.html){target=_blank} : 반환값 없이 x 자체를 섞음"
   ]
  },
  {
   "cell_type": "code",
   "execution_count": 16,
   "metadata": {},
   "outputs": [
    {
     "name": "stdout",
     "output_type": "stream",
     "text": [
      "원본 [ 1  2  3  4  5  6  7  8  9 10 11 12 13 14 15 16 17 18 19 20 21 22 23 24\n",
      " 25 26 27 28 29 30]\n",
      "섞은 후 [ 1  2 28 27 18 26  9 19 30 22 10 20 12 13  8  5 15 23  4 16 11 21 29  6\n",
      "  7  3 24 14 25 17]\n"
     ]
    }
   ],
   "source": [
    "import numpy as np\n",
    "\n",
    "x = np.arange(1, 31)\n",
    "print('원본', x)\n",
    "np.random.shuffle(x)\n",
    "print('섞은 후', x)"
   ]
  },
  {
   "cell_type": "markdown",
   "metadata": {},
   "source": [
    "## 배열 연결하기\n",
    "\n",
    "- [np.column_stack(튜플)](https://numpy.org/doc/stable/reference/generated/numpy.column_stack.html){target=_blank}\n",
    "- [np.row_stack(튜플)](https://numpy.org/doc/stable/reference/generated/numpy.row_stack.html){target=_blank}\n",
    "- [np.concatenate(튜플)](https://numpy.org/doc/stable/reference/generated/numpy.concatenate.html#numpy.concatenate){target=_blank}"
   ]
  },
  {
   "cell_type": "code",
   "execution_count": null,
   "metadata": {},
   "outputs": [],
   "source": []
  }
 ],
 "metadata": {
  "kernelspec": {
   "display_name": "Python 3.9.12 ('base')",
   "language": "python",
   "name": "python3"
  },
  "language_info": {
   "codemirror_mode": {
    "name": "ipython",
    "version": 3
   },
   "file_extension": ".py",
   "mimetype": "text/x-python",
   "name": "python",
   "nbconvert_exporter": "python",
   "pygments_lexer": "ipython3",
   "version": "3.9.12"
  },
  "orig_nbformat": 4,
  "vscode": {
   "interpreter": {
    "hash": "38cca0c38332a56087b24af0bc80247f4fced29cb4f7f437d91dc159adec9c4e"
   }
  }
 },
 "nbformat": 4,
 "nbformat_minor": 2
}
