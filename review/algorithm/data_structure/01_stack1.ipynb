{
 "cells": [
  {
   "cell_type": "raw",
   "metadata": {},
   "source": [
    "---\n",
    "title: 스택 - 괄호\n",
    "date: 2022/11/07\n",
    "updated: last-modified\n",
    "---"
   ]
  },
  {
   "cell_type": "markdown",
   "metadata": {},
   "source": [
    "[https://www.acmicpc.net/problem/9012](https://www.acmicpc.net/problem/9012){target=_blank}\n",
    "\n",
    "### 접근 과정\n",
    "\n",
    "1. 여는 괄호를 1로, 닫는 괄호를 -1로 변환한다.\n",
    "1. 닫는 괄호가 맨 처음 나오면 안 된다. 닫는 괄호가 여는 괄호보다 많아서는 안 된다.\n",
    "1. 큐가 빌 때가지 반복하며\n",
    "1. 큐의 맨 처음 popleft가 음수이거나 이후로 두 값의 합계가 음수이면 NO 반환\n",
    "1. 큐가 빈 후 두 값의 합계가 0이면 YES, 그렇지 않으면 NO 반환"
   ]
  },
  {
   "cell_type": "code",
   "execution_count": 4,
   "metadata": {},
   "outputs": [
    {
     "name": "stdout",
     "output_type": "stream",
     "text": [
      "No\n",
      "No\n",
      "Yes\n",
      "No\n",
      "Yes\n",
      "No\n"
     ]
    }
   ],
   "source": [
    "from collections import deque\n",
    "\n",
    "def parenthesis(s):\n",
    "    s = [1 if i == '(' else -1 for i in s]\n",
    "    q = deque()\n",
    "    q.extend(s)\n",
    "    num = 0\n",
    "\n",
    "    first = q.popleft()\n",
    "    if first < 0:\n",
    "        return 'NO'\n",
    "    else:\n",
    "        num += first\n",
    "\n",
    "    while q:\n",
    "        num += q.popleft()\n",
    "        if num < 0:\n",
    "            return 'NO'\n",
    "    \n",
    "    if num == 0:\n",
    "        return 'YES'\n",
    "    else:\n",
    "        return 'NO'\n",
    "\n",
    "n = int(input())\n",
    "for _ in range(n):\n",
    "    s = list(input())\n",
    "    print(parenthesis(s))"
   ]
  },
  {
   "cell_type": "markdown",
   "metadata": {},
   "source": [
    "### 큐를 사용하지 않고 for문만으로 구현"
   ]
  },
  {
   "cell_type": "code",
   "execution_count": 8,
   "metadata": {},
   "outputs": [
    {
     "data": {
      "text/plain": [
       "('NO', 'YES')"
      ]
     },
     "execution_count": 8,
     "metadata": {},
     "output_type": "execute_result"
    }
   ],
   "source": [
    "def parenthesis(s):\n",
    "    \n",
    "    num = 0\n",
    "    s = [1 if i == '(' else -1 for i in s]\n",
    "    for i in s:\n",
    "        if num + i < 0:\n",
    "            return 'NO'\n",
    "        else:\n",
    "            num += i\n",
    "\n",
    "    if num == 0:\n",
    "        return 'YES'\n",
    "\n",
    "parenthesis('())(()'), parenthesis('(()())((()))')"
   ]
  }
 ],
 "metadata": {
  "kernelspec": {
   "display_name": "Python 3.9.12 ('base')",
   "language": "python",
   "name": "python3"
  },
  "language_info": {
   "codemirror_mode": {
    "name": "ipython",
    "version": 3
   },
   "file_extension": ".py",
   "mimetype": "text/x-python",
   "name": "python",
   "nbconvert_exporter": "python",
   "pygments_lexer": "ipython3",
   "version": "3.9.12"
  },
  "orig_nbformat": 4,
  "vscode": {
   "interpreter": {
    "hash": "38cca0c38332a56087b24af0bc80247f4fced29cb4f7f437d91dc159adec9c4e"
   }
  }
 },
 "nbformat": 4,
 "nbformat_minor": 2
}
