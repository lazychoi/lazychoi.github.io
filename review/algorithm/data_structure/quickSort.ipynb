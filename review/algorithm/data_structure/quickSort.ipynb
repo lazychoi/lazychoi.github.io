{
 "cells": [
  {
   "attachments": {},
   "cell_type": "markdown",
   "metadata": {},
   "source": [
    "---\n",
    "title: \"Quick Sort\"\n",
    "date: 2022/12/14\n",
    "date-modified: last-modified\n",
    "format: \n",
    "  html:\n",
    "    code-fold: false\n",
    "---"
   ]
  },
  {
   "cell_type": "code",
   "execution_count": 20,
   "metadata": {},
   "outputs": [
    {
     "name": "stdout",
     "output_type": "stream",
     "text": [
      "i=-1, j=1, pivot=3, arr= [6, 2, 1, 9, 7, 3]\n",
      "i=0, j=2, pivot=3, arr= [2, 6, 1, 9, 7, 3]\n",
      "i=1, j=3, pivot=3, arr= [2, 1, 6, 9, 7, 3]\n",
      "i=1, j=4, pivot=3, arr= [2, 1, 6, 9, 7, 3]\n",
      "i=1, j=5, pivot=3, arr= [2, 1, 6, 9, 7, 3]\n",
      "i=-1, j=1, pivot=1, arr= [2, 1, 3, 9, 7, 6]\n",
      "i=2, j=4, pivot=6, arr= [1, 2, 3, 9, 7, 6]\n",
      "i=2, j=5, pivot=6, arr= [1, 2, 3, 9, 7, 6]\n",
      "i=4, j=5, pivot=9, arr= [1, 2, 3, 6, 7, 9]\n"
     ]
    },
    {
     "data": {
      "text/plain": [
       "[1, 2, 3, 6, 7, 9]"
      ]
     },
     "execution_count": 20,
     "metadata": {},
     "output_type": "execute_result"
    }
   ],
   "source": [
    "def partition(arr: list, low: int, high: int) -> int: \n",
    "    i, j = low - 1, low                     # 작은 부분 인덱스(i), 검사 인덱스(j)\n",
    "    p = arr[high]                           # 마지막 인덱스값을 피봇으로 설정\n",
    "    for j in range(low, high):                # low부터 high-1까지 피봇과 비교\n",
    "        if arr[j] < p:                       # 검사 위치값이 피봇보다 작으면\n",
    "            i = i + 1                        # 작은 부분의 마지막 인덱스를 하나 증가하고(=큰 부분 중 가장 작은 인덱스 위치)\n",
    "            arr[i], arr[j] = arr[j], arr[i]  # 검사 위치값을 큰 부분 중 가장 작은 인덱스값과 교환\n",
    "            print(f'i={i}, j={j+1}, pivot={p}, arr= {arr}')\n",
    "        else:                                # 피봇보다 크면 그냥 지나감\n",
    "            print(f'i={i}, j={j+1}, pivot={p}, arr= {arr}')\n",
    "    arr[i + 1], arr[high] = arr[high], arr[i + 1]    # 피봇과 큰 부분 중 가장 작은 인덱스 위치값과 교환\n",
    "    return i + 1                         # 작은 부분 + 1 => 피봇 인덱스\n",
    "\n",
    "def quick_sort(arr: list, low: int, high: int):\n",
    "    if low < high:\n",
    "        pivot = partition(arr, low, high)  # 분할 후 피봇 인덱스 반환\n",
    "        quick_sort(arr, low, pivot-1)      # 전반부 정렬\n",
    "        quick_sort(arr, pivot+1, high)     # 후반부 정렬\n",
    "\n",
    "# arr = [ 6, 3, 1, 9, 7, 4, 10, 2, 5, 8]\n",
    "arr = [ 6, 2, 1, 9, 7, 3]\n",
    "quick_sort(arr, 0, len(arr)-1)\n",
    "arr"
   ]
  },
  {
   "cell_type": "code",
   "execution_count": null,
   "metadata": {},
   "outputs": [],
   "source": []
  }
 ],
 "metadata": {
  "kernelspec": {
   "display_name": "chatbot",
   "language": "python",
   "name": "python3"
  },
  "language_info": {
   "codemirror_mode": {
    "name": "ipython",
    "version": 3
   },
   "file_extension": ".py",
   "mimetype": "text/x-python",
   "name": "python",
   "nbconvert_exporter": "python",
   "pygments_lexer": "ipython3",
   "version": "3.8.15 | packaged by conda-forge | (default, Nov 22 2022, 08:49:06) \n[Clang 14.0.6 ]"
  },
  "orig_nbformat": 4,
  "vscode": {
   "interpreter": {
    "hash": "6fb0ca7c3bd8bc698549aa02a9df33484cafacf9c2c862385157fe6bff41776c"
   }
  }
 },
 "nbformat": 4,
 "nbformat_minor": 2
}
