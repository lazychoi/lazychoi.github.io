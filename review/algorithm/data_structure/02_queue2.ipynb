{
 "cells": [
  {
   "cell_type": "raw",
   "metadata": {},
   "source": [
    "---\n",
    "title: 프린터\n",
    "date: 2022/11/10\n",
    "updated: last-modified\n",
    "---"
   ]
  },
  {
   "cell_type": "markdown",
   "metadata": {},
   "source": [
    "[https://school.programmers.co.kr/learn/courses/30/lessons/42587](https://school.programmers.co.kr/learn/courses/30/lessons/42587)\n",
    "\n",
    "### 제한사항\n",
    "\n",
    "- 현재 대기목록에는 1개 이상 100개 이하의 문서가 있습니다.\n",
    "- 인쇄 작업의 중요도는 1~9로 표현하며 숫자가 클수록 중요하다는 뜻입니다.\n",
    "- location은 0 이상 (현재 대기목록에 있는 작업 수 - 1) 이하의 값을 가지며 대기목록의 가장 앞에 있으면 0, 두 번째에 있으면 1로 표현합니다.\n",
    "\n",
    "### 접근 과정\n",
    "\n",
    "1. 리스트를 큐에 넣는다.\n",
    "1. 최댓값_인덱스를 변수에 넣는다.\n",
    "1. 큐.popleft() -> first, location -= 1\n",
    "1. if 최댓값_인덱스가 0이고 location < 0이면 cnt +1 정답\n",
    "1. elif 최댓값_인덱스가 0이면 cnt +1\n",
    "1. else first를 큐에 append\n",
    "1. location이 음수이면 +len(큐) 하여 인덱스를 맨 뒤로 보낸다."
   ]
  },
  {
   "cell_type": "code",
   "execution_count": 50,
   "metadata": {},
   "outputs": [
    {
     "name": "stdout",
     "output_type": "stream",
     "text": [
      "deque([1, 1, 9, 1, 1, 1])\n",
      "pop 1 max_index 2 location -1\n",
      "else deque([1, 9, 1, 1, 1, 1]) location -1\n",
      "pop 1 max_index 1 location 4\n",
      "else deque([9, 1, 1, 1, 1, 1]) location 4\n",
      "pop 9 max_index 0 location 3\n",
      "elif  deque([1, 1, 1, 1, 1]) location 3\n",
      "pop 1 max_index 0 location 2\n",
      "elif  deque([1, 1, 1, 1]) location 2\n",
      "pop 1 max_index 0 location 1\n",
      "elif  deque([1, 1, 1]) location 1\n",
      "pop 1 max_index 0 location 0\n",
      "elif  deque([1, 1]) location 0\n",
      "pop 1 max_index 0 location -1\n",
      "if deque([1]) location -1\n",
      "정답 5\n"
     ]
    }
   ],
   "source": [
    "from collections import deque\n",
    "\n",
    "# priorities = [2, 1, 3, 2]\n",
    "priorities = [1, 1, 9, 1, 1, 1]\n",
    "location = 0\n",
    "cnt = 0\n",
    "\n",
    "nums = deque(priorities)\n",
    "print(nums)\n",
    "\n",
    "while nums:\n",
    "    max_index = nums.index(max(nums))\n",
    "    first = nums.popleft()\n",
    "    location -= 1\n",
    "    print('pop', first, 'max_index', max_index, 'location', location)\n",
    "    if max_index == 0 and location < 0:\n",
    "        print('if', nums, 'location', location)\n",
    "        cnt += 1\n",
    "        print('정답', cnt)\n",
    "        break\n",
    "    elif max_index == 0:\n",
    "        cnt += 1\n",
    "        print('elif ', nums, 'location', location)\n",
    "    else:\n",
    "        nums.append(first)\n",
    "        print('else', nums, 'location', location)\n",
    "    \n",
    "    if location < 0:\n",
    "        location += len(nums)\n"
   ]
  },
  {
   "cell_type": "markdown",
   "metadata": {},
   "source": [
    "### 제출용 코드"
   ]
  },
  {
   "cell_type": "code",
   "execution_count": 51,
   "metadata": {},
   "outputs": [
    {
     "data": {
      "text/plain": [
       "5"
      ]
     },
     "execution_count": 51,
     "metadata": {},
     "output_type": "execute_result"
    }
   ],
   "source": [
    "from collections import deque\n",
    "\n",
    "def solution(priorities, location):\n",
    "\n",
    "    cnt = 0\n",
    "    nums = deque(priorities)\n",
    "\n",
    "    while nums:\n",
    "        max_index = nums.index(max(nums))\n",
    "        first = nums.popleft()\n",
    "        location -= 1\n",
    "\n",
    "        if max_index == 0 and location < 0:\n",
    "            cnt += 1\n",
    "            return cnt\n",
    "        elif max_index == 0:\n",
    "            cnt += 1\n",
    "        else:\n",
    "            nums.append(first)\n",
    "        \n",
    "        if location < 0:\n",
    "            location += len(nums)\n",
    "\n",
    "priorities = [1, 1, 9, 1, 1, 1]\n",
    "location = 0\n",
    "solution(priorities, location)"
   ]
  },
  {
   "cell_type": "markdown",
   "metadata": {},
   "source": [
    "### 다른 사람 코드\n",
    "\n",
    "pop한 값의 인덱스를 추적하기 위해 enumerate를 써서 인덱스를 변수에 담았다. 요걸 왜 생각하지 못했을까?"
   ]
  },
  {
   "cell_type": "code",
   "execution_count": 60,
   "metadata": {},
   "outputs": [
    {
     "name": "stdout",
     "output_type": "stream",
     "text": [
      "[(0, 1), (1, 1), (2, 9), (3, 1), (4, 1), (5, 1)]\n",
      "cur = (0, 1)\n",
      "cur = (1, 1)\n",
      "cur = (2, 9)\n",
      "cur = (3, 1)\n",
      "cur = (4, 1)\n",
      "cur = (5, 1)\n",
      "cur = (0, 1)\n"
     ]
    },
    {
     "data": {
      "text/plain": [
       "5"
      ]
     },
     "execution_count": 60,
     "metadata": {},
     "output_type": "execute_result"
    }
   ],
   "source": [
    "def solution(priorities, location):\n",
    "    queue =  [(i,p) for i,p in enumerate(priorities)]\n",
    "    print(queue)\n",
    "    answer = 0\n",
    "    while True:\n",
    "        cur = queue.pop(0)\n",
    "        print('cur =', cur)\n",
    "        if any(cur[1] < q[1] for q in queue):  # pop한 값이 다른 값들보다 하나라도(any) 작으면\n",
    "            queue.append(cur)  # 맨 뒤에 붙이기\n",
    "        else:                # 그렇지 않고 같거나 크면\n",
    "            answer += 1\n",
    "            if cur[0] == location:    # 인덱스가 location과 같으면\n",
    "                return answer\n",
    "\n",
    "priorities = [1, 1, 9, 1, 1, 1]\n",
    "location = 0\n",
    "solution(priorities, location)"
   ]
  },
  {
   "cell_type": "code",
   "execution_count": 63,
   "metadata": {},
   "outputs": [
    {
     "data": {
      "text/plain": [
       "1"
      ]
     },
     "execution_count": 63,
     "metadata": {},
     "output_type": "execute_result"
    }
   ],
   "source": [
    "a = [1,2,3]\n",
    "a.pop(0)"
   ]
  }
 ],
 "metadata": {
  "kernelspec": {
   "display_name": "Python 3.9.12 ('base')",
   "language": "python",
   "name": "python3"
  },
  "language_info": {
   "codemirror_mode": {
    "name": "ipython",
    "version": 3
   },
   "file_extension": ".py",
   "mimetype": "text/x-python",
   "name": "python",
   "nbconvert_exporter": "python",
   "pygments_lexer": "ipython3",
   "version": "3.9.12"
  },
  "orig_nbformat": 4,
  "vscode": {
   "interpreter": {
    "hash": "38cca0c38332a56087b24af0bc80247f4fced29cb4f7f437d91dc159adec9c4e"
   }
  }
 },
 "nbformat": 4,
 "nbformat_minor": 2
}
