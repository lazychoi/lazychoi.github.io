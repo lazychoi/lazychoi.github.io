{
 "cells": [
  {
   "cell_type": "raw",
   "metadata": {},
   "source": [
    "---\n",
    "title: 팩토리얼\n",
    "date: 2022/11/15\n",
    "updated: last-modified\n",
    "format: \n",
    "  html:\n",
    "    code-fold: false\n",
    "---"
   ]
  },
  {
   "cell_type": "markdown",
   "metadata": {},
   "source": [
    "[https://www.acmicpc.net/problem/10872](https://www.acmicpc.net/problem/10872){target=_blank}\n",
    "\n",
    "헤매다가 얼떨결에 풀었다."
   ]
  },
  {
   "cell_type": "code",
   "execution_count": 24,
   "metadata": {},
   "outputs": [
    {
     "data": {
      "text/plain": [
       "6"
      ]
     },
     "execution_count": 24,
     "metadata": {},
     "output_type": "execute_result"
    }
   ],
   "source": [
    "n = 3\n",
    "# n = int(input())\n",
    "\n",
    "def factorial(n):\n",
    "    \n",
    "    if n == 0:\n",
    "        return 1\n",
    "    if n == 1:\n",
    "        return n\n",
    "    else:\n",
    "        return n * factorial(n - 1)\n",
    "\n",
    "factorial(n)"
   ]
  },
  {
   "cell_type": "markdown",
   "metadata": {},
   "source": [
    "재귀 알고리즘은 다음 3가지 조건을 만족해야 한다.(출처: \"쓰면서 익히는 알고리즘과 자료구조(윤대석)\"\n",
    "\n",
    "1. 베이스 케이스가 반드시 정의되어야 한다. 베이스 케이스는 재귀 호출을 마무리할 수 있는 조건이다.\n",
    "1. 지속적으로 재귀 인자가 변경되어야 하고 변경되는 인자는 베이스 케이스로 수렴해야 한다.\n",
    "1. 재귀 알고리즘은 자기 자신을 호출하는 과정이 필요하다."
   ]
  },
  {
   "cell_type": "code",
   "execution_count": 26,
   "metadata": {},
   "outputs": [
    {
     "data": {
      "text/plain": [
       "3628800"
      ]
     },
     "execution_count": 26,
     "metadata": {},
     "output_type": "execute_result"
    }
   ],
   "source": [
    "def fac(n):\n",
    "    if(n > 1):\n",
    "        return n * fac(n - 1)\n",
    "    else:\n",
    "        return 1\n",
    "\n",
    "fac(10)"
   ]
  }
 ],
 "metadata": {
  "kernelspec": {
   "display_name": "Python 3 (ipykernel)",
   "language": "python",
   "name": "python3"
  },
  "language_info": {
   "codemirror_mode": {
    "name": "ipython",
    "version": 3
   },
   "file_extension": ".py",
   "mimetype": "text/x-python",
   "name": "python",
   "nbconvert_exporter": "python",
   "pygments_lexer": "ipython3",
   "version": "3.9.12"
  },
  "vscode": {
   "interpreter": {
    "hash": "38cca0c38332a56087b24af0bc80247f4fced29cb4f7f437d91dc159adec9c4e"
   }
  }
 },
 "nbformat": 4,
 "nbformat_minor": 4
}
