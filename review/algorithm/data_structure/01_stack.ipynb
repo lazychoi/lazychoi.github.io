{
 "cells": [
  {
   "cell_type": "raw",
   "metadata": {},
   "source": [
    "---\n",
    "title: 스택과 큐 - 괄호\n",
    "date: 2022/11/07\n",
    "updated: last-modified\n",
    "---"
   ]
  },
  {
   "cell_type": "markdown",
   "metadata": {},
   "source": [
    "[https://www.acmicpc.net/problem/9012](https://www.acmicpc.net/problem/9012){target=_blank}\n",
    "\n",
    "### 접근 과정\n",
    "\n"
   ]
  },
  {
   "cell_type": "code",
   "execution_count": 15,
   "metadata": {},
   "outputs": [
    {
     "name": "stdout",
     "output_type": "stream",
     "text": [
      "deque(['(', ')', ')', '(', '(', ')'])\n",
      "Yes\n"
     ]
    }
   ],
   "source": [
    "from collections import deque\n",
    "\n",
    "def parenthesis(s):\n",
    "\n",
    "    q = deque()\n",
    "    q.extend(s)\n",
    "    print(q)    \n",
    "    s2 = []\n",
    "\n",
    "    first = q.popleft()\n",
    "    if first == ')':\n",
    "        return 'No'\n",
    "    else:\n",
    "        s2.append(first)\n",
    "    num = 1\n",
    "\n",
    "    while q:\n",
    "        tmp = q.popleft()\n",
    "        if tmp != first:\n",
    "            s2.pop()\n",
    "        else:\n",
    "            s2.append(tmp)\n",
    "            first = tmp\n",
    "    \n",
    "\n",
    "    if num == 0:\n",
    "        return 'Yes'\n",
    "    else:\n",
    "        return 'No'\n",
    "\n",
    "n = int(input())\n",
    "for _ in range(n):\n",
    "    s = list(input())\n",
    "    print(parenthesis(s))"
   ]
  },
  {
   "cell_type": "markdown",
   "metadata": {},
   "source": [
    "### 반례\n",
    "\n",
    "())(() -> No를 반환해야 하는데 Yes 반환함\n",
    "\n"
   ]
  }
 ],
 "metadata": {
  "kernelspec": {
   "display_name": "Python 3.9.12 ('base')",
   "language": "python",
   "name": "python3"
  },
  "language_info": {
   "codemirror_mode": {
    "name": "ipython",
    "version": 3
   },
   "file_extension": ".py",
   "mimetype": "text/x-python",
   "name": "python",
   "nbconvert_exporter": "python",
   "pygments_lexer": "ipython3",
   "version": "3.9.12"
  },
  "orig_nbformat": 4,
  "vscode": {
   "interpreter": {
    "hash": "ad2bdc8ecc057115af97d19610ffacc2b4e99fae6737bb82f5d7fb13d2f2c186"
   }
  }
 },
 "nbformat": 4,
 "nbformat_minor": 2
}
