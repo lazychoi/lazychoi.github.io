{
 "cells": [
  {
   "cell_type": "raw",
   "metadata": {},
   "source": [
    "---\n",
    "title: 카드2\n",
    "date: 2022/11/09\n",
    "date-modified: last-modified\n",
    "---"
   ]
  },
  {
   "cell_type": "markdown",
   "metadata": {},
   "source": [
    "[https://www.acmicpc.net/problem/2164](https://www.acmicpc.net/problem/2164)\n",
    "\n",
    "### 접근 과정\n",
    "\n",
    "1. 1부터 n까지의 리스트를 만든다.\n",
    "1. 리스트를 deque()에 넣어 큐변수를 만든다\n",
    "1. 큐변수에 남는 원소가 1보다 크면 반복\n",
    "1. popleft()\n",
    "1. popleft() -> append"
   ]
  },
  {
   "cell_type": "code",
   "execution_count": 14,
   "metadata": {},
   "outputs": [
    {
     "name": "stdout",
     "output_type": "stream",
     "text": [
      "pop deque([2, 3, 4, 5])\n",
      "after append deque([3, 4, 5, 2])\n",
      "pop deque([4, 5, 2])\n",
      "after append deque([5, 2, 4])\n",
      "pop deque([2, 4])\n",
      "after append deque([4, 2])\n",
      "pop deque([2])\n",
      "after append deque([2])\n",
      "2\n"
     ]
    }
   ],
   "source": [
    "from collections import deque\n",
    "\n",
    "n = int(input())\n",
    "num = [i for i in range(1, n + 1)]\n",
    "num = deque(num)\n",
    "\n",
    "while len(num) > 1:\n",
    "    num.popleft()\n",
    "    print('pop', num)\n",
    "    tmp = num.popleft()\n",
    "    num.append(tmp)\n",
    "    print('after append', num)\n",
    "\n",
    "print(num.popleft())"
   ]
  }
 ],
 "metadata": {
  "kernelspec": {
   "display_name": "Python 3.9.12 ('base')",
   "language": "python",
   "name": "python3"
  },
  "language_info": {
   "codemirror_mode": {
    "name": "ipython",
    "version": 3
   },
   "file_extension": ".py",
   "mimetype": "text/x-python",
   "name": "python",
   "nbconvert_exporter": "python",
   "pygments_lexer": "ipython3",
   "version": "3.9.12"
  },
  "orig_nbformat": 4,
  "vscode": {
   "interpreter": {
    "hash": "38cca0c38332a56087b24af0bc80247f4fced29cb4f7f437d91dc159adec9c4e"
   }
  }
 },
 "nbformat": 4,
 "nbformat_minor": 2
}
