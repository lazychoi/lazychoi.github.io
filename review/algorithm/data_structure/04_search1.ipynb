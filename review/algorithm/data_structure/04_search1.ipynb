{
 "cells": [
  {
   "cell_type": "raw",
   "id": "d82781c9-5cec-4b9e-a446-c70dce72292d",
   "metadata": {},
   "source": [
    "---\n",
    "title: \"연산자 끼워넣기\"\n",
    "date: 2022/11/16\n",
    "updated: last-modified\n",
    "format: \n",
    "  html:\n",
    "    code-fold: false\n",
    "draft: true\n",
    "---"
   ]
  },
  {
   "cell_type": "raw",
   "id": "d492c0b6-818e-4b1c-be32-e43ca7371bbd",
   "metadata": {},
   "source": [
    "[https://www.acmicpc.net/problem/14888](https://www.acmicpc.net/problem/14888)\n",
    "\n",
    "### 요구 사항\n",
    "\n",
    "- 식의 계산은 연산자 우선 순위를 무시하고 앞에서부터 진행해야 한다. \n",
    "- 나눗셈은 정수 나눗셈으로 몫만 취한다. \n",
    "- 음수를 양수로 나눌 때는 양수로 바꾼 뒤 몫을 취하고, 그 몫을 음수로 바꾼 것과 같다.\n",
    "\n",
    "N개의 수와 N-1개의 연산자가 주어졌을 때, 만들 수 있는 식의 결과가 최대인 것과 최소인 것을 구하는 프로그램을 작성하시오.\n",
    "\n",
    "- 입력: 첫째 줄에 수의 개수 N(2 ≤ N ≤ 11)가 주어진다. 둘째 줄에는 A1, A2, ..., AN이 주어진다. 셋째 줄에는 합이 N-1인 4개의 정수가 주어지는데, 차례대로 덧셈(+)의 개수, 뺄셈(-)의 개수, 곱셈(×)의 개수, 나눗셈(÷)의 개수이다. \n",
    "- 출력: 첫째 줄에 만들 수 있는 식의 결과의 최댓값을, 둘째 줄에는 최솟값을 출력\n",
    "\n",
    "### 접근 과정\n",
    "\n",
    "1. 모든 경우의 수를 출력하는 코드 \n",
    "    1. 직접 구현은 못 하겠다.\n",
    "    2. itertools 모듈의 permutations 클래스를 사용한다\n",
    "1. 연산자 배열의 모든 경우의 수를 2차원 리스트로 반환\n",
    "1. 연산자 경우의 수마다 합계를 내야하기 때문에 가장 바깥 for문으로 순회"
   ]
  },
  {
   "cell_type": "code",
   "execution_count": 65,
   "id": "86293703-dfc7-488f-b3f2-3e73dfaa23fd",
   "metadata": {},
   "outputs": [
    {
     "name": "stdout",
     "output_type": "stream",
     "text": [
      "[('*',)]\n",
      "5\n",
      "* 6 = 30\n"
     ]
    },
    {
     "data": {
      "text/plain": [
       "(30, 30)"
      ]
     },
     "execution_count": 65,
     "metadata": {},
     "output_type": "execute_result"
    }
   ],
   "source": [
    "from itertools import permutations\n",
    "\n",
    "# n = 6\n",
    "# nums = [1, 2, 3, 4, 5, 6]\n",
    "# op = [2, 1, 1, 1]\n",
    "n = 2\n",
    "nums = [5, 6]\n",
    "op = [0, 0, 1, 0]\n",
    "\n",
    "# 연산자 배열\n",
    "operator = ['+', '-', '*', '/']\n",
    "\n",
    "# 연산자 개수를 반영해서 1차원 배열로 변환\n",
    "ops = [ ]\n",
    "for i, v in enumerate(op):\n",
    "    if v != 0: ops.extend(operator[i] * v)\n",
    "\n",
    "# 연산자 모든 경우의 수를 만들어 2차원 배열로 변환  \n",
    "ops = list(permutations(ops, n - 1))\n",
    "print(ops)\n",
    "\n",
    "answer = []\n",
    "for j in range(len(ops)):  # 연산자 경우의 수를 순회\n",
    "    tmp = nums[0] ; print(tmp)\n",
    "    for i in range(1, len(nums)):\n",
    "        if ops[j][i-1] == '+': tmp = tmp + nums[i]; print(f'{ops[j][i-1]} {nums[i]} = {tmp}')\n",
    "        elif ops[j][i-1] == '-': tmp = tmp - nums[i]; print(f'{ops[j][i-1]} {nums[i]} = {tmp}')\n",
    "        elif ops[j][i-1] == '*': tmp = tmp * nums[i]; print(f'{ops[j][i-1]} {nums[i]} = {tmp}')\n",
    "        elif ops[j][i-1] == '/':\n",
    "            if tmp < 0:\n",
    "                tmp = -(abs(tmp) // nums[i]); print(f'{ops[j][i-1]} {nums[i]} = {tmp}')\n",
    "            else:\n",
    "                tmp = tmp // nums[i]; print(f'{ops[j][i-1]} {nums[i]} = {tmp}')\n",
    "    answer.append(tmp)\n",
    "\n",
    "max(answer), min(answer)"
   ]
  },
  {
   "cell_type": "code",
   "execution_count": 73,
   "id": "1565836d-9eae-4313-a0fb-e48879d640e8",
   "metadata": {},
   "outputs": [
    {
     "name": "stdin",
     "output_type": "stream",
     "text": [
      " 6\n",
      " 1 2 3 4 5 6\n",
      " 2 1 1 1\n"
     ]
    },
    {
     "name": "stdout",
     "output_type": "stream",
     "text": [
      "54\n",
      "-24\n"
     ]
    }
   ],
   "source": [
    "# 제출 코드\n",
    "\n",
    "from itertools import permutations\n",
    "\n",
    "n = int(input())\n",
    "nums = list(map(int, input().split()))\n",
    "op = list(map(int, input().split()))\n",
    "\n",
    "operator = ['+', '-', '*', '/']\n",
    "\n",
    "ops = [ ]\n",
    "for i, v in enumerate(op):\n",
    "    if v != 0: ops.extend(operator[i] * v)\n",
    "\n",
    "ops = list(permutations(ops, n - 1))\n",
    "\n",
    "answer = []\n",
    "for j in range(len(ops)):\n",
    "    tmp = nums[0]\n",
    "    for i in range(1, len(nums)):\n",
    "        if ops[j][i-1] == '+': tmp = tmp + nums[i]\n",
    "        elif ops[j][i-1] == '-': tmp = tmp - nums[i]\n",
    "        elif ops[j][i-1] == '*': tmp = tmp * nums[i]\n",
    "        elif ops[j][i-1] == '/':\n",
    "            if tmp < 0:\n",
    "                tmp = -(abs(tmp) // nums[i])\n",
    "            else:\n",
    "                tmp = tmp // nums[i]\n",
    "    answer.append(tmp)\n",
    "\n",
    "print(max(answer))\n",
    "print(min(answer))"
   ]
  },
  {
   "cell_type": "markdown",
   "id": "4b51f1f0-ae4e-4401-b4b4-8827a22877ce",
   "metadata": {},
   "source": [
    "## 다른 사람 코드\n",
    "\n",
    "모든 경우의 수를 고려하는 백트래킹 알고리즘 중 깊이우선탐색(DFS, Deep First Search)을 이용해서 짠 코드다. \n",
    "\n",
    "[출처](https://velog.io/@kimdukbae/BOJ-14888-%EC%97%B0%EC%82%B0%EC%9E%90-%EB%81%BC%EC%9B%8C%EB%84%A3%EA%B8%B0-Python){target=_blank}"
   ]
  },
  {
   "cell_type": "code",
   "execution_count": 1,
   "id": "f9f5fba3-e9e3-45a9-9bdf-c39d117fcffb",
   "metadata": {},
   "outputs": [
    {
     "name": "stdin",
     "output_type": "stream",
     "text": [
      " 3\n",
      " 3 4 5\n",
      " 1 0 1 0\n"
     ]
    },
    {
     "name": "stdout",
     "output_type": "stream",
     "text": [
      "35\n",
      "17\n"
     ]
    }
   ],
   "source": [
    "# 백트래킹 (Python3 통과, PyPy3도 통과)\n",
    "\n",
    "N = int(input())\n",
    "num = list(map(int, input().split()))\n",
    "op = list(map(int, input().split()))  # +, -, *, //\n",
    "\n",
    "maximum = -1e9\n",
    "minimum = 1e9\n",
    "\n",
    "\n",
    "def dfs(depth, total, plus, minus, multiply, divide):\n",
    "    global maximum, minimum\n",
    "    \n",
    "    # 재귀함수 종료 조건 : 최대 깊이 도달\n",
    "    if depth == N:\n",
    "        maximum = max(total, maximum)\n",
    "        minimum = min(total, minimum)\n",
    "        return\n",
    "    \n",
    "    # 재귀함수(깊이 증가, total(초기값은 첫 인덱스)-연산-num[깊이], 연산자 개수 감소, 나머지 연산자는 그대로)\n",
    "    if plus:  \n",
    "        dfs(depth + 1, total + num[depth], plus - 1, minus, multiply, divide)\n",
    "    if minus:\n",
    "        dfs(depth + 1, total - num[depth], plus, minus - 1, multiply, divide)\n",
    "    if multiply:\n",
    "        dfs(depth + 1, total * num[depth], plus, minus, multiply - 1, divide)\n",
    "    if divide:\n",
    "        dfs(depth + 1, int(total / num[depth]), plus, minus, multiply, divide - 1) # 지시사항대로 하지 않고 정수형으로만 만들면 되는구나\n",
    "\n",
    "\n",
    "dfs(1, num[0], op[0], op[1], op[2], op[3])\n",
    "print(maximum)\n",
    "print(minimum)"
   ]
  },
  {
   "cell_type": "code",
   "execution_count": null,
   "id": "15891e1d-2371-4d60-b9a9-ea164e92c599",
   "metadata": {},
   "outputs": [],
   "source": []
  }
 ],
 "metadata": {
  "kernelspec": {
   "display_name": "Python 3 (ipykernel)",
   "language": "python",
   "name": "python3"
  },
  "language_info": {
   "codemirror_mode": {
    "name": "ipython",
    "version": 3
   },
   "file_extension": ".py",
   "mimetype": "text/x-python",
   "name": "python",
   "nbconvert_exporter": "python",
   "pygments_lexer": "ipython3",
   "version": "3.9.12"
  }
 },
 "nbformat": 4,
 "nbformat_minor": 5
}
