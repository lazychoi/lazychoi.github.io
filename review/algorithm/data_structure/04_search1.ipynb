{
 "cells": [
  {
   "cell_type": "raw",
   "id": "d82781c9-5cec-4b9e-a446-c70dce72292d",
   "metadata": {},
   "source": [
    "---\n",
    "title: \"연산자 끼워넣기\"\n",
    "date: 2022/11/16\n",
    "updated: last-modified\n",
    "format: \n",
    "  html:\n",
    "    code-fold: false\n",
    "draft: true\n",
    "---"
   ]
  },
  {
   "cell_type": "raw",
   "id": "d492c0b6-818e-4b1c-be32-e43ca7371bbd",
   "metadata": {},
   "source": [
    "[https://www.acmicpc.net/problem/14888](https://www.acmicpc.net/problem/14888)\n",
    "\n",
    "### 요구 사항\n",
    "\n",
    "- 식의 계산은 연산자 우선 순위를 무시하고 앞에서부터 진행해야 한다. \n",
    "- 나눗셈은 정수 나눗셈으로 몫만 취한다. \n",
    "- 음수를 양수로 나눌 때는 양수로 바꾼 뒤 몫을 취하고, 그 몫을 음수로 바꾼 것과 같다.\n",
    "\n",
    "N개의 수와 N-1개의 연산자가 주어졌을 때, 만들 수 있는 식의 결과가 최대인 것과 최소인 것을 구하는 프로그램을 작성하시오.\n",
    "\n",
    "- 입력: 첫째 줄에 수의 개수 N(2 ≤ N ≤ 11)가 주어진다. 둘째 줄에는 A1, A2, ..., AN이 주어진다. 셋째 줄에는 합이 N-1인 4개의 정수가 주어지는데, 차례대로 덧셈(+)의 개수, 뺄셈(-)의 개수, 곱셈(×)의 개수, 나눗셈(÷)의 개수이다. \n",
    "- 출력: 첫째 줄에 만들 수 있는 식의 결과의 최댓값을, 둘째 줄에는 최솟값을 출력\n",
    "\n",
    "### 접근 과정\n",
    "\n",
    "1. 모든 경우의 수를 출력하는 코드 \n",
    "    1. 직접 구현은 못 하겠다.\n",
    "    2. itertools 모듈의 permutations 클래스를 사용한다\n",
    "1. 연산 배열의 모든 경우의 수를 리스트로 반환\n",
    "    1. 연산 배열을 enumerate -> for문 -> 값이 0이 아니면 인덱스에 해당하는 문자 * 값 -> 배열\n"
   ]
  },
  {
   "cell_type": "code",
   "execution_count": 42,
   "id": "86293703-dfc7-488f-b3f2-3e73dfaa23fd",
   "metadata": {},
   "outputs": [
    {
     "name": "stdout",
     "output_type": "stream",
     "text": [
      "[('+', '*'), ('*', '+')]\n",
      "3\n",
      "15\n",
      "0\n",
      "4\n"
     ]
    },
    {
     "data": {
      "text/plain": [
       "[15, 4]"
      ]
     },
     "execution_count": 43,
     "metadata": {},
     "output_type": "execute_result"
    }
   ],
   "source": [
    "from itertools import permutations\n",
    "\n",
    "n = 3\n",
    "nums = [3, 4, 5]\n",
    "op = [1, 0, 1, 0]\n",
    "operator = ['+', '-', '*', '/']\n",
    "\n",
    "ops = [ ]\n",
    "for i, v in enumerate(op):\n",
    "    if v != 0: ops.extend(operator[i] * v)\n",
    "\n",
    "ops = list(permutations(ops, n - 1))\n",
    "print(ops)\n",
    "answer = []\n",
    "for i in ops:\n",
    "    tmp = 0\n",
    "    for j in range(len(nums)):\n",
    "        # tmp = nums[j]; print(tmp)\n",
    "        if i[j] == '+': tmp += tmp + nums[j]; print(tmp)\n",
    "        elif i[j] == '-': tmp += tmp - nums[j]; print(tmp)\n",
    "        elif i[j] == '*': tmp += tmp * nums[j]; print(tmp)\n",
    "        else: tmp += tmp / nums[j+1]; print(tmp)\n",
    "    answer.append(tmp)\n",
    "answer"
   ]
  },
  {
   "cell_type": "code",
   "execution_count": 29,
   "id": "1565836d-9eae-4313-a0fb-e48879d640e8",
   "metadata": {},
   "outputs": [
    {
     "name": "stdout",
     "output_type": "stream",
     "text": [
      "('+', '*')\n",
      "('*', '+')\n"
     ]
    }
   ],
   "source": [
    "for i in permutations(ops, 2):\n",
    "    print(i)"
   ]
  },
  {
   "cell_type": "code",
   "execution_count": null,
   "id": "bf3135a3-27b8-4cb5-aedc-dab0501557b7",
   "metadata": {},
   "outputs": [],
   "source": []
  }
 ],
 "metadata": {
  "kernelspec": {
   "display_name": "Python 3 (ipykernel)",
   "language": "python",
   "name": "python3"
  },
  "language_info": {
   "codemirror_mode": {
    "name": "ipython",
    "version": 3
   },
   "file_extension": ".py",
   "mimetype": "text/x-python",
   "name": "python",
   "nbconvert_exporter": "python",
   "pygments_lexer": "ipython3",
   "version": "3.9.12"
  }
 },
 "nbformat": 4,
 "nbformat_minor": 5
}
