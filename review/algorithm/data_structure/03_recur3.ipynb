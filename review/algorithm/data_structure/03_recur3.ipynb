{
 "cells": [
  {
   "cell_type": "raw",
   "metadata": {},
   "source": [
    "---\n",
    "title: \"괄호 변환\"\n",
    "date: 2022/11/16\n",
    "date-modified: last-modified\n",
    "format: \n",
    "  html:\n",
    "    code-fold: false\n",
    "---"
   ]
  },
  {
   "cell_type": "markdown",
   "metadata": {},
   "source": [
    "[https://school.programmers.co.kr/learn/courses/30/lessons/60058](https://school.programmers.co.kr/learn/courses/30/lessons/60058)\n",
    "\n",
    "### 요구 사항\n",
    "\n",
    "1. 입력이 빈 문자열인 경우, 빈 문자열을 반환합니다. \n",
    "2. 문자열 w를 두 \"균형잡힌 괄호 문자열\" u, v로 분리합니다. 단, u는 \"균형잡힌 괄호 문자열\"로 더 이상 분리할 수 없어야 하며, v는 빈 문자열이 될 수 있습니다. \n",
    "3. 문자열 u가 \"올바른 괄호 문자열\" 이라면 문자열 v에 대해 1단계부터 다시 수행합니다. \n",
    "  3-1. 수행한 결과 문자열을 u에 이어 붙인 후 반환합니다. \n",
    "4. 문자열 u가 \"올바른 괄호 문자열\"이 아니라면 아래 과정을 수행합니다. \n",
    "  4-1. 빈 문자열에 첫 번째 문자로 '('를 붙입니다. \n",
    "  4-2. 문자열 v에 대해 1단계부터 재귀적으로 수행한 결과 문자열을 이어 붙입니다. \n",
    "  4-3. ')'를 다시 붙입니다. \n",
    "  4-4. u의 첫 번째와 마지막 문자를 제거하고, 나머지 문자열의 괄호 방향을 뒤집어서 뒤에 붙입니다. \n",
    "  4-5. 생성된 문자열을 반환합니다.\n",
    "\n",
    "\n",
    "## 접근 과정\n",
    "\n",
    "1. '(' = 1, ')' = -1 로 대체\n",
    "1. 문자열을 순회하며 더한 값이 0이면 문자열 분리\n",
    "1. 올바른 괄호 문자열인지 판단\n",
    "    1. 더한 값이 < 0 이면 올바른 문자열이 아님\n",
    "    1. 최종적으로 모두 더한 값이 0이면 올바른 문자열임\n",
    "1. 앞뒤 모두 올바른 괄호 문자열이면 u + v 반환\n",
    "1. 앞만 올바른 괄호 문자열이면 u + 재귀함수(v) 반환\n",
    "1. 그 외\n",
    "    1. 빈 배열 생성\n",
    "    1. 빈 배열에 '(' append\n",
    "    1. 재귀함수(v) extend <- 1차원 유지 위해 extend\n",
    "    1. ')' append\n",
    "    1. u[1:-1] 리스트에서 '(' -> ')', ')' -> '(' 처럼 방향을 뒤집어서 extend\n",
    "    1. 이렇게 만든 배열 반환\n",
    "\n",
    "시키는 대로 해서 구현은 했는데 원리는 모르겠다."
   ]
  },
  {
   "cell_type": "code",
   "execution_count": 47,
   "metadata": {},
   "outputs": [
    {
     "name": "stdout",
     "output_type": "stream",
     "text": [
      "u [-1, 1]\n",
      "v []\n",
      "check u bad\n",
      "check v good\n",
      "u []\n",
      "v []\n",
      "check u good\n",
      "check v good\n",
      "new [1, -1]\n",
      "()\n"
     ]
    }
   ],
   "source": [
    "p = \")(\"\n",
    "\n",
    "\n",
    "def check_paren(p):\n",
    "    hap = 0\n",
    "    for i in p:\n",
    "        hap += i\n",
    "        if hap < 0:\n",
    "            return 'bad'\n",
    "    if hap == 0:\n",
    "        return 'good'\n",
    "\n",
    "def paren(p):\n",
    "\n",
    "    if p == '':\n",
    "        return p\n",
    "    \n",
    "    hap, u, v = 0, [], []\n",
    "\n",
    "    for i in range(len(p)):\n",
    "        hap += p[i]\n",
    "        if hap == 0:\n",
    "            u = p[:i+1]\n",
    "            v = p[i+1:]\n",
    "            break\n",
    "    print('u', u)\n",
    "    print('v', v)\n",
    "    print('check u', check_paren(u))\n",
    "    print('check v', check_paren(v))\n",
    "    if check_paren(u) == 'good' and check_paren(v) == 'good':\n",
    "        return u + v\n",
    "    elif check_paren(u) == 'good' and check_paren(v) == 'bad':\n",
    "        return u + paren(v)\n",
    "    else:\n",
    "        new = []\n",
    "        new.append(1)\n",
    "        new.extend(paren(v))\n",
    "        new.append(-1)\n",
    "        new_u = [-1 if i == 1 else 1 for i in u[1:-1]]\n",
    "        new.extend(new_u)\n",
    "        print('new', new)\n",
    "        return new\n",
    "\n",
    "new_p = [ 1 if i == '(' else -1 for i in list(p)]\n",
    "result = paren(new_p)\n",
    "print(''.join(['(' if i == 1 else ')' for i in result]))"
   ]
  },
  {
   "cell_type": "code",
   "execution_count": 50,
   "metadata": {},
   "outputs": [
    {
     "data": {
      "text/plain": [
       "'()'"
      ]
     },
     "execution_count": 50,
     "metadata": {},
     "output_type": "execute_result"
    }
   ],
   "source": [
    "def solution(k):\n",
    "\n",
    "    def check_paren(p):\n",
    "        hap = 0\n",
    "        for i in p:\n",
    "            hap += i\n",
    "            if hap < 0:\n",
    "                return 'bad'\n",
    "        if hap == 0:\n",
    "            return 'good'\n",
    "\n",
    "    def paren(p):\n",
    "\n",
    "        if p == '':\n",
    "            return p\n",
    "\n",
    "        hap, u, v = 0, [], []\n",
    "\n",
    "        for i in range(len(p)):\n",
    "            hap += p[i]\n",
    "            if hap == 0:\n",
    "                u = p[:i+1]\n",
    "                v = p[i+1:]\n",
    "                break\n",
    "\n",
    "        if check_paren(u) == 'good' and check_paren(v) == 'good':\n",
    "            return u + v\n",
    "        elif check_paren(u) == 'good' and check_paren(v) == 'bad':\n",
    "            return u + paren(v)\n",
    "        else:\n",
    "            new = []\n",
    "            new.append(1)\n",
    "            new.extend(paren(v))\n",
    "            new.append(-1)\n",
    "            new_u = [-1 if i == 1 else 1 for i in u[1:-1]]\n",
    "            new.extend(new_u)\n",
    "\n",
    "            return new\n",
    "\n",
    "    p = [ 1 if i == '(' else -1 for i in list(k)]\n",
    "    result = paren(p)\n",
    "    return ''.join(['(' if i == 1 else ')' for i in result])\n",
    "    \n",
    "solution(p)"
   ]
  },
  {
   "cell_type": "markdown",
   "metadata": {},
   "source": [
    "## 엔코아 풀이\n",
    "\n",
    "이 문제에서 base case는 \"입력이 빈 문자열일 경우 빈 문자열 반환\"이다. base case를 지정하지 않으면 무한루프에 빠진다.\n",
    "\n",
    "- p : 입력 문자열\n",
    "- cnt : \"(\", \")\" 개수 카운트\n",
    "- idx : \"균형 잡힌 괄호 문자열\" u, v를 나누기 위한 index\n",
    "- u, v : 분리된 문자열\n",
    "- new_u : '올바른 문자열'이 아닌 u에 대한 작업이 수행된 이후의 u"
   ]
  },
  {
   "cell_type": "code",
   "execution_count": 52,
   "metadata": {},
   "outputs": [
    {
     "data": {
      "text/plain": [
       "'()'"
      ]
     },
     "execution_count": 52,
     "metadata": {},
     "output_type": "execute_result"
    }
   ],
   "source": [
    "def solution(p):\n",
    "    # 1. 입력이 빈 문자열인 경우, 빈 문자열 반환\n",
    "    if p == '':\n",
    "        return p\n",
    "    \n",
    "    # 2. 문자열을 '균형 잡힌 괄호 문자열' u, v로 분리.\n",
    "    cnt, idx = 0, 0\n",
    "    for i in range(len(p)):\n",
    "        if p[i] == \"(\":\n",
    "            cnt += 1\n",
    "        else: # 닫는 괄호일 때\n",
    "            cnt -= 1\n",
    "\n",
    "        if cnt == 0:\n",
    "            idx = i\n",
    "            break\n",
    "\n",
    "    u, v = p[:idx+1], p[idx+1:]\n",
    "    \n",
    "    # 3. 문자열 u가 올바른 괄호 문자열이라면 v에 대해 1단계부터 다시 수행\n",
    "    # 3-1.수행한 문자열을 u에 이어붙인 후 반환\n",
    "    # 올바른 괄호 문자열 파악 - 괄호 개수가 같기 때문에 첫번째 문자가 '('이기만 하면 올바른 괄호 문자열이다.\n",
    "    if u[0] == \"(\":\n",
    "        return u + solution(v)\n",
    "    \n",
    "    # 4. 문자열 u가 \"올바른 괄호 문자열\"이 아니라면 아래 과정을 수행합니다. \n",
    "    #4-1. 빈 문자열에 첫 번째 문자로 '('를 붙입니다. \n",
    "    #4-2. 문자열 v에 대해 1단계부터 재귀적으로 수행한 결과 문자열을 이어 붙입니다. \n",
    "    #4-3. ')'를 다시 붙입니다. \n",
    "    #4-4. u의 첫 번째와 마지막 문자를 제거하고, 나머지 문자열의 괄호 방향을 뒤집어서 뒤에 붙입니다. \n",
    "    #4-5. 생성된 문자열을 반환합니다.\n",
    "    else:\n",
    "        new_u = \"\"\n",
    "        for i in u[1:-1]:\n",
    "            if i == \"(\":\n",
    "                new_u += \")\"\n",
    "            else:\n",
    "                new_u += \"(\"\n",
    "                \n",
    "        return \"(\" + solution(v) + \")\" + new_u\n",
    "        \n",
    "solution(p)"
   ]
  },
  {
   "cell_type": "code",
   "execution_count": null,
   "metadata": {},
   "outputs": [],
   "source": []
  }
 ],
 "metadata": {
  "kernelspec": {
   "display_name": "Python 3 (ipykernel)",
   "language": "python",
   "name": "python3"
  },
  "language_info": {
   "codemirror_mode": {
    "name": "ipython",
    "version": 3
   },
   "file_extension": ".py",
   "mimetype": "text/x-python",
   "name": "python",
   "nbconvert_exporter": "python",
   "pygments_lexer": "ipython3",
   "version": "3.9.12"
  },
  "vscode": {
   "interpreter": {
    "hash": "38cca0c38332a56087b24af0bc80247f4fced29cb4f7f437d91dc159adec9c4e"
   }
  }
 },
 "nbformat": 4,
 "nbformat_minor": 4
}
