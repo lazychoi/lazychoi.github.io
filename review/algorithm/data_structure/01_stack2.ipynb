{
 "cells": [
  {
   "cell_type": "raw",
   "metadata": {},
   "source": [
    "---\n",
    "title: \"스택 - 크레인 인형 뽑기 게임\"\n",
    "date: 2022/11/08\n",
    "updated: last-modified\n",
    "---"
   ]
  },
  {
   "cell_type": "markdown",
   "metadata": {},
   "source": [
    "[https://school.programmers.co.kr/learn/courses/30/lessons/64061](https://school.programmers.co.kr/learn/courses/30/lessons/64061)\n",
    "\n",
    "### 접근 과정\n",
    "\n",
    "1. board 리스트의 2차원에서 같은 자리의 요소로 이루어진 리스트로 변형하여 새로운 2차원 리스트를 만듦\n",
    "1. board 배열과 같은 모양이 되도록 stack 리스트 append 구현\n",
    "1. 아래처럼 값이 입력되도록 구현\n",
    "    1. board[4][0] -> stack[0][0] \n",
    "    1. board[3][0] -> stack[0][1] \n",
    "    1. board[2][0] -> stack[0][2] \n",
    "    1. board[1][0] -> stack[0][3] \n",
    "    1. board[0][0] -> stack[0][4] "
   ]
  },
  {
   "cell_type": "code",
   "execution_count": 191,
   "metadata": {},
   "outputs": [
    {
     "name": "stdout",
     "output_type": "stream",
     "text": [
      "4 0 => 3 | 3 0 => 4 | 2 0 => 0 | 1 0 => 0 | 0 0 => 0 | 4 1 => 5 | 3 1 => 2 | 2 1 => 2 | 1 1 => 0 | 0 1 => 0 | 4 2 => 1 | 3 2 => 4 | 2 2 => 5 | 1 2 => 1 | 0 2 => 0 | 4 3 => 3 | 3 3 => 4 | 2 3 => 0 | 1 3 => 0 | 0 3 => 0 | 4 4 => 1 | 3 4 => 2 | 2 4 => 1 | 1 4 => 3 | 0 4 => 0 | "
     ]
    },
    {
     "data": {
      "text/plain": [
       "[[3, 4, 0, 0, 0],\n",
       " [5, 2, 2, 0, 0],\n",
       " [1, 4, 5, 1, 0],\n",
       " [3, 4, 0, 0, 0],\n",
       " [1, 2, 1, 3, 0]]"
      ]
     },
     "execution_count": 191,
     "metadata": {},
     "output_type": "execute_result"
    }
   ],
   "source": [
    "board = [[0,0,0,0,0],[0,0,1,0,3],[0,2,5,0,1],[4,2,4,4,2],[3,5,1,3,1]]\n",
    "moves = [1,5,3,5,1,2,1,4]\n",
    "result = 0\n",
    "stack = []\n",
    "basket = []\n",
    "\n",
    "for j in range(len(board[0])):\n",
    "    stack.append([])\n",
    "    for i in range(len(board) - 1, -1, -1):\n",
    "        print(i, j, '=>', board[i][j], end=' | ')\n",
    "        stack[j].append(board[i][j])\n",
    "stack"
   ]
  },
  {
   "cell_type": "markdown",
   "metadata": {},
   "source": [
    "1. moves 변수를 큐처럼 쓰기 위해 거꾸로 정렬 후 pop()\n",
    "1. moves가 빌 때까지 while\n",
    "1. moves.pop() -> 숫자에 해당하는 stack의 1차원 인덱스 pop()\n",
    "1. 0면 stack에서 다시 꺼냄\n",
    "1. 스택의 pop() 값이 바구니의 -1 인덱스와 같으면 바구니.pop() result += 2\n",
    "1. 같지 않으면 바구니.append(스택pop)"
   ]
  },
  {
   "cell_type": "code",
   "execution_count": 192,
   "metadata": {},
   "outputs": [
    {
     "data": {
      "text/plain": [
       "[4, 1, 2, 1, 5, 3, 5, 1]"
      ]
     },
     "execution_count": 192,
     "metadata": {},
     "output_type": "execute_result"
    }
   ],
   "source": [
    "moves.reverse()\n",
    "moves"
   ]
  },
  {
   "cell_type": "markdown",
   "metadata": {},
   "source": [
    "[ 4, 3, 1, 1, 3, 2, ,4 ] -> 4개"
   ]
  },
  {
   "cell_type": "code",
   "execution_count": 193,
   "metadata": {},
   "outputs": [],
   "source": [
    "column = moves.pop() - 1\n",
    "doll = 0\n",
    "if stack[column]:\n",
    "    while doll == 0:\n",
    "        doll = stack[column].pop()\n",
    "basket.append(doll)"
   ]
  },
  {
   "cell_type": "code",
   "execution_count": 194,
   "metadata": {},
   "outputs": [
    {
     "name": "stdout",
     "output_type": "stream",
     "text": [
      "columns 1 doll 4 basket [4]\n",
      "columns 5 doll 3 basket [4, 3]\n",
      "columns 3 doll 1 basket [4, 3, 1]\n",
      "basket.pop ->  1\n",
      "result 2\n",
      "columns 5 doll 1 basket [4, 3]\n",
      "basket.pop ->  3\n",
      "result 4\n",
      "columns 1 doll 3 basket [4]\n",
      "columns 2 doll 2 basket [4, 2]\n",
      "columns 1 doll 0 basket [4, 2, 0]\n",
      "4\n"
     ]
    }
   ],
   "source": [
    "while moves:\n",
    "    print('columns', column+1, 'doll', doll, 'basket', basket)\n",
    "    \n",
    "    column = moves.pop() - 1\n",
    "    doll = 0\n",
    "    if stack[column]:\n",
    "        while doll == 0:\n",
    "            doll = stack[column].pop()\n",
    "\n",
    "    if basket:\n",
    "        if doll == basket[-1]:\n",
    "            print('basket.pop -> ', basket.pop())\n",
    "            result += 2\n",
    "            print('result', result)\n",
    "        else:\n",
    "            basket.append(doll)\n",
    "print(result)"
   ]
  },
  {
   "cell_type": "markdown",
   "metadata": {},
   "source": [
    "### 코드 정리\n",
    "\n",
    "1번이 통과를 못해 힌트의 반례를 보고서야 문제 원인을 찾았다. 인형이 하나도 없거나 모두 같은 인형일 경우를 예상하지 못했다. moves에서 숫자를 뽑을 때 underflow가 나지 않도록 조건을 걸고, 인형이 없을 때 바구니에 담지 않도록 명시적으로 조건을 걸어야 한다.\n"
   ]
  },
  {
   "cell_type": "code",
   "execution_count": 262,
   "metadata": {},
   "outputs": [
    {
     "name": "stdout",
     "output_type": "stream",
     "text": [
      "[[3, 4, 0, 0, 0], [5, 2, 2, 0, 0], [1, 4, 5, 1, 0], [3, 4, 0, 0, 0], [1, 2, 1, 3, 0]]\n",
      "1 []\n",
      "4 [4]\n",
      "3 [4, 3]\n",
      "1 [4, 3, 1]\n",
      "1 [4, 3]\n",
      "3 [4]\n",
      "2 [4, 2]\n",
      "0 [4, 2]\n",
      "4\n"
     ]
    }
   ],
   "source": [
    "board = [[0,0,0,0,0],[0,0,1,0,3],[0,2,5,0,1],[4,2,4,4,2],[3,5,1,3,1]]\n",
    "moves = [1,5,3,5,1,2,1,4]\n",
    "# board = [[0, 0, 0, 0], [0, 0, 0, 0], [0, 0, 0, 0], [0, 0, 0, 0]]\n",
    "# board = [[1, 1, 1, 1], [1, 1, 1, 1], [1, 1, 1, 1], [1, 1, 1, 1]]\n",
    "# moves =  [1, 2, 3, 4]\n",
    "\n",
    "\n",
    "result = 0\n",
    "stack = []\n",
    "basket = []\n",
    "\n",
    "for j in range(len(board[0])):\n",
    "    stack.append([])\n",
    "    for i in range(len(board) - 1, -1, -1):\n",
    "        # print(i, j, '=>', board[i][j], end=' | ')\n",
    "        stack[j].append(board[i][j])\n",
    "\n",
    "print(stack)\n",
    "moves.reverse()\n",
    "\n",
    "while moves:\n",
    "    print(doll, basket)\n",
    "    \n",
    "    column = moves.pop() - 1\n",
    "    doll = 0\n",
    "    while stack[column] and doll == 0:\n",
    "        doll = stack[column].pop()\n",
    "\n",
    "    if basket:\n",
    "        if doll == basket[-1]:\n",
    "            basket.pop()\n",
    "            result += 2\n",
    "        elif doll != 0:\n",
    "            basket.append(doll)\n",
    "    elif doll != 0:\n",
    "        basket.append(doll)\n",
    "\n",
    "print(result)"
   ]
  },
  {
   "cell_type": "code",
   "execution_count": 271,
   "metadata": {},
   "outputs": [],
   "source": [
    "def solution(board, moves):\n",
    "    result = 0\n",
    "    stack = []\n",
    "    basket = []\n",
    "\n",
    "    for j in range(len(board[0])):\n",
    "        stack.append([])\n",
    "        for i in range(len(board) - 1, -1, -1):\n",
    "            stack[j].append(board[i][j])\n",
    "    \n",
    "    moves.reverse()\n",
    "\n",
    "    while moves:\n",
    "\n",
    "        column = moves.pop() - 1\n",
    "        doll = 0\n",
    "        while stack[column] and doll == 0:\n",
    "            doll = stack[column].pop()\n",
    "\n",
    "        if basket:\n",
    "            if doll == basket[-1]:\n",
    "                basket.pop()\n",
    "                result += 2\n",
    "            elif doll != 0:\n",
    "                basket.append(doll)\n",
    "        elif doll != 0:\n",
    "            basket.append(doll)\n",
    "            \n",
    "    return result"
   ]
  },
  {
   "cell_type": "code",
   "execution_count": 272,
   "metadata": {},
   "outputs": [
    {
     "data": {
      "text/plain": [
       "0"
      ]
     },
     "execution_count": 272,
     "metadata": {},
     "output_type": "execute_result"
    }
   ],
   "source": [
    "board = [[0, 0, 0, 0], [0, 0, 0, 0], [0, 0, 0, 0], [0, 0, 0, 0]]\n",
    "# board = [[1, 1, 1, 1], [1, 1, 1, 1], [1, 1, 1, 1], [1, 1, 1, 1]]\n",
    "moves =  [1, 2, 3, 4]\n",
    "solution(board, moves)"
   ]
  },
  {
   "cell_type": "markdown",
   "metadata": {},
   "source": [
    "### 다른 사람 코드\n",
    "\n",
    "moves를 가장 바깥 for문으로 돌린 점이 돋보인다. 스택을 만들 때 0은 아예 넣지 않았다. 한 번 읽은 곳은 다시 읽지 않도록 0을 입력한 것도 생각지 못한 방법이다."
   ]
  },
  {
   "cell_type": "code",
   "execution_count": null,
   "metadata": {},
   "outputs": [],
   "source": [
    "def solution(board, moves):\n",
    "    stacklist = []\n",
    "    answer = 0\n",
    "\n",
    "    for i in moves:\n",
    "        for j in range(len(board)):\n",
    "            if board[j][i-1] != 0:\n",
    "                stacklist.append(board[j][i-1])\n",
    "                board[j][i-1] = 0\n",
    "\n",
    "                if len(stacklist) > 1:\n",
    "                    if stacklist[-1] == stacklist[-2]:\n",
    "                        stacklist.pop(-1)\n",
    "                        stacklist.pop(-1)\n",
    "                        answer += 2     \n",
    "                break\n",
    "\n",
    "    return answer"
   ]
  }
 ],
 "metadata": {
  "kernelspec": {
   "display_name": "Python 3.9.12 ('base')",
   "language": "python",
   "name": "python3"
  },
  "language_info": {
   "codemirror_mode": {
    "name": "ipython",
    "version": 3
   },
   "file_extension": ".py",
   "mimetype": "text/x-python",
   "name": "python",
   "nbconvert_exporter": "python",
   "pygments_lexer": "ipython3",
   "version": "3.9.12"
  },
  "orig_nbformat": 4,
  "vscode": {
   "interpreter": {
    "hash": "38cca0c38332a56087b24af0bc80247f4fced29cb4f7f437d91dc159adec9c4e"
   }
  }
 },
 "nbformat": 4,
 "nbformat_minor": 2
}
