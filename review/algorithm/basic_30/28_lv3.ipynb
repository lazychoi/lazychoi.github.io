{
 "cells": [
  {
   "cell_type": "raw",
   "id": "d2bf0da8",
   "metadata": {},
   "source": [
    "---\n",
    "title: 체육복\n",
    "date: 2022/11/05\n",
    "date-modified: last-modified\n",
    "---"
   ]
  },
  {
   "cell_type": "markdown",
   "id": "64e88be4",
   "metadata": {},
   "source": [
    "[https://school.programmers.co.kr/learn/courses/30/lessons/42862](https://school.programmers.co.kr/learn/courses/30/lessons/42862)\n",
    "\n",
    "## 접근 과정\n",
    "\n",
    "1. n에서 lost를 빼서 우선 체육복을 준비하여 체육수업을 들을 수 있는 최소한의 학생수를 계산한다.\n",
    "1. lost 요소 앞뒤 번호가 체육복 여벌이 있는지 확인한다. 학생이 있으면 수업 들을 수 있는 학생수 +1\n",
    "1. 앞뒤 번호가 reserve 변수에 있는지 확인할 때는 in 활용\n",
    "1. 체육복을 빌려준 번호는 reserve 변수에서 삭제\n",
    "\n",
    "여벌 체육복을 가져온 학생이 체육복을 도난당했을 수 있습니다. 이때 이 학생은 체육복을 하나만 도난당했다고 가정하며, 남은 체육복이 하나이기에 다른 학생에게는 체육복을 빌려줄 수 없습니다.\n",
    "\n",
    "1. lost 번호가 reserve 변수 안에 있으면 attend에 추가(여벌이 있으므로 출석 명단에서 빠진 것 복귀)\n",
    "\n",
    "- n\tlost\treserve\treturn\n",
    "- 5\t[2, 4]\t[1, 3, 5]\t5\n",
    "- 5\t[2, 4]\t[3]\t4\n",
    "- 3\t[3]\t[1]\t2"
   ]
  },
  {
   "cell_type": "markdown",
   "id": "e468e8e1",
   "metadata": {},
   "source": [
    "## 최초 코드"
   ]
  },
  {
   "cell_type": "code",
   "execution_count": 58,
   "id": "0b684c44",
   "metadata": {},
   "outputs": [
    {
     "name": "stdout",
     "output_type": "stream",
     "text": [
      "[1, 3, 5]\n",
      "if_2 [1, 3, 5, 2]\n",
      "if_2 [1, 3, 5, 2, 4]\n"
     ]
    },
    {
     "data": {
      "text/plain": [
       "5"
      ]
     },
     "execution_count": 58,
     "metadata": {},
     "output_type": "execute_result"
    }
   ],
   "source": [
    "def solution(n, lost, reserve):\n",
    "    students = set([i for i in range(1, n + 1)])\n",
    "    attend = list(set(students) - set(lost))\n",
    "    print(attend)\n",
    "    for v in lost:\n",
    "        if v in reserve:\n",
    "            attend.append(v)\n",
    "            print('if_1', attend)\n",
    "        elif (v-1 in reserve):\n",
    "            attend.append(v)\n",
    "            reserve.remove(v - 1)\n",
    "            print('if_2', attend)\n",
    "        elif (v+1 in reserve):\n",
    "            attend.append(v)\n",
    "            reserve.remove(v + 1)\n",
    "            print('if_3', attend)\n",
    "    return len(attend)\n",
    "\n",
    "solution(5, [2, 4], [1, 3, 5])"
   ]
  },
  {
   "cell_type": "code",
   "execution_count": 59,
   "id": "cdbd6220",
   "metadata": {},
   "outputs": [
    {
     "name": "stdout",
     "output_type": "stream",
     "text": [
      "[1, 3, 5]\n",
      "if_3 [1, 3, 5, 2]\n"
     ]
    },
    {
     "data": {
      "text/plain": [
       "4"
      ]
     },
     "execution_count": 59,
     "metadata": {},
     "output_type": "execute_result"
    }
   ],
   "source": [
    "solution(5, [2, 4], [3])"
   ]
  },
  {
   "cell_type": "code",
   "execution_count": 60,
   "id": "5dad3593",
   "metadata": {},
   "outputs": [
    {
     "name": "stdout",
     "output_type": "stream",
     "text": [
      "[1, 2, 4, 6, 8, 9, 10]\n",
      "if_1 [1, 2, 4, 6, 8, 9, 10, 3]\n",
      "if_3 [1, 2, 4, 6, 8, 9, 10, 3, 5]\n"
     ]
    },
    {
     "data": {
      "text/plain": [
       "9"
      ]
     },
     "execution_count": 60,
     "metadata": {},
     "output_type": "execute_result"
    }
   ],
   "source": [
    "solution(10, [3, 5, 7], [3, 6])"
   ]
  },
  {
   "cell_type": "code",
   "execution_count": 61,
   "id": "91490d3c",
   "metadata": {},
   "outputs": [
    {
     "name": "stdout",
     "output_type": "stream",
     "text": [
      "[1, 4, 6, 8, 9, 10]\n",
      "if_3 [1, 4, 6, 8, 9, 10, 2]\n",
      "if_1 [1, 4, 6, 8, 9, 10, 2, 5]\n",
      "if_1 [1, 4, 6, 8, 9, 10, 2, 5, 7]\n"
     ]
    },
    {
     "data": {
      "text/plain": [
       "9"
      ]
     },
     "execution_count": 61,
     "metadata": {},
     "output_type": "execute_result"
    }
   ],
   "source": [
    "solution(10, [2, 3, 5, 7], [3, 5, 7])"
   ]
  },
  {
   "cell_type": "markdown",
   "id": "b0621e81",
   "metadata": {},
   "source": [
    "## 반례\n",
    "\n",
    "힌트에서 찾은 반례. 2가 나와야 하는데 3이 나옴 -> 이유는 lost와 reserve 변수 모두에 있는 번호가 for문에서 뒤에 검색되어 앞번호를 참석번호로 잘못 넣음"
   ]
  },
  {
   "cell_type": "code",
   "execution_count": 62,
   "id": "135b7a6e",
   "metadata": {},
   "outputs": [
    {
     "name": "stdout",
     "output_type": "stream",
     "text": [
      "[3]\n",
      "if_3 [3, 1]\n",
      "if_3 [3, 1, 2]\n"
     ]
    },
    {
     "data": {
      "text/plain": [
       "3"
      ]
     },
     "execution_count": 62,
     "metadata": {},
     "output_type": "execute_result"
    }
   ],
   "source": [
    "solution(3, [1,2], [2,3])"
   ]
  },
  {
   "cell_type": "markdown",
   "id": "1bf13eb7",
   "metadata": {},
   "source": [
    "아래에서 잃어버린 학생 1, 2, 4, 5 중에 2, 4는 여벌이 있으니 참가 가능 그러면 출석 가능 학생이 2, 3, 4번으로 3명이 되어야 하는데 5이 나온다."
   ]
  },
  {
   "cell_type": "code",
   "execution_count": 68,
   "id": "91a11fc3",
   "metadata": {},
   "outputs": [
    {
     "name": "stdout",
     "output_type": "stream",
     "text": [
      "[3]\n",
      "if_3 [3, 1]\n",
      "if_3 [3, 1, 2]\n",
      "if_1 [3, 1, 2, 4]\n",
      "if_2 [3, 1, 2, 4, 5]\n"
     ]
    },
    {
     "data": {
      "text/plain": [
       "5"
      ]
     },
     "execution_count": 68,
     "metadata": {},
     "output_type": "execute_result"
    }
   ],
   "source": [
    "solution(5, [1, 2, 4, 5], [2, 3, 4])"
   ]
  },
  {
   "cell_type": "markdown",
   "id": "7ad2890c",
   "metadata": {},
   "source": [
    "## 수정 코드\n",
    "\n",
    "1. lost와 reserve 교집합을 lost와 reserve 변수 모두에서 뺀다. \n",
    "1. lost와 reserve 교집합을 attend에 포함시켜야 한다. \n",
    "1. lost 변수에서 교집합을 뺀 후에 attend 변수를 만들자."
   ]
  },
  {
   "cell_type": "code",
   "execution_count": 69,
   "id": "d1afd848",
   "metadata": {},
   "outputs": [
    {
     "name": "stdout",
     "output_type": "stream",
     "text": [
      "lost [1, 5]\n",
      "reserve [3]\n",
      "attend [2, 3, 4]\n"
     ]
    },
    {
     "data": {
      "text/plain": [
       "3"
      ]
     },
     "execution_count": 69,
     "metadata": {},
     "output_type": "execute_result"
    }
   ],
   "source": [
    "def solution2(n, lost, reserve):\n",
    "    students = set([i for i in range(1, n + 1)])\n",
    "\n",
    "    intersect = set(lost) & set(reserve)\n",
    "    \n",
    "    lost = list(set(lost) - intersect)\n",
    "    reserve = list(set(reserve) - intersect)\n",
    "    attend = list(set(students) - set(lost))\n",
    "    \n",
    "    print('lost', lost)\n",
    "    print('reserve', reserve)\n",
    "    print('attend', attend)\n",
    "    \n",
    "    for v in lost:\n",
    "        if (v-1 in reserve):\n",
    "            attend.append(v)\n",
    "            reserve.remove(v - 1)\n",
    "            print('if_2', attend)\n",
    "        elif (v+1 in reserve):\n",
    "            attend.append(v)\n",
    "            reserve.remove(v + 1)\n",
    "            print('if_3', attend)\n",
    "    return len(attend)\n",
    "\n",
    "solution2(5, [1, 2, 4, 5], [2, 3, 4])"
   ]
  },
  {
   "cell_type": "code",
   "execution_count": 70,
   "id": "4ac31827",
   "metadata": {},
   "outputs": [
    {
     "name": "stdout",
     "output_type": "stream",
     "text": [
      "lost [1]\n",
      "reserve [3]\n",
      "attend [2, 3]\n"
     ]
    },
    {
     "data": {
      "text/plain": [
       "2"
      ]
     },
     "execution_count": 70,
     "metadata": {},
     "output_type": "execute_result"
    }
   ],
   "source": [
    "solution2(3, [1,2], [2,3])"
   ]
  },
  {
   "cell_type": "markdown",
   "id": "c77aabd8",
   "metadata": {},
   "source": [
    "## 다른 사람 코드\n",
    "\n",
    "논리는 같으나 집합을 쓰지 않았다."
   ]
  },
  {
   "cell_type": "code",
   "execution_count": 71,
   "id": "012aff53",
   "metadata": {},
   "outputs": [],
   "source": [
    "def solution(n, lost, reserve):\n",
    "    _reserve = [r for r in reserve if r not in lost] # reserve 중 lost에 없는 번호만\n",
    "    _lost = [l for l in lost if l not in reserve] # lost 중 reserve에 없는 번호만\n",
    "    for r in _reserve:\n",
    "        f = r - 1  # reserve 중 앞 번호\n",
    "        b = r + 1  # reserve 중 뒷 번호\n",
    "        if f in _lost:\n",
    "            _lost.remove(f)   # 앞 번호가 lost 목록에 있으면 제거\n",
    "        elif b in _lost:\n",
    "            _lost.remove(b)\n",
    "    return n - len(_lost)    # 전체에서 lost 개수 빼기"
   ]
  }
 ],
 "metadata": {
  "kernelspec": {
   "display_name": "Python 3 (ipykernel)",
   "language": "python",
   "name": "python3"
  },
  "language_info": {
   "codemirror_mode": {
    "name": "ipython",
    "version": 3
   },
   "file_extension": ".py",
   "mimetype": "text/x-python",
   "name": "python",
   "nbconvert_exporter": "python",
   "pygments_lexer": "ipython3",
   "version": "3.9.12"
  },
  "toc": {
   "base_numbering": 1,
   "nav_menu": {},
   "number_sections": true,
   "sideBar": true,
   "skip_h1_title": false,
   "title_cell": "Table of Contents",
   "title_sidebar": "Contents",
   "toc_cell": false,
   "toc_position": {
    "height": "calc(100% - 180px)",
    "left": "10px",
    "top": "150px",
    "width": "165px"
   },
   "toc_section_display": true,
   "toc_window_display": true
  },
  "varInspector": {
   "cols": {
    "lenName": 16,
    "lenType": 16,
    "lenVar": 40
   },
   "kernels_config": {
    "python": {
     "delete_cmd_postfix": "",
     "delete_cmd_prefix": "del ",
     "library": "var_list.py",
     "varRefreshCmd": "print(var_dic_list())"
    },
    "r": {
     "delete_cmd_postfix": ") ",
     "delete_cmd_prefix": "rm(",
     "library": "var_list.r",
     "varRefreshCmd": "cat(var_dic_list()) "
    }
   },
   "types_to_exclude": [
    "module",
    "function",
    "builtin_function_or_method",
    "instance",
    "_Feature"
   ],
   "window_display": false
  }
 },
 "nbformat": 4,
 "nbformat_minor": 5
}
