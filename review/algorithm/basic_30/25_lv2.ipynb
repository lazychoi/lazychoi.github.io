{
  "cells": [
    {
      "cell_type": "markdown",
      "id": "9c7a92fa",
      "metadata": {},
      "source": [
        "---\n",
        "title: 2016년\n",
        "date: 2022/11/03\n",
        "date-modified: last-modified\n",
        "---"
      ]
    },
    {
      "cell_type": "markdown",
      "id": "2a4a23dc",
      "metadata": {},
      "source": [
        "[https://school.programmers.co.kr/learn/courses/30/lessons/12901](https://school.programmers.co.kr/learn/courses/30/lessons/12901)\n",
        "\n",
        "## 접근 방법\n",
        "\n",
        "1. 2016년 1월 1일은 금요일\n",
        "1. 2016년 윤년 -> 2월 29일까지 있음\n",
        "1. 2016년 날짜의 요일을 구하는 문제\n",
        "1. 일 = [31, 29, 31, 30, 31, 30, 31, 31, 30, 31, 30, 31]\n",
        "1. 요일 = ['SUN', 'MON', 'TUE', 'WED', 'THU', 'FRI', 'SAT'] -> 7로 나눈 나머지가 요일에 해당. 인덱스가 숫자 역할\n",
        "1. 1월 1일은 나머지가 5이니 1월 1일을 5로 지정하고 하루 지날 때마다 1씩 더함\n",
        "1. 날짜를 입력하면 1월 1일부터 몇 일 째인지를 구하고 7로 나눠 요일 인덱스에 해당하는 값을 반환함\n",
        "    1. 경과일 변수를 만들어 인덱스는 날짜, 값은 경과일을 입력\n",
        "    1. 윤년이니 경과일 변수 크기는 366\n",
        "    1. 월을 입력 -> sum(mon[:월-1]) -> 지난 달까지의 일수 합계\n",
        "    1. 일을 입력 -> 위에서 구한 지난 달까지 일수 합계 + 이번 달 일수 -> 총 경과일수\n",
        "    1. (총 결과일수 + 4) % 7 -> 요일 인덱스 반환\n",
        "    1. 5가 아니라 4를 더하는 이유는 경과일을 계산할 때 일자를 더하기 때문이다. 1월 1일의 요일 숫자는 5인데 1일 + 5를 하면 6이 되버린다. 1일 + 4를 해야 5가 된다. 그러므로 4를 더한다.\n"
      ]
    },
    {
      "cell_type": "code",
      "execution_count": 2,
      "id": "515bc8f4",
      "metadata": {},
      "outputs": [
        {
          "name": "stdout",
          "output_type": "stream",
          "text": [
            "지난 달까지의 경과일수 121\n",
            "이번 달의 경과일수 24\n",
            "오늘까지의 총 일수 145\n"
          ]
        },
        {
          "data": {
            "text/plain": [
              "'TUE'"
            ]
          },
          "execution_count": 2,
          "metadata": {},
          "output_type": "execute_result"
        }
      ],
      "source": [
        "mon = [31, 29, 31, 30, 31, 30, 31, 31, 30, 31, 30, 31]\n",
        "day = ['SUN', 'MON', 'TUE', 'WED', 'THU', 'FRI', 'SAT']\n",
        "a, b = 5, 24\n",
        "print('지난 달까지의 경과일수', sum(mon[:a-1]))\n",
        "print('이번 달의 경과일수', b)\n",
        "print('오늘까지의 총 일수', sum(mon[:a-1]) + b)\n",
        "day[( sum(mon[:a-1]) + b + 4 ) % 7]"
      ]
    },
    {
      "cell_type": "markdown",
      "id": "babb1fbd",
      "metadata": {},
      "source": [
        "## 다른 사람 코드\n",
        "\n",
        "나와 거의 같으나 요일 변수의 첫 번째 인덱스에 금요일을 두어 1월 1일이 무슨 요일인지 고려하지 않아도 됨.\n"
      ]
    },
    {
      "cell_type": "code",
      "execution_count": 3,
      "id": "db908a0d",
      "metadata": {},
      "outputs": [
        {
          "data": {
            "text/plain": [
              "'TUE'"
            ]
          },
          "execution_count": 3,
          "metadata": {},
          "output_type": "execute_result"
        }
      ],
      "source": [
        "months = [31, 29, 31, 30, 31, 30, 31, 31, 30, 31, 30, 31]\n",
        "days = ['FRI', 'SAT', 'SUN', 'MON', 'TUE', 'WED', 'THU']\n",
        "days[(sum(months[:a-1]) + b-1) % 7]"
      ]
    }
  ],
  "metadata": {
    "kernelspec": {
      "display_name": "Python 3.9.12 ('base')",
      "language": "python",
      "name": "python3"
    },
    "language_info": {
      "codemirror_mode": {
        "name": "ipython",
        "version": 3
      },
      "file_extension": ".py",
      "mimetype": "text/x-python",
      "name": "python",
      "nbconvert_exporter": "python",
      "pygments_lexer": "ipython3",
      "version": "3.9.12"
    },
    "vscode": {
      "interpreter": {
        "hash": "38cca0c38332a56087b24af0bc80247f4fced29cb4f7f437d91dc159adec9c4e"
      }
    }
  },
  "nbformat": 4,
  "nbformat_minor": 5
}
