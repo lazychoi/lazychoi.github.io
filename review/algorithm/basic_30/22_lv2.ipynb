{
  "cells": [
    {
      "cell_type": "markdown",
      "metadata": {},
      "source": [
        "---\n",
        "title: 나누어 떨어지는 숫자 배열\n",
        "date: 2022/11/02\n",
        "date-modified: last-modified\n",
        "---"
      ]
    },
    {
      "cell_type": "markdown",
      "metadata": {},
      "source": [
        "## 접근 과정\n",
        "\n",
        "1. 리턴값을 저장할 변수 선언\n",
        "1. 배열의 각 요소를 divisor로 나눈 나머지가 0이면 요소를 변수에 담기\n",
        "1. 나누어 떨어지지 않으면 -1을 변수에 담기\n",
        "1. 변수를 오름차순으로 정렬\n",
        "\n",
        "[https://school.programmers.co.kr/learn/courses/30/lessons/12910](https://school.programmers.co.kr/learn/courses/30/lessons/12910)"
      ]
    },
    {
      "cell_type": "code",
      "execution_count": 1,
      "metadata": {},
      "outputs": [
        {
          "name": "stdout",
          "output_type": "stream",
          "text": [
            "[-1]\n"
          ]
        }
      ],
      "source": [
        "arr, divisor = [3,2,6], 10\n",
        "answer = [ i for i in arr if i % divisor == 0]\n",
        "\n",
        "if len(answer) == 0:\n",
        "    answer.append(-1)\n",
        "else:\n",
        "    answer.sort()\n",
        "\n",
        "print(answer)"
      ]
    },
    {
      "cell_type": "markdown",
      "metadata": {},
      "source": [
        "## 다른 사람 풀이\n",
        "\n",
        "리스트를 boolean 연산에 사용할 줄은 미처 몰랐다. 빈 리스트는 False를, 원소가 있으면 True를 반환한다."
      ]
    },
    {
      "cell_type": "code",
      "execution_count": 2,
      "metadata": {},
      "outputs": [
        {
          "data": {
            "text/plain": [
              "[-1]"
            ]
          },
          "execution_count": 2,
          "metadata": {},
          "output_type": "execute_result"
        }
      ],
      "source": [
        "sorted([n for n in arr if n%divisor == 0]) or [-1]"
      ]
    },
    {
      "cell_type": "code",
      "execution_count": 3,
      "metadata": {},
      "outputs": [
        {
          "name": "stdout",
          "output_type": "stream",
          "text": [
            "bool(sorted([])) -> False\n",
            "bool(sorted([-1])) -> True\n"
          ]
        }
      ],
      "source": [
        "print('bool(sorted([])) ->', bool(sorted([])))\n",
        "print('bool(sorted([-1])) ->', bool(sorted([-1])))"
      ]
    }
  ],
  "metadata": {
    "kernelspec": {
      "display_name": "Python 3.9.12 ('base')",
      "language": "python",
      "name": "python3"
    },
    "language_info": {
      "codemirror_mode": {
        "name": "ipython",
        "version": 3
      },
      "file_extension": ".py",
      "mimetype": "text/x-python",
      "name": "python",
      "nbconvert_exporter": "python",
      "pygments_lexer": "ipython3",
      "version": "3.9.12"
    },
    "vscode": {
      "interpreter": {
        "hash": "38cca0c38332a56087b24af0bc80247f4fced29cb4f7f437d91dc159adec9c4e"
      }
    }
  },
  "nbformat": 4,
  "nbformat_minor": 4
}
