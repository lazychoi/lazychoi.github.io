{
  "cells": [
    {
      "cell_type": "markdown",
      "metadata": {},
      "source": [
        "---\n",
        "title: 하샤드 수\n",
        "date: 2022/10/31\n",
        "date-modified: last-modified\n",
        "---"
      ]
    },
    {
      "cell_type": "markdown",
      "metadata": {},
      "source": [
        "## 접근 과정\n",
        "\n",
        "[https://school.programmers.co.kr/learn/courses/30/lessons/12947](https://school.programmers.co.kr/learn/courses/30/lessons/12947)\n",
        "\n",
        "1. 숫자를 문자열로 변환하면 리스트로 바뀐다.\n",
        "2. 리스트 내의 문자형 숫자를 다시 숫자로 바꾼 뒤 sum() -> divisor\n",
        "3. 원래 숫자를 나누어 떨어지면 true 반환하고 그렇지 않으면 false 반환"
      ]
    },
    {
      "cell_type": "code",
      "execution_count": 1,
      "metadata": {},
      "outputs": [
        {
          "data": {
            "text/plain": [
              "False"
            ]
          },
          "execution_count": 1,
          "metadata": {},
          "output_type": "execute_result"
        }
      ],
      "source": [
        "x = 13\n",
        "divisor = sum([int(i) for i in str(x)])\n",
        "if x % divisor == 0:\n",
        "    answer = True\n",
        "else:\n",
        "    answer = False\n",
        "\n",
        "answer"
      ]
    },
    {
      "cell_type": "markdown",
      "metadata": {},
      "source": [
        "## 다른 사람 코드\n",
        "\n",
        "answer에 bool을 담을 필요 없이 바로 조건문을 리턴하면 코드를 줄일 수 있구나"
      ]
    },
    {
      "cell_type": "code",
      "execution_count": 2,
      "metadata": {},
      "outputs": [
        {
          "data": {
            "text/plain": [
              "False"
            ]
          },
          "execution_count": 2,
          "metadata": {},
          "output_type": "execute_result"
        }
      ],
      "source": [
        "x = 13\n",
        "divisor = sum([int(i) for i in str(x)])\n",
        "x % divisor == 0"
      ]
    }
  ],
  "metadata": {
    "kernelspec": {
      "display_name": "Python 3.9.12 ('base')",
      "language": "python",
      "name": "python3"
    },
    "language_info": {
      "codemirror_mode": {
        "name": "ipython",
        "version": 3
      },
      "file_extension": ".py",
      "mimetype": "text/x-python",
      "name": "python",
      "nbconvert_exporter": "python",
      "pygments_lexer": "ipython3",
      "version": "3.9.12"
    },
    "vscode": {
      "interpreter": {
        "hash": "38cca0c38332a56087b24af0bc80247f4fced29cb4f7f437d91dc159adec9c4e"
      }
    }
  },
  "nbformat": 4,
  "nbformat_minor": 4
}
