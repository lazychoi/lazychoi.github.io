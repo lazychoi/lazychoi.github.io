{
  "cells": [
    {
      "cell_type": "markdown",
      "metadata": {},
      "source": [
        "---\n",
        "title: 완주하지 못한 선수\n",
        "date: 2022/11/03\n",
        "updated: last-modified\n",
        "---"
      ]
    },
    {
      "cell_type": "markdown",
      "metadata": {},
      "source": [
        "## 접근 과정\n",
        "\n",
        "1. 미완주자가 한 명이니 한 명 이름만 반환한다.\n",
        "1. in 연산자를 쓰면 될 것 같은데 동명이인이 걸린다.\n",
        "1. 참가자 명단의 동명이인 수와 완주자 명단의 수가 일치하지 않으면 그 만큼은 완주하지 못한 것 \n",
        "1. 참가자명단.count(이름) != 완주자명단.count(이름)일 경우 그 이름을 반환 -> **시간 초과로 실패**\n",
        "1. 완주자 이름을 for로 돌려 참가자 명단에서 삭제. 삭제 안 된 사람을 출력한다. -> **시간 초과로 실패**\n",
        "\n",
        "[https://school.programmers.co.kr/learn/courses/30/lessons/42576](https://school.programmers.co.kr/learn/courses/30/lessons/42576)\n"
      ]
    },
    {
      "cell_type": "code",
      "execution_count": 1,
      "metadata": {},
      "outputs": [
        {
          "name": "stdout",
          "output_type": "stream",
          "text": [
            "kiki\n"
          ]
        }
      ],
      "source": [
        "# 시간 초과로 실패\n",
        "p = [\"eden\", \"kiki\", \"kiki\"]\n",
        "c = [\"eden\", \"kiki\"]\n",
        "\n",
        "for person in c:\n",
        "    if person in p:\n",
        "        p.remove(person)\n",
        "print(p.pop())"
      ]
    },
    {
      "cell_type": "code",
      "execution_count": 2,
      "metadata": {},
      "outputs": [
        {
          "name": "stdout",
          "output_type": "stream",
          "text": [
            "leo\n"
          ]
        }
      ],
      "source": [
        "# 시간 초과로 실패\n",
        "p = [\"leo\", \"kiki\", \"eden\"]\n",
        "c = [\"eden\", \"kiki\"]\n",
        "\n",
        "for person in p:\n",
        "    if c.count(person) != p.count(person):\n",
        "        print(person)"
      ]
    },
    {
      "cell_type": "markdown",
      "metadata": {},
      "source": [
        "1. 리스트를 정렬하고\n",
        "1. for문을 len(participant) - 1까지 반복한다. 왜냐하면, completion의 크기가 1 작으니 참가자 마지막 요소 앞까지만 비교한다.\n",
        "1. 인덱스가 같은데 값이 다르면 미완주자다. 여기서 break를 넣거나 return 하여 더 이상 반복하지 않도록 한다. 그렇지 않으면 뒤의 값으로 대체된다.\n",
        "1. 모든 인덱스가 같으면 참가자명단에서 비교하지 않고 남은 맨 마지막 요소가 미완주자가 된다."
      ]
    },
    {
      "cell_type": "code",
      "execution_count": 3,
      "metadata": {},
      "outputs": [
        {
          "name": "stdout",
          "output_type": "stream",
          "text": [
            "a\n"
          ]
        }
      ],
      "source": [
        "p = [\"a\", \"kiki\", \"eden\",  'hoa', \"kiki\", \"kiki\"]\n",
        "c = [\"kiki\", \"eden\", \"kiki\", \"kiki\", 'hoa']\n",
        "\n",
        "p.sort()\n",
        "c.sort()\n",
        "\n",
        "answer = ''\n",
        "for i in range(len(p) -1 ):\n",
        "    if p[i] != c[i]:\n",
        "        answer = p[i]\n",
        "        break\n",
        "if answer == '':\n",
        "    print(p[-1])\n",
        "else:\n",
        "    print(answer)\n",
        "\n",
        "# 함수로 만들면 조금 더 간단하다\n",
        "def solution(p, c):\n",
        "    p.sort()\n",
        "    c.sort()\n",
        "    answer = ''\n",
        "    for i in range(len(p) -1):\n",
        "        if p[i] != c[i]:\n",
        "            return p[i]\n",
        "    return p[-1]"
      ]
    },
    {
      "cell_type": "markdown",
      "metadata": {},
      "source": [
        "## 다른 사람 코드\n",
        "\n",
        "위의 count 함수를 쓴 것과 알고리즘은 같다. 다른 점은 collections 객체의 Counter() 메서드를 쓰면 속도가 빠른가 보다. 그리고 for문을 돌리지 않아도 된다. 기억해 두자. 언젠가 쓸지도 모르니."
      ]
    },
    {
      "cell_type": "code",
      "execution_count": 4,
      "metadata": {},
      "outputs": [
        {
          "name": "stdout",
          "output_type": "stream",
          "text": [
            "a\n",
            "Counter({'a': 1})\n"
          ]
        }
      ],
      "source": [
        "import collections\n",
        "\n",
        "answer = collections.Counter(p) - collections.Counter(c)\n",
        "print(list(answer.keys())[0])\n",
        "\n",
        "print(answer) # Counter() 반환값은 dict. 키에 해당하는 문자를 모르니 리스트로 변환해서 첫 번째 요소를 출력함"
      ]
    }
  ],
  "metadata": {
    "kernelspec": {
      "display_name": "Python 3.9.12 ('base')",
      "language": "python",
      "name": "python3"
    },
    "language_info": {
      "codemirror_mode": {
        "name": "ipython",
        "version": 3
      },
      "file_extension": ".py",
      "mimetype": "text/x-python",
      "name": "python",
      "nbconvert_exporter": "python",
      "pygments_lexer": "ipython3",
      "version": "3.9.12"
    },
    "vscode": {
      "interpreter": {
        "hash": "38cca0c38332a56087b24af0bc80247f4fced29cb4f7f437d91dc159adec9c4e"
      }
    }
  },
  "nbformat": 4,
  "nbformat_minor": 4
}
