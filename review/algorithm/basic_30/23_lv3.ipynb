{
  "cells": [
    {
      "cell_type": "markdown",
      "metadata": {},
      "source": [
        "---\n",
        "title: 모의고사\n",
        "date: 2022/11/02\n",
        "updated: last-modified\n",
        "---"
      ]
    },
    {
      "cell_type": "markdown",
      "metadata": {},
      "source": [
        "## 접근 과정\n",
        "\n",
        "1. answer 크기 만큼 반복하며\n",
        "1. 1번 학생은 1부터 5까지 차례로 응답 리스트에 입력 -> 5로 나눈 나머지를 응답에 입력하되 0일 경우는 5 입력\n",
        "1. 2번 학생은 홀수번째는 2로 고정되고 나머지는 1, 3, 4, 5가 차례대로 응답 리스트에 입력\n",
        "    1. [1, 3, 4, 5]를 리스트에 거꾸로 담아 [5, 4, 3, 1]\n",
        "    1. 짝수일 때마다 pop()\n",
        "    1. 리스트가 비면 다시 채운 후 pop()\n",
        "1. 3번 학생은 3, 1, 2, 4, 5가 두개씩 차례대로 응답 리스트에 입력\n",
        "    1. 정답 변수를 2로 나눈 횟수만큼 반복하며\n",
        "    1. 응답 변수.extend() 함수 이용해 두 개씩 추가\n",
        "    1. 최종 정답 변수 개수가 응답 변수보다 크면 응답[:-1]\n",
        "1. 점수 = 정답과 응답을 비교하여 같은 개수만큼 점수 +1\n",
        "1. 가장 높은 점수를 받은 사람들을 배열에 담기 -> 점수를 리스트로 묶고 최댓값과 같은 점수의 인덱스 + 1을 출력 변수에 넣기 \n",
        "\n",
        "https://school.programmers.co.kr/learn/courses/30/lessons/42840"
      ]
    },
    {
      "cell_type": "code",
      "execution_count": 1,
      "metadata": {},
      "outputs": [
        {
          "data": {
            "text/plain": [
              "[1]"
            ]
          },
          "execution_count": 1,
          "metadata": {},
          "output_type": "execute_result"
        }
      ],
      "source": [
        "answers = [1,2,3,4,5]\n",
        "\n",
        "rng = len(answers)\n",
        "student1 = [ 5 if i % 5 == 0 else i % 5 for i in range(1, rng + 1)]\n",
        "student2 = []\n",
        "student3 = []\n",
        "\n",
        "# 스택 활용\n",
        "num2 = [5, 4, 3, 1]\n",
        "for i in range(1, rng + 1):\n",
        "    if i % 2 == 1:\n",
        "        student2.append(2)\n",
        "    elif len(num2) == 0:\n",
        "        num2 = [5, 4, 3, 1]\n",
        "        student2.append(num2.pop())\n",
        "    else: \n",
        "        student2.append(num2.pop())\n",
        "\n",
        "num3 = [5, 4, 2, 1, 3]\n",
        "for i in range(1, rng+1, 2):\n",
        "    if len(num3) == 0:\n",
        "        num3 = [5, 4, 2, 1, 3]\n",
        "        tmp = num3.pop()\n",
        "        student3.append(tmp)\n",
        "        student3.append(tmp)\n",
        "    else:\n",
        "        tmp = num3.pop()\n",
        "        student3.append(tmp)\n",
        "        student3.append(tmp)\n",
        "\n",
        "if len(student3) > rng:\n",
        "    student3 = student3[:-1]\n",
        "\n",
        "result1, result2, result3 = 0, 0, 0\n",
        "for i in range(rng):\n",
        "    if answers[i] == student1[i]:\n",
        "        result1 += 1\n",
        "    if answers[i] == student2[i]:\n",
        "        result2 += 1\n",
        "    if answers[i] == student3[i]:\n",
        "        result3 += 1\n",
        "# 최댓값과 같은 값이 있는지 확인\n",
        "# 최댓값 인덱스\n",
        "scores = [result1, result2, result3]\n",
        "max_index = [i + 1 for i, v in enumerate(scores) if v == max(scores)]\n",
        "max_index"
      ]
    },
    {
      "cell_type": "markdown",
      "metadata": {},
      "source": [
        "## 다른 사람 풀이\n",
        "\n",
        "1. 반복 패턴의 첫 패턴만 변수에 담는다.\n",
        "1. enumerate() 함수로 인덱스와 값을 각각 변수에 담아 정답과 응답을 비교한다.\n",
        "1. 패턴을 반복해서 입력하는 방법은 인덱스 번호를 패턴 크기로 나눈 나머지를 패턴 변수의 인덱스로 사용하는 것이다. 0 % 5 = 0, 1 $ 5 = 1, ...., 4 % 5 = 4, 5 % 5 = 0, ...\n",
        "1. 점수 리스트도 enumerate() 함수를 이용해 값이 점수 리스트의 최댓값과 같으먼 인덱스를 최종 변수에 추가"
      ]
    },
    {
      "cell_type": "code",
      "execution_count": 2,
      "metadata": {},
      "outputs": [],
      "source": [
        "pattern1 = [1,2,3,4,5]\n",
        "pattern2 = [2,1,2,3,2,4,2,5]\n",
        "pattern3 = [3,3,1,1,2,2,4,4,5,5]\n",
        "score = [0, 0, 0]\n",
        "result = []\n",
        "\n",
        "for idx, answer in enumerate(answers):\n",
        "    if answer == pattern1[idx % len(pattern1)]:\n",
        "        score[0] += 1\n",
        "    if answer == pattern2[idx % len(pattern2)]:\n",
        "        score[1] += 1\n",
        "    if answer == pattern3[idx % len(pattern3)]:\n",
        "        score[2] += 1\n",
        "\n",
        "for idx, s in enumerate(score):\n",
        "    if s == max(score):\n",
        "        result.append(idx+1)"
      ]
    },
    {
      "cell_type": "code",
      "execution_count": 3,
      "metadata": {},
      "outputs": [
        {
          "data": {
            "text/plain": [
              "(0, 1, 2, 3, 4, 0, 1, 2)"
            ]
          },
          "execution_count": 3,
          "metadata": {},
          "output_type": "execute_result"
        }
      ],
      "source": [
        "0 % 5, 1 % 5, 2 % 5, 3 % 5, 4 % 5, 5 % 5, 6 % 5, 7 % 5"
      ]
    }
  ],
  "metadata": {
    "kernelspec": {
      "display_name": "Python 3.9.12 ('base')",
      "language": "python",
      "name": "python3"
    },
    "language_info": {
      "codemirror_mode": {
        "name": "ipython",
        "version": 3
      },
      "file_extension": ".py",
      "mimetype": "text/x-python",
      "name": "python",
      "nbconvert_exporter": "python",
      "pygments_lexer": "ipython3",
      "version": "3.9.12"
    },
    "vscode": {
      "interpreter": {
        "hash": "38cca0c38332a56087b24af0bc80247f4fced29cb4f7f437d91dc159adec9c4e"
      }
    }
  },
  "nbformat": 4,
  "nbformat_minor": 4
}
