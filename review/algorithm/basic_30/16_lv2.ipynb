{
 "cells": [
  {
   "cell_type": "markdown",
   "metadata": {},
   "source": [
    "---\n",
    "title: 문자열 다루기 기본\n",
    "date: 2022-10-30\n",
    "updated: last-modified\n",
    "---"
   ]
  },
  {
   "cell_type": "markdown",
   "metadata": {},
   "source": [
    "# 문자열 다루기 기본\n",
    "\n",
    "## 접근 과정\n",
    "\n",
    "[문제 링크 https://school.programmers.co.kr/learn/courses/30/lessons/12918](https://school.programmers.co.kr/learn/courses/30/lessons/12918)\n",
    "\n",
    "1. ord('0') = 48, ord('9') = 57 이용한다. \n",
    "2. 첫 번째에 0이 와 3자리 숫자가 되는 경우는 모두 문자 취급하기 때문에 고려할 필요 없다.\n",
    "3. 48에서 57 사이의 값이 나오면 True 반환하는 리스트를 만들다.\n",
    "4. True는 1과 같기 때문에 sum()을 해서 4나 6이 나오면 True를 반환한다.\n",
    "\n",
    "### 틀린 이유\n",
    "\n",
    "3, 4번에서 True만 반환하여 더하기 때문에 틀린 게 있어도 True 개수만 4개나 6개면 조건에 맞는 것으로 잘못 생각했다. 만약 'a1234'가 주어지면 a가 False인데도 [True, True, True, True]가 되어 True를 반환한다. \n",
    "\n",
    "### 바꾼 것\n",
    "\n",
    "- 3번에 False도 리스트에 추가되도록 변경했다.\n",
    "- 4번 조건문에 False not in a 추가하여 False가 있는 리스트를 걸러내도록 했다.\n"
   ]
  },
  {
   "cell_type": "code",
   "execution_count": 99,
   "metadata": {},
   "outputs": [
    {
     "name": "stdout",
     "output_type": "stream",
     "text": [
      "[False, True, False, True, True, False, False, True]\n"
     ]
    },
    {
     "data": {
      "text/plain": [
       "False"
      ]
     },
     "execution_count": 99,
     "metadata": {},
     "output_type": "execute_result"
    }
   ],
   "source": [
    "s = \"-4.01E-2\"\n",
    "answer = False\n",
    "\n",
    "a = [ True if ord(i) > 47 and ord(i) < 58 else False for i in s]\n",
    "\n",
    "print(a)\n",
    "if False not in a and sum(a) == 4 or sum(a) == 6:\n",
    "    answer = True\n",
    "answer"
   ]
  },
  {
   "cell_type": "markdown",
   "metadata": {},
   "source": [
    "## 다른 사람 풀이 보고 배운 것\n",
    "\n",
    "리스트의 isdigit() 함수를 써서 코드를 한 줄로 구현했다."
   ]
  },
  {
   "cell_type": "code",
   "execution_count": 100,
   "metadata": {},
   "outputs": [
    {
     "data": {
      "text/plain": [
       "False"
      ]
     },
     "execution_count": 100,
     "metadata": {},
     "output_type": "execute_result"
    }
   ],
   "source": [
    "s.isdigit() and len(s) in (4, 6)"
   ]
  },
  {
   "cell_type": "markdown",
   "metadata": {},
   "source": [
    "정규표현식을 사용한 것도 인상적이다."
   ]
  },
  {
   "cell_type": "code",
   "execution_count": 101,
   "metadata": {},
   "outputs": [
    {
     "data": {
      "text/plain": [
       "False"
      ]
     },
     "execution_count": 101,
     "metadata": {},
     "output_type": "execute_result"
    }
   ],
   "source": [
    "import re\n",
    "bool(re.match(\"^(\\d{4}|\\d{6})$\", s))"
   ]
  }
 ],
 "metadata": {
  "kernelspec": {
   "display_name": "Python 3 (ipykernel)",
   "language": "python",
   "name": "python3"
  },
  "language_info": {
   "codemirror_mode": {
    "name": "ipython",
    "version": 3
   },
   "file_extension": ".py",
   "mimetype": "text/x-python",
   "name": "python",
   "nbconvert_exporter": "python",
   "pygments_lexer": "ipython3",
   "version": "3.9.12"
  },
  "vscode": {
   "interpreter": {
    "hash": "38cca0c38332a56087b24af0bc80247f4fced29cb4f7f437d91dc159adec9c4e"
   }
  }
 },
 "nbformat": 4,
 "nbformat_minor": 4
}
