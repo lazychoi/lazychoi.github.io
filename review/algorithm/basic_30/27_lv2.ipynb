{
 "cells": [
  {
   "cell_type": "raw",
   "metadata": {},
   "source": [
    "---\n",
    "title: 예산\n",
    "date: 2022/11/04\n",
    "updated: last-modified\n",
    "---"
   ]
  },
  {
   "cell_type": "markdown",
   "metadata": {},
   "source": [
    "[https://school.programmers.co.kr/learn/courses/30/lessons/12982](https://school.programmers.co.kr/learn/courses/30/lessons/12982)\n",
    "\n",
    "## 접근 과정\n",
    "\n",
    "1. 문제 요구 사항은 예산 범위 내에서 몇 개의 부서까지 지원할 수 있는지 계산하라는 것이다.\n",
    "1. 최대한 리스트 내 요소를 많이 뽑아 합치되 예산보다는 작아야 한다.\n",
    "1. 리스트를 오름차순으로 정렬한 후 앞에서부터 더해 예산을 넘기 전까지 개수를 구하면 되지 않을까?\n",
    "1. 반례는 뭐가 있을까? \n",
    "1. for문 - 범위 0번 인덱스부터 리스트 크기까지 지정하고\n",
    "1. 조건문으로 예산을 넘기지 않았으면 인덱스 번호까지 값을 누적한다.\n",
    "1. 예산을 넘겼으면 요소 개수를 의미하는 \"인덱스 번호 + 1\"을 반환한다. <- 실패했다. 왜냐면 합계가 최초로 예산을 넘긴 이후로도 끝까지 반복문이 계속되기 때문에 결국 마지막 인덱스가 반환된다.\n",
    "1. 그래서 합계가 예산이 넘게되면 더 이상 반복하지 않도록 break를 추가했다. **break** 없이 짤 수는 없을까?"
   ]
  },
  {
   "cell_type": "code",
   "execution_count": 34,
   "metadata": {},
   "outputs": [
    {
     "name": "stdout",
     "output_type": "stream",
     "text": [
      "CPU times: user 1 µs, sys: 1 µs, total: 2 µs\n",
      "Wall time: 2.86 µs\n",
      "누적값= 1 0 1\n",
      "누적값= 3 1 2\n",
      "누적값= 6 2 3\n",
      "누적값= 10 3 4\n",
      "누적값= 15 4 5\n"
     ]
    },
    {
     "data": {
      "text/plain": [
       "4"
      ]
     },
     "execution_count": 34,
     "metadata": {},
     "output_type": "execute_result"
    }
   ],
   "source": [
    "%time\n",
    "d = [1,3,2,5,4]\n",
    "budget = 10\n",
    "answer = 0\n",
    "cum = 0\n",
    "\n",
    "d.sort()\n",
    "for i in range(len(d)):\n",
    "    cum += d[i]\n",
    "    print('누적값=', cum, i, d[i])\n",
    "    if cum <= budget:\n",
    "        answer = i + 1\n",
    "    else:\n",
    "        break\n",
    "answer"
   ]
  },
  {
   "cell_type": "markdown",
   "metadata": {},
   "source": [
    "## 다른 사람 코드\n",
    "\n",
    "while문이 for보다 간단할 수도 있구나. 합계가 예산보다 작아질 때까지 pop으로 큰 숫자를 차례로 뽑아내는 걸 생각해내다니..."
   ]
  },
  {
   "cell_type": "code",
   "execution_count": 33,
   "metadata": {},
   "outputs": [
    {
     "name": "stdout",
     "output_type": "stream",
     "text": [
      "CPU times: user 1 µs, sys: 0 ns, total: 1 µs\n",
      "Wall time: 2.86 µs\n"
     ]
    },
    {
     "data": {
      "text/plain": [
       "4"
      ]
     },
     "execution_count": 33,
     "metadata": {},
     "output_type": "execute_result"
    }
   ],
   "source": [
    "%time\n",
    "def solution(d, budget):\n",
    "    d.sort()\n",
    "    while budget < sum(d):\n",
    "        d.pop()\n",
    "    return len(d)\n",
    "\n",
    "solution(d, budget)"
   ]
  }
 ],
 "metadata": {
  "kernelspec": {
   "display_name": "Python 3.9.12 ('base')",
   "language": "python",
   "name": "python3"
  },
  "language_info": {
   "codemirror_mode": {
    "name": "ipython",
    "version": 3
   },
   "file_extension": ".py",
   "mimetype": "text/x-python",
   "name": "python",
   "nbconvert_exporter": "python",
   "pygments_lexer": "ipython3",
   "version": "3.9.12"
  },
  "orig_nbformat": 4,
  "vscode": {
   "interpreter": {
    "hash": "38cca0c38332a56087b24af0bc80247f4fced29cb4f7f437d91dc159adec9c4e"
   }
  }
 },
 "nbformat": 4,
 "nbformat_minor": 2
}
