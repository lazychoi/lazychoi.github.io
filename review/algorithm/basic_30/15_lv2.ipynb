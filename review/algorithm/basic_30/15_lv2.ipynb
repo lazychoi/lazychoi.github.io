{
 "cells": [
  {
   "cell_type": "code",
   "execution_count": null,
   "metadata": {},
   "outputs": [],
   "source": [
    "---\n",
    "title: \"정수 제곱근 판별\"\n",
    "date: 2022-10-29\n",
    "format:\n",
    "    html:\n",
    "        code-fold: False\n",
    "---"
   ]
  },
  {
   "cell_type": "markdown",
   "metadata": {},
   "source": [
    "# 정수 제곱근 판별\n",
    "\n",
    "[문제 보기 https://school.programmers.co.kr/learn/courses/30/lessons/12934](https://school.programmers.co.kr/learn/courses/30/lessons/12934)"
   ]
  },
  {
   "cell_type": "code",
   "execution_count": 27,
   "metadata": {},
   "outputs": [
    {
     "data": {
      "text/plain": [
       "-1"
      ]
     },
     "execution_count": 27,
     "metadata": {},
     "output_type": "execute_result"
    }
   ],
   "source": [
    "# 제곱근이 정수인지 아닌지 판단해야 하는데\n",
    "# 파이썬에서는 나누셈의 반환값은 무조건 실수형이다.\n",
    "# 그래서 소숫점 아래 값이 있는 수와 없는 수를 구분하여 소숫점이 없는 수만 골라내야 한다.\n",
    "# 생각한 방법은 소숫점 이하를 반올림한 수와 원래 수가 일치하는 것만 정수로 판단하는 것이다.\n",
    "\n",
    "n = 3\n",
    "a = n**(1/2)\n",
    "\n",
    "if a > 0 and a == round(a):\n",
    "    answer = (a + 1) ** 2\n",
    "else:\n",
    "    answer = -1\n",
    "\n",
    "answer"
   ]
  },
  {
   "cell_type": "code",
   "execution_count": 31,
   "metadata": {},
   "outputs": [
    {
     "data": {
      "text/plain": [
       "144.0"
      ]
     },
     "execution_count": 31,
     "metadata": {},
     "output_type": "execute_result"
    }
   ],
   "source": [
    "# 다른 사람 풀이 \n",
    "# 정수 여부 판단 방법은 1로 나눈 나머지가 0인지 판단하는 것\n",
    "\n",
    "n = 121\n",
    "sqrt = n**.5\n",
    "if sqrt % 1 == 0:\n",
    "    answer = (sqrt + 1)**2\n",
    "answer"
   ]
  }
 ],
 "metadata": {
  "kernelspec": {
   "display_name": "Python 3 (ipykernel)",
   "language": "python",
   "name": "python3"
  },
  "language_info": {
   "codemirror_mode": {
    "name": "ipython",
    "version": 3
   },
   "file_extension": ".py",
   "mimetype": "text/x-python",
   "name": "python",
   "nbconvert_exporter": "python",
   "pygments_lexer": "ipython3",
   "version": "3.9.12"
  },
  "vscode": {
   "interpreter": {
    "hash": "b0fa6594d8f4cbf19f97940f81e996739fb7646882a419484c72d19e05852a7e"
   }
  }
 },
 "nbformat": 4,
 "nbformat_minor": 4
}
