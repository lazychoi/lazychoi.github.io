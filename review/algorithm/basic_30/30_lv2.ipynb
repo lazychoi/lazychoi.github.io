{
 "cells": [
  {
   "cell_type": "raw",
   "id": "c92bb16b",
   "metadata": {},
   "source": [
    "---\n",
    "title: 비밀지도\n",
    "date: 2022/11/06\n",
    "date-modified: last-modified\n",
    "---"
   ]
  },
  {
   "cell_type": "markdown",
   "id": "f1d5f265",
   "metadata": {},
   "source": [
    "[https://school.programmers.co.kr/learn/courses/30/lessons/17681](https://school.programmers.co.kr/learn/courses/30/lessons/17681)\n",
    "\n",
    "### 접근 과정\n",
    "\n",
    "1. 일단 십진수를 이진수로 바꾸는 함수를 찾아보자. 자리수에 맞추어 빈 곳은 0으로 채우기도 해야 한다."
   ]
  },
  {
   "cell_type": "code",
   "execution_count": 27,
   "id": "7195581a",
   "metadata": {},
   "outputs": [
    {
     "data": {
      "text/plain": [
       "([['0', '1', '0', '0', '1'],\n",
       "  ['1', '0', '1', '0', '0'],\n",
       "  ['1', '1', '1', '0', '0'],\n",
       "  ['1', '0', '0', '1', '0'],\n",
       "  ['0', '1', '0', '1', '1']],\n",
       " [['1', '1', '1', '1', '0'],\n",
       "  ['0', '0', '0', '0', '1'],\n",
       "  ['1', '0', '1', '0', '1'],\n",
       "  ['1', '0', '0', '0', '1'],\n",
       "  ['1', '1', '1', '0', '0']])"
      ]
     },
     "execution_count": 27,
     "metadata": {},
     "output_type": "execute_result"
    }
   ],
   "source": [
    "n = 5\n",
    "arr1 = [9, 20, 28, 18, 11]\n",
    "arr2 = [30, 1, 21, 17, 28]\n",
    "\n",
    "a1 = [list(format(i, 'b').zfill(n)) for i in arr1]\n",
    "a2 = [list(format(i, 'b').zfill(n)) for i in arr2]\n",
    "a1, a2"
   ]
  },
  {
   "cell_type": "markdown",
   "id": "4035c961",
   "metadata": {},
   "source": [
    "2. 이진수로 변환한 배열의 각 원소를 돌며 | 비트연산을 해서 참이면 #을 거짓이면 ''을 새 배열에 반환한다."
   ]
  },
  {
   "cell_type": "code",
   "execution_count": 46,
   "id": "6245d141",
   "metadata": {},
   "outputs": [
    {
     "data": {
      "text/plain": [
       "['#####', '# # #', '### #', '#  ##', '#####']"
      ]
     },
     "execution_count": 46,
     "metadata": {},
     "output_type": "execute_result"
    }
   ],
   "source": [
    "result = [ [' '] * n for _ in range(n)]\n",
    "for i in range(n):\n",
    "    for j in range(n):\n",
    "        if int(a1[i][j]) | int(a2[i][j]):\n",
    "            result[i][j] = '#'\n",
    "\n",
    "for i in range(len(result)):\n",
    "    result[i] = ''.join(result[i])\n",
    "\n",
    "result"
   ]
  },
  {
   "cell_type": "code",
   "execution_count": 43,
   "id": "ee6c1dd8",
   "metadata": {},
   "outputs": [
    {
     "data": {
      "text/plain": [
       "'# # #'"
      ]
     },
     "execution_count": 43,
     "metadata": {},
     "output_type": "execute_result"
    }
   ],
   "source": [
    "''.join(result[1])"
   ]
  },
  {
   "cell_type": "markdown",
   "id": "46f1dbea",
   "metadata": {},
   "source": [
    "### 제출 코드"
   ]
  },
  {
   "cell_type": "code",
   "execution_count": 49,
   "id": "ca05dbf4",
   "metadata": {},
   "outputs": [],
   "source": [
    "def solution(n, arr1, arr2):\n",
    "    \n",
    "    a1 = [list(format(i, 'b').zfill(n)) for i in arr1]\n",
    "    a2 = [list(format(i, 'b').zfill(n)) for i in arr2]\n",
    "    \n",
    "    result = [ [' '] * n for _ in range(n)]\n",
    "    for i in range(n):\n",
    "        for j in range(n):\n",
    "            if int(a1[i][j]) | int(a2[i][j]):\n",
    "                result[i][j] = '#'\n",
    "\n",
    "    for i in range(len(result)):\n",
    "        result[i] = ''.join(result[i])\n",
    "\n",
    "    return result"
   ]
  },
  {
   "cell_type": "code",
   "execution_count": 50,
   "id": "d1b05a70",
   "metadata": {},
   "outputs": [
    {
     "data": {
      "text/plain": [
       "['######', '###  #', '##  ##', ' #### ', ' #####', '### # ']"
      ]
     },
     "execution_count": 50,
     "metadata": {},
     "output_type": "execute_result"
    }
   ],
   "source": [
    "solution(6, [46, 33, 33 ,22, 31, 50], [27 ,56, 19, 14, 14, 10])"
   ]
  },
  {
   "cell_type": "markdown",
   "id": "dcecc459",
   "metadata": {},
   "source": [
    "### 다른 사람 코드\n",
    "\n",
    "- 두 배열을 zip으로 묶은 뒤 각각을 변수로 받음\n",
    "- 비트연산은 십진수나 이진수나 결과가 같다.\n",
    "- bin() 반환값은 앞에 0b가 붙어 이걸 제외하기 위해 2부터 슬라이싱한다.\n",
    "- rjust()는 오른쪽 정렬하고 남는 자릿수는 0으로 채운다\n",
    "- 1은 #으로 0은 공백으로 바꾼다."
   ]
  },
  {
   "cell_type": "code",
   "execution_count": 51,
   "id": "a28e7ee2",
   "metadata": {},
   "outputs": [],
   "source": [
    "def solution(n, arr1, arr2):\n",
    "    answer = []\n",
    "    for i,j in zip(arr1,arr2):\n",
    "        a12 = str(bin(i|j)[2:])\n",
    "        a12 = a12.rjust(n,'0')\n",
    "        a12 = a12.replace('1','#')\n",
    "        a12 = a12.replace('0',' ')\n",
    "        answer.append(a12)\n",
    "    return answer"
   ]
  },
  {
   "cell_type": "code",
   "execution_count": 53,
   "id": "503c15d2",
   "metadata": {},
   "outputs": [
    {
     "data": {
      "text/plain": [
       "['######', '###  #', '##  ##', ' #### ', ' #####', '### # ']"
      ]
     },
     "execution_count": 53,
     "metadata": {},
     "output_type": "execute_result"
    }
   ],
   "source": [
    "solution(6, [46, 33, 33 ,22, 31, 50], [27 ,56, 19, 14, 14, 10])"
   ]
  },
  {
   "cell_type": "code",
   "execution_count": 57,
   "id": "63d289fd",
   "metadata": {},
   "outputs": [
    {
     "data": {
      "text/plain": [
       "(63, '0b111111', '0b111111')"
      ]
     },
     "execution_count": 57,
     "metadata": {},
     "output_type": "execute_result"
    }
   ],
   "source": [
    "46 | 27, bin(46 | 27), bin(63)"
   ]
  }
 ],
 "metadata": {
  "kernelspec": {
   "display_name": "Python 3 (ipykernel)",
   "language": "python",
   "name": "python3"
  },
  "language_info": {
   "codemirror_mode": {
    "name": "ipython",
    "version": 3
   },
   "file_extension": ".py",
   "mimetype": "text/x-python",
   "name": "python",
   "nbconvert_exporter": "python",
   "pygments_lexer": "ipython3",
   "version": "3.9.12"
  },
  "toc": {
   "base_numbering": 1,
   "nav_menu": {},
   "number_sections": true,
   "sideBar": true,
   "skip_h1_title": false,
   "title_cell": "Table of Contents",
   "title_sidebar": "Contents",
   "toc_cell": false,
   "toc_position": {},
   "toc_section_display": true,
   "toc_window_display": true
  },
  "varInspector": {
   "cols": {
    "lenName": 16,
    "lenType": 16,
    "lenVar": 40
   },
   "kernels_config": {
    "python": {
     "delete_cmd_postfix": "",
     "delete_cmd_prefix": "del ",
     "library": "var_list.py",
     "varRefreshCmd": "print(var_dic_list())"
    },
    "r": {
     "delete_cmd_postfix": ") ",
     "delete_cmd_prefix": "rm(",
     "library": "var_list.r",
     "varRefreshCmd": "cat(var_dic_list()) "
    }
   },
   "types_to_exclude": [
    "module",
    "function",
    "builtin_function_or_method",
    "instance",
    "_Feature"
   ],
   "window_display": false
  }
 },
 "nbformat": 4,
 "nbformat_minor": 5
}
