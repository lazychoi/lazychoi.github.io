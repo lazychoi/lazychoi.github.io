{
 "cells": [
  {
   "cell_type": "raw",
   "id": "ac8e868d",
   "metadata": {},
   "source": [
    "---\n",
    "title: 시저 암호\n",
    "date: 2022/11/05\n",
    "date-modified: last-modified\n",
    "---"
   ]
  },
  {
   "cell_type": "markdown",
   "id": "98363d71",
   "metadata": {},
   "source": [
    "[https://school.programmers.co.kr/learn/courses/30/lessons/12926](https://school.programmers.co.kr/learn/courses/30/lessons/12926)\n",
    "\n",
    "## 접근 과정\n",
    "\n",
    "1. 알파벳 소문자 변수(l), 알파벳 대문자 변수(u)\n",
    "1. 문자열의 각 인덱스에 해당하는 문자의 l or u 변수의 위치를 찾는다. 리스트.index()\n",
    "1. 거리를 찾은 인덱스에 더하여 그곳의 문자를 반환한다.\n",
    "\n",
    "소문자 변수와 대문자 변수의 끝 인덱스에서 0번 인덱스로 가게하는 방법은?\n",
    "\n",
    "1. n > (변수 길이 26 - 문자의 인덱스) -> 변수인덱스[변수 길이 26 - 문자 인덱스]"
   ]
  },
  {
   "cell_type": "code",
   "execution_count": 71,
   "id": "214b1115",
   "metadata": {},
   "outputs": [],
   "source": [
    "def solution(s, n):\n",
    "    answer = ''\n",
    "    \n",
    "    l = [chr(i) for i in range(97, 97+26)]\n",
    "    u = [chr(i) for i in range(65, 65+26)]\n",
    "    \n",
    "    for i in list(s):\n",
    "        print('i', i)\n",
    "        if i.isspace() == True:\n",
    "            answer += ' '\n",
    "            print('if_1', answer)\n",
    "        elif i.islower() == True:\n",
    "            if n > (len(l) - l.index(i) -1 ):\n",
    "                answer += l[n - (len(l) - l.index(i))]\n",
    "            else: \n",
    "                answer += l[l.index(i) + n]\n",
    "            print('if_2', answer)\n",
    "        else:\n",
    "            if n > (len(u) - u.index(i) -1 ):\n",
    "                answer += u[n - (len(u) - u.index(i))]\n",
    "            else: \n",
    "                answer += u[u.index(i) + n]\n",
    "            print('if_3', answer)\n",
    "\n",
    "    return answer"
   ]
  },
  {
   "cell_type": "code",
   "execution_count": 72,
   "id": "b44af1a9",
   "metadata": {},
   "outputs": [
    {
     "name": "stdout",
     "output_type": "stream",
     "text": [
      "i a\n",
      "if_2 e\n",
      "i  \n",
      "if_1 e \n",
      "i B\n",
      "if_3 e F\n",
      "i  \n",
      "if_1 e F \n",
      "i z\n",
      "if_2 e F d\n"
     ]
    },
    {
     "data": {
      "text/plain": [
       "'e F d'"
      ]
     },
     "execution_count": 72,
     "metadata": {},
     "output_type": "execute_result"
    }
   ],
   "source": [
    "solution('a B z', 4)"
   ]
  },
  {
   "cell_type": "code",
   "execution_count": 73,
   "id": "f7c600f6",
   "metadata": {},
   "outputs": [
    {
     "name": "stdout",
     "output_type": "stream",
     "text": [
      "i A\n",
      "if_3 B\n",
      "i B\n",
      "if_3 BC\n"
     ]
    },
    {
     "data": {
      "text/plain": [
       "'BC'"
      ]
     },
     "execution_count": 73,
     "metadata": {},
     "output_type": "execute_result"
    }
   ],
   "source": [
    "solution('AB', 1)"
   ]
  },
  {
   "cell_type": "code",
   "execution_count": 74,
   "id": "ed52958a",
   "metadata": {
    "scrolled": true
   },
   "outputs": [
    {
     "name": "stdout",
     "output_type": "stream",
     "text": [
      "i z\n",
      "if_2 a\n"
     ]
    },
    {
     "data": {
      "text/plain": [
       "'a'"
      ]
     },
     "execution_count": 74,
     "metadata": {},
     "output_type": "execute_result"
    }
   ],
   "source": [
    "solution('z', 1)"
   ]
  },
  {
   "cell_type": "markdown",
   "id": "046699ed",
   "metadata": {},
   "source": [
    "## 다른 사람 코드\n",
    "\n",
    "- 문자열을 리스트로 변환한 뒤 반환할 때 다시 문자열로 변환한다. 공백은 처리하지 않아도 됨\n",
    "- ord(문자) -> 아스키코드\n",
    "- ord(문자) - ord('A') -> 'A'부터 거리 -> +n -> 'A'부터의 총 거리 -> % 26 -> 맨 앞으로 돌아감 + ord('A')\n",
    "- chr(아스키코드) -> 문자열"
   ]
  },
  {
   "cell_type": "code",
   "execution_count": 76,
   "id": "9d62341c",
   "metadata": {},
   "outputs": [
    {
     "data": {
      "text/plain": [
       "'e F d'"
      ]
     },
     "execution_count": 76,
     "metadata": {},
     "output_type": "execute_result"
    }
   ],
   "source": [
    "def caesar(s, n):\n",
    "    s = list(s) # 문자열을 리스트로 변환하여 공백은 처리하지 않음\n",
    "    for i in range(len(s)):\n",
    "        if s[i].isupper():\n",
    "            s[i] = chr((ord(s[i]) - ord('A') + n) % 26 + ord('A'))\n",
    "        elif s[i].islower():\n",
    "            s[i] = chr((ord(s[i]) - ord('a') + n) % 26 + ord('a'))\n",
    "\n",
    "    return \"\".join(s)  # 리스트를 문자열로 변환\n",
    "\n",
    "caesar('a B z', 4)"
   ]
  },
  {
   "cell_type": "code",
   "execution_count": 77,
   "id": "c3ce6fdb",
   "metadata": {},
   "outputs": [
    {
     "data": {
      "text/plain": [
       "97"
      ]
     },
     "execution_count": 77,
     "metadata": {},
     "output_type": "execute_result"
    }
   ],
   "source": [
    "ord('a')"
   ]
  }
 ],
 "metadata": {
  "kernelspec": {
   "display_name": "Python 3 (ipykernel)",
   "language": "python",
   "name": "python3"
  },
  "language_info": {
   "codemirror_mode": {
    "name": "ipython",
    "version": 3
   },
   "file_extension": ".py",
   "mimetype": "text/x-python",
   "name": "python",
   "nbconvert_exporter": "python",
   "pygments_lexer": "ipython3",
   "version": "3.9.12"
  },
  "toc": {
   "base_numbering": 1,
   "nav_menu": {},
   "number_sections": true,
   "sideBar": true,
   "skip_h1_title": false,
   "title_cell": "Table of Contents",
   "title_sidebar": "Contents",
   "toc_cell": false,
   "toc_position": {
    "height": "calc(100% - 180px)",
    "left": "10px",
    "top": "150px",
    "width": "165px"
   },
   "toc_section_display": true,
   "toc_window_display": true
  },
  "varInspector": {
   "cols": {
    "lenName": 16,
    "lenType": 16,
    "lenVar": 40
   },
   "kernels_config": {
    "python": {
     "delete_cmd_postfix": "",
     "delete_cmd_prefix": "del ",
     "library": "var_list.py",
     "varRefreshCmd": "print(var_dic_list())"
    },
    "r": {
     "delete_cmd_postfix": ") ",
     "delete_cmd_prefix": "rm(",
     "library": "var_list.r",
     "varRefreshCmd": "cat(var_dic_list()) "
    }
   },
   "types_to_exclude": [
    "module",
    "function",
    "builtin_function_or_method",
    "instance",
    "_Feature"
   ],
   "window_display": false
  }
 },
 "nbformat": 4,
 "nbformat_minor": 5
}
