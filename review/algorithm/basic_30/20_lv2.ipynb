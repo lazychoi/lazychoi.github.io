{
  "cells": [
    {
      "cell_type": "markdown",
      "metadata": {},
      "source": [
        "---\n",
        "title: K 번째 수\n",
        "date: 2022/10/31\n",
        "date-modified: last-modified\n",
        "---"
      ]
    },
    {
      "cell_type": "markdown",
      "metadata": {},
      "source": [
        "## 접근 과정\n",
        "\n",
        "[https://school.programmers.co.kr/learn/courses/30/lessons/42748](https://school.programmers.co.kr/learn/courses/30/lessons/42748)\n",
        "\n",
        "기본 알고리즘. 인덱스가 1부터 시작한다는 것을 주의한다.\n",
        "\n",
        "1. 슬라이싱으로 i부터 j까지 숫자를 별도의 리스트로 뽑아낸다.\n",
        "2. 이 리스트를 정렬한다.\n",
        "3. k-1 인덱스에 해당하는 값을 반환한다.\n",
        "\n",
        "commands 변수가 2차원 리스트다. 2차원에 i, j, k 값이 담겨 있다. for문을 사용해 1차원을 벗겨내고 2차원 각 인덱스 값을 한 번에 변수에 담은다. 그러고 나서 위 번호대로 구현한다."
      ]
    },
    {
      "cell_type": "code",
      "execution_count": 1,
      "metadata": {},
      "outputs": [
        {
          "data": {
            "text/plain": [
              "[5, 6, 3]"
            ]
          },
          "execution_count": 1,
          "metadata": {},
          "output_type": "execute_result"
        }
      ],
      "source": [
        "array, commands = [1, 5, 2, 6, 3, 7, 4], [[2, 5, 3], [4, 4, 1], [1, 7, 3]]\n",
        "answer = []\n",
        "for item in commands:\n",
        "    i, j, k = item[0]-1, item[1], item[2]-1\n",
        "    temp = sorted(array[i:j])\n",
        "    answer.append(temp[k])\n",
        "answer"
      ]
    },
    {
      "cell_type": "markdown",
      "metadata": {},
      "source": [
        "## 다른 사람 코드\n",
        "\n",
        "인덱스를 지정하지 않아도 리스트 내 각 요소를 각각 변수로 받을 수 있다."
      ]
    },
    {
      "cell_type": "code",
      "execution_count": 2,
      "metadata": {},
      "outputs": [
        {
          "name": "stdout",
          "output_type": "stream",
          "text": [
            "[2, 5, 3] [4, 4, 1] [1, 7, 3]\n"
          ]
        }
      ],
      "source": [
        "commands = [[2, 5, 3], [4, 4, 1], [1, 7, 3]]\n",
        "for item in commands:\n",
        "    i, j, k = commands\n",
        "print(i, j, k)"
      ]
    },
    {
      "cell_type": "markdown",
      "metadata": {},
      "source": [
        "map과 lambda 함수를 이용해 한 줄로 구현한 코드다. map이 많이도 활용되는구나."
      ]
    },
    {
      "cell_type": "code",
      "execution_count": 3,
      "metadata": {},
      "outputs": [
        {
          "data": {
            "text/plain": [
              "[5, 6, 3]"
            ]
          },
          "execution_count": 3,
          "metadata": {},
          "output_type": "execute_result"
        }
      ],
      "source": [
        "array, commands = [1, 5, 2, 6, 3, 7, 4], [[2, 5, 3], [4, 4, 1], [1, 7, 3]]\n",
        "list(map(lambda x:sorted(array[x[0]-1:x[1]])[x[2]-1], commands))"
      ]
    }
  ],
  "metadata": {
    "kernelspec": {
      "display_name": "Python 3.9.12 ('base')",
      "language": "python",
      "name": "python3"
    },
    "language_info": {
      "codemirror_mode": {
        "name": "ipython",
        "version": 3
      },
      "file_extension": ".py",
      "mimetype": "text/x-python",
      "name": "python",
      "nbconvert_exporter": "python",
      "pygments_lexer": "ipython3",
      "version": "3.9.12"
    },
    "vscode": {
      "interpreter": {
        "hash": "38cca0c38332a56087b24af0bc80247f4fced29cb4f7f437d91dc159adec9c4e"
      }
    }
  },
  "nbformat": 4,
  "nbformat_minor": 4
}
