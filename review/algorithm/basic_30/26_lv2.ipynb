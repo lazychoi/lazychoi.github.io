{
 "cells": [
  {
   "cell_type": "raw",
   "metadata": {},
   "source": [
    "---\n",
    "title: 소수 찾기\n",
    "date: 2022/11/03\n",
    "updated: last-modified\n",
    "---"
   ]
  },
  {
   "cell_type": "markdown",
   "metadata": {},
   "source": [
    "[https://school.programmers.co.kr/learn/courses/30/lessons/12921](https://school.programmers.co.kr/learn/courses/30/lessons/12921)\n",
    "\n",
    "## 접근 과정\n",
    "\n",
    "에라토스테네스체 구현 -> 잘못 구현했다.\n",
    "\n",
    "1. 입력받은 숫자까지의 리스트 변수 생성\n",
    "1. 리스트 변수를 for문으로 돌리며 **자기보다 작은 숫자**로 나누어 떨어지면 remove() <- 요기 잘못. 자기보가 큰 배수를 모두 없애야 했다.\n",
    "\n",
    "--> 숫자가 커지면 시간이 기하급수적으로 늘어난다. --> **시간 초과**"
   ]
  },
  {
   "cell_type": "code",
   "execution_count": 4,
   "metadata": {},
   "outputs": [
    {
     "name": "stdout",
     "output_type": "stream",
     "text": [
      "[2, 3, 5, 7, 9, 11, 13, 15, 17, 19, 21, 23, 25, 27, 29, 31, 33, 35, 37, 39, 41, 43, 45, 47, 49, 51, 53, 55, 57, 59, 61, 63, 65, 67, 69, 71, 73, 75, 77, 79, 81, 83, 85, 87, 89, 91, 93, 95, 97, 99] "
     ]
    }
   ],
   "source": [
    "n = 100\n",
    "num = [ i for i in range(2, n + 1)]\n",
    "\n",
    "for i in num:\n",
    "    try:\n",
    "        for j in range(2, i):\n",
    "            if i % j == 0:\n",
    "                num.remove(i)\n",
    "    except:\n",
    "        pass\n",
    "print(num, end=' ')"
   ]
  },
  {
   "cell_type": "markdown",
   "metadata": {},
   "source": [
    "1. 자신과 같은 수가 아닌데도 나누어 떨어지면 반복을 중단하고, \n",
    "1. 나누어서 몫이 1인 경우에만 출력  --> **시간 초과**"
   ]
  },
  {
   "cell_type": "code",
   "execution_count": 5,
   "metadata": {},
   "outputs": [
    {
     "name": "stdout",
     "output_type": "stream",
     "text": [
      "2 3 5 7 11 13 17 19 23 29 31 37 41 43 47 53 59 61 67 71 73 79 83 89 97 "
     ]
    }
   ],
   "source": [
    "n = 100\n",
    "\n",
    "for i in range(2, n + 1):\n",
    "    for j in range(2, i + 1):\n",
    "        if (i != j) and (i % j == 0):\n",
    "            break\n",
    "        elif i == j:\n",
    "            print(i, end=' ')"
   ]
  },
  {
   "cell_type": "markdown",
   "metadata": {},
   "source": [
    ":::{.callout-warning}\n",
    "- 이것도 시간초과다. 이중 for문은 아예 돌리면 안 되는 건가. \n",
    "- 아니면 나눗셈 결과를 저장하고 이전과 똑같은 나눗셈은 저장된 값을 불러오도록 만들 수 있을까?\n",
    "- 매 숫자마다 이전 숫자만큼의 나눗셈을 계속한다.\n",
    "- 앞에서 했던 나눗셈을 다시 하지 않고 값을 불러올 수 있는 방법은?\n",
    ":::"
   ]
  },
  {
   "cell_type": "code",
   "execution_count": 37,
   "metadata": {},
   "outputs": [
    {
     "name": "stdout",
     "output_type": "stream",
     "text": [
      "4\n"
     ]
    }
   ],
   "source": [
    "n = 10\n",
    "result = [1 for _ in range(n + 1)]\n",
    "\n",
    "for i in range(2, n + 1):\n",
    "    for j in range(2, i): # 2부터 시작하면 2는 건너뛰어 소수가 됨\n",
    "        if i % j == 0:\n",
    "            result[i] = 0\n",
    "            break\n",
    "\n",
    "print(sum(result[2:]))\n",
    "# for i, v in enumerate(result[2:]):\n",
    "#     print(f'{i+2}->{v}', end=', ')"
   ]
  },
  {
   "cell_type": "markdown",
   "metadata": {},
   "source": [
    "## 힌트\n",
    "\n",
    "**1보다 큰 모든 자연수는 소수의 곱으로 이루어져 있다.**\n",
    "이것은 가장 기본적인 정리입니다. 이 정리가 의미하는 바는 무엇일까요? 대부분의 사람들은 소수를 구하기 위해서 2부터 차례대로 증가시켜서 나누어보는 방법을 이용할 것 입니다. 그러나 이 방식은 굉장히 비효율적인입니다. 그렇지만 1보다 큰 자연수는 소수의 곱으로 이루어져 있기 때문에 소수로만 나누면 됩니다. 예를 들어서, 10이 소수인지 아닌지를 알기 위해서 10보다 작은 소수만을 이용하면 됩니다. 실제로 10보다 작은 소수는 4개입니다. 그러니깐 4개만 이용하면 됩니다. 그리고 100이 소수인지 아닌지를 알기 위해서 99개의 자연수를 모두 이용한 것 대신에 25개의 소수만 이용하면 됩니다.\n",
    "\n",
    "**어떤 자연수 n이 있을 때, √n 보다 작은 모든 소수들로 나누어 떨어지지 않으면 n은 소수입니다.**\n",
    "언뜻 이해하기 힘들겠지만 한 번 이해하면 쉽습니다. 증명을 생략하고 예를 들겠습니다. 먼저 101이 소수인지 아닌지 판별하기 위해서 우리는 √101을 구하면 10.xxx이 됩니다. 자 10보다 작은 소수는 뭐가 있을까요? 일단 2, 3, 5, 7이 있습니다. 그런데 딱 봐도 이 4개의 소수로만 101이 나누어 떨어지지 않습니다. 그러므로 101소수입니다. 위의 방식을 이용하면 25개의 소수를 모두 이용해야 하지만 지금은 4개만 이용해도 쉽게 계산이 됩니다.\n",
    "\n",
    "2보다 큰 모든 짝수는 어차피 합성수입니다. 어차피 2로 나누어 떨어지기 때문이죠. 이 방식은 사용하지 않았습니다. 저는 위의 2가지 방식만을 이용해서 효율성 테스트를 통과했습니다.\n",
    "\n",
    "**소수를 찾기 위해서는 해당 수의 제곱근까지만 알아보면 된다**는 건 중학생 때 배운 특정 숫자의 약수 개념을 생각하면 이해가 좀 빠릅니다.\n",
    "예를 들어 24의 약수는 1, 2, 3, 4, 6, 8, 12, 24인데요, 여기서 (1, 24), (2, 12),... 등등은 곱해서 24가 되는 짝이죠.\n",
    "이렇게 약수를 확인하면 곱셈에는 서로 짝이 있다는 걸 알 수 있고, 따라서 작은 수부터 나누어지는 지 확인하면 큰 수는 굳이 확인할 필요가 없다는 것을 알 수 있습니다.\n",
    "이 때, 어떤 수를 두 수의 곱으로 표현할 때 (작은 수 * 큰 수)로 표현한다면, 작은 수 중에 가장 큰 수는 해당 숫자의 제곱근이 될겁니다. (제곱근은 특정 수의 1/2 제곱이니까요)\n",
    "따라서 소수를 찾기 위해 특정 수를 나누어 볼 때는, 해당 수의 제곱근까지만 확인해보면 됩니다."
   ]
  },
  {
   "cell_type": "code",
   "execution_count": 7,
   "metadata": {},
   "outputs": [
    {
     "name": "stdout",
     "output_type": "stream",
     "text": [
      "CPU times: user 5 µs, sys: 0 ns, total: 5 µs\n",
      "Wall time: 6.2 µs\n"
     ]
    },
    {
     "data": {
      "text/plain": [
       "78498"
      ]
     },
     "execution_count": 7,
     "metadata": {},
     "output_type": "execute_result"
    }
   ],
   "source": [
    "%time\n",
    "n = 1_000_000\n",
    "nums = [i for i in range(n + 1)]\n",
    "nums[1] = 0\n",
    "\n",
    "end = int(n**.5) # 검사할 범위\n",
    "for i in range(end + 1): # nums[1]인 2부터 end까지\n",
    "    if nums[i] != 0: # 소수이면\n",
    "        for j in range(i+i, n+1, i): # i은 첫 번째 배수(i+i)부터 n보다 작은 배수까지 반복하며\n",
    "            nums[j] = 0 # 소수가 아닌 것으로 설정\n",
    "\n",
    "len([i for i in nums if i != 0])"
   ]
  },
  {
   "cell_type": "markdown",
   "metadata": {},
   "source": [
    "## 다른 사람 코드\n",
    "\n",
    "아래 코드는 정말 잘 짰다. for문을 한 번만 쓴 것과 집합을 이용해 전체 숫자 집합에서 배수 집합을 뺀 것을 생각해 낸 점이 대단하다. "
   ]
  },
  {
   "cell_type": "code",
   "execution_count": 16,
   "metadata": {},
   "outputs": [
    {
     "name": "stdout",
     "output_type": "stream",
     "text": [
      "CPU times: user 3 µs, sys: 1 µs, total: 4 µs\n",
      "Wall time: 5.96 µs\n"
     ]
    },
    {
     "data": {
      "text/plain": [
       "78498"
      ]
     },
     "execution_count": 16,
     "metadata": {},
     "output_type": "execute_result"
    }
   ],
   "source": [
    "%time\n",
    "num=set(range(2,n+1))\n",
    "\n",
    "for i in range(2,n+1):\n",
    "    if i in num:\n",
    "        num -= set(range(2*i, n+1, i))\n",
    "len(num)"
   ]
  },
  {
   "cell_type": "markdown",
   "metadata": {},
   "source": [
    "위 코드를 제곱근까지만 에라토스테네스 체를 적용하도록 수정하면 속도는 더 빨라져야 하는데 이상하게 더 느리다."
   ]
  },
  {
   "cell_type": "code",
   "execution_count": 18,
   "metadata": {},
   "outputs": [
    {
     "name": "stdout",
     "output_type": "stream",
     "text": [
      "CPU times: user 3 µs, sys: 1 µs, total: 4 µs\n",
      "Wall time: 8.11 µs\n"
     ]
    },
    {
     "data": {
      "text/plain": [
       "78498"
      ]
     },
     "execution_count": 18,
     "metadata": {},
     "output_type": "execute_result"
    }
   ],
   "source": [
    "%time\n",
    "num=set(range(2, n+1))\n",
    "end = int(n**.5)\n",
    "\n",
    "for i in range(2, end+1):\n",
    "    if i in num:\n",
    "        num -= set(range(2*i, n+1, i))\n",
    "len(num)"
   ]
  }
 ],
 "metadata": {
  "kernelspec": {
   "display_name": "Python 3 (ipykernel)",
   "language": "python",
   "name": "python3"
  },
  "language_info": {
   "codemirror_mode": {
    "name": "ipython",
    "version": 3
   },
   "file_extension": ".py",
   "mimetype": "text/x-python",
   "name": "python",
   "nbconvert_exporter": "python",
   "pygments_lexer": "ipython3",
   "version": "3.9.12"
  },
  "toc": {
   "base_numbering": 1,
   "nav_menu": {},
   "number_sections": true,
   "sideBar": true,
   "skip_h1_title": false,
   "title_cell": "Table of Contents",
   "title_sidebar": "Contents",
   "toc_cell": false,
   "toc_position": {
    "height": "calc(100% - 180px)",
    "left": "10px",
    "top": "150px",
    "width": "165px"
   },
   "toc_section_display": true,
   "toc_window_display": true
  },
  "varInspector": {
   "cols": {
    "lenName": 16,
    "lenType": 16,
    "lenVar": 40
   },
   "kernels_config": {
    "python": {
     "delete_cmd_postfix": "",
     "delete_cmd_prefix": "del ",
     "library": "var_list.py",
     "varRefreshCmd": "print(var_dic_list())"
    },
    "r": {
     "delete_cmd_postfix": ") ",
     "delete_cmd_prefix": "rm(",
     "library": "var_list.r",
     "varRefreshCmd": "cat(var_dic_list()) "
    }
   },
   "types_to_exclude": [
    "module",
    "function",
    "builtin_function_or_method",
    "instance",
    "_Feature"
   ],
   "window_display": false
  },
  "vscode": {
   "interpreter": {
    "hash": "38cca0c38332a56087b24af0bc80247f4fced29cb4f7f437d91dc159adec9c4e"
   }
  }
 },
 "nbformat": 4,
 "nbformat_minor": 4
}
